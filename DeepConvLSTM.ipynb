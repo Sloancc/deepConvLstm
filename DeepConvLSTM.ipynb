{
 "cells": [
  {
   "cell_type": "heading",
   "metadata": {},
   "level": 2,
   "source": [
    "Introduction"
   ]
  },
  {
   "cell_type": "raw",
   "metadata": {},
   "source": [
    "This notebook presents the architecture of DeepConvLSTM: a deep framework for wearable activity recognition based on convolutional and LSTM recurrent units. To obtain a detailed description of the architecture consult the paper \"Deep Convolutional and LSTM Recurrent Neural Networks for Multimodal Wearable Activity Recognition\"."
   ]
  },
  {
   "cell_type": "heading",
   "metadata": {},
   "level": 2,
   "source": [
    "The data"
   ]
  },
  {
   "cell_type": "raw",
   "metadata": {},
   "source": [
    "One of the benchmarks dataset employed to evaluate DeepConvLSTM is the 'OPPORTUNITY Activity Recognition Data Set'. OPPORTUNITY is a dataset devised to benchmark human activity recognition algorithms. It comprises the readings of motion sensors recorded while users executed typical daily activities and includes several annotations of gestures and modes of locomotion (visit https://archive.ics.uci.edu/ml/datasets/OPPORTUNITY+Activity+Recognition for further info). In this example DeepConvLSTM will perform recognition of sporadic gestures. This task concerns recognition of the different right-arm gestures. This is a 18 class segmentation and classification problem.\n",
    "\n",
    "The dataset must be be preprocessed prior to be feed to the neural network, in order to fill in missing values using linear interpolation and to do a per channel normalization to interval [0,1]. A Python script is provided to automatically preprocess the data, download the original OPPORTUNITY dataset if required and segment sensor data into train and test.\n"
   ]
  },
  {
   "cell_type": "raw",
   "metadata": {},
   "source": [
    "We would recommend to download the OPPORTUNITY zip file from the UCI repository and then use the script to generate the data file."
   ]
  },
  {
   "cell_type": "code",
   "execution_count": 2,
   "metadata": {},
   "outputs": [
    {
     "name": "stdout",
     "output_type": "stream",
     "text": [
      "--2017-02-17 17:31:17--  https://archive.ics.uci.edu/ml/machine-learning-databases/00226/OpportunityUCIDataset.zip\r\nResolving archive.ics.uci.edu (archive.ics.uci.edu)... 128.195.10.249\r\nConnecting to archive.ics.uci.edu (archive.ics.uci.edu)|128.195.10.249|:443... "
     ]
    },
    {
     "name": "stdout",
     "output_type": "stream",
     "text": [
      "connected.\r\n"
     ]
    },
    {
     "name": "stdout",
     "output_type": "stream",
     "text": [
      "HTTP request sent, awaiting response... "
     ]
    },
    {
     "name": "stdout",
     "output_type": "stream",
     "text": [
      "200 OK\r\nLength: 306636009 (292M) [application/zip]\r\nSaving to: ‘OpportunityUCIDataset.zip’\r\n\r\n\r          Opportuni   0%[                    ]       0  --.-KB/s               "
     ]
    },
    {
     "name": "stdout",
     "output_type": "stream",
     "text": [
      "\r         Opportunit   0%[                    ]   8.00K  39.7KB/s               "
     ]
    },
    {
     "name": "stdout",
     "output_type": "stream",
     "text": [
      "\r        Opportunity   0%[                    ]  40.00K  91.5KB/s               "
     ]
    },
    {
     "name": "stdout",
     "output_type": "stream",
     "text": [
      "\r       OpportunityU   0%[                    ]  72.00K  90.3KB/s               "
     ]
    },
    {
     "name": "stdout",
     "output_type": "stream",
     "text": [
      "\r      OpportunityUC   0%[                    ] 152.00K   147KB/s               "
     ]
    },
    {
     "name": "stdout",
     "output_type": "stream",
     "text": [
      "\r     OpportunityUCI   0%[                    ] 216.00K   155KB/s               "
     ]
    },
    {
     "name": "stdout",
     "output_type": "stream",
     "text": [
      "\r    OpportunityUCID   0%[                    ] 360.00K   221KB/s               "
     ]
    },
    {
     "name": "stdout",
     "output_type": "stream",
     "text": [
      "\r   OpportunityUCIDa   0%[                    ] 488.00K   245KB/s               "
     ]
    },
    {
     "name": "stdout",
     "output_type": "stream",
     "text": [
      "\r  OpportunityUCIDat   0%[                    ] 712.00K   325KB/s               "
     ]
    },
    {
     "name": "stdout",
     "output_type": "stream",
     "text": [
      "\r OpportunityUCIData   0%[                    ] 936.00K   387KB/s               "
     ]
    },
    {
     "name": "stdout",
     "output_type": "stream",
     "text": [
      "\rOpportunityUCIDatas   0%[                    ]   1.18M   434KB/s               "
     ]
    },
    {
     "name": "stdout",
     "output_type": "stream",
     "text": [
      "\rpportunityUCIDatase   0%[                    ]   1.52M   523KB/s               "
     ]
    },
    {
     "name": "stdout",
     "output_type": "stream",
     "text": [
      "\rportunityUCIDataset   0%[                    ]   1.96M   631KB/s    eta 7m 51s "
     ]
    },
    {
     "name": "stdout",
     "output_type": "stream",
     "text": [
      "\rortunityUCIDataset.   0%[                    ]   2.43M   731KB/s    eta 7m 51s "
     ]
    },
    {
     "name": "stdout",
     "output_type": "stream",
     "text": [
      "\rrtunityUCIDataset.z   1%[                    ]   3.02M   857KB/s    eta 7m 51s "
     ]
    },
    {
     "name": "stdout",
     "output_type": "stream",
     "text": [
      "\rtunityUCIDataset.zi   1%[                    ]   3.74M  1005KB/s    eta 7m 51s "
     ]
    },
    {
     "name": "stdout",
     "output_type": "stream",
     "text": [
      "\runityUCIDataset.zip   1%[                    ]   4.59M  1.13MB/s    eta 7m 51s "
     ]
    },
    {
     "name": "stdout",
     "output_type": "stream",
     "text": [
      "\rnityUCIDataset.zip    1%[                    ]   5.60M  1.38MB/s    eta 3m 37s "
     ]
    },
    {
     "name": "stdout",
     "output_type": "stream",
     "text": [
      "\rityUCIDataset.zip     2%[                    ]   6.98M  1.72MB/s    eta 3m 37s "
     ]
    },
    {
     "name": "stdout",
     "output_type": "stream",
     "text": [
      "\rtyUCIDataset.zip      2%[                    ]   7.96M  1.97MB/s    eta 3m 37s "
     ]
    },
    {
     "name": "stdout",
     "output_type": "stream",
     "text": [
      "\ryUCIDataset.zip       3%[                    ]   8.82M  1.95MB/s    eta 3m 1s  "
     ]
    },
    {
     "name": "stdout",
     "output_type": "stream",
     "text": [
      "\rUCIDataset.zip        3%[                    ]   9.62M  1.99MB/s    eta 3m 1s  "
     ]
    },
    {
     "name": "stdout",
     "output_type": "stream",
     "text": [
      "\rCIDataset.zip         4%[                    ]  11.88M  2.46MB/s    eta 3m 1s  "
     ]
    },
    {
     "name": "stdout",
     "output_type": "stream",
     "text": [
      "\rIDataset.zip          4%[                    ]  12.43M  2.53MB/s    eta 2m 31s "
     ]
    },
    {
     "name": "stdout",
     "output_type": "stream",
     "text": [
      "\rDataset.zip           4%[                    ]  13.04M  2.63MB/s    eta 2m 31s "
     ]
    },
    {
     "name": "stdout",
     "output_type": "stream",
     "text": [
      "\rataset.zip            4%[                    ]  13.71M  2.74MB/s    eta 2m 31s "
     ]
    },
    {
     "name": "stdout",
     "output_type": "stream",
     "text": [
      "\rtaset.zip             4%[                    ]  14.35M  2.84MB/s    eta 2m 31s "
     ]
    },
    {
     "name": "stdout",
     "output_type": "stream",
     "text": [
      "\raset.zip              5%[>                   ]  15.07M  2.94MB/s    eta 2m 31s "
     ]
    },
    {
     "name": "stdout",
     "output_type": "stream",
     "text": [
      "\rset.zip               5%[>                   ]  15.71M  2.73MB/s    eta 2m 26s "
     ]
    },
    {
     "name": "stdout",
     "output_type": "stream",
     "text": [
      "\ret.zip                5%[>                   ]  17.15M  2.93MB/s    eta 2m 26s "
     ]
    },
    {
     "name": "stdout",
     "output_type": "stream",
     "text": [
      "\rt.zip                 6%[>                   ]  17.62M  2.93MB/s    eta 2m 26s "
     ]
    },
    {
     "name": "stdout",
     "output_type": "stream",
     "text": [
      "\r.zip                  6%[>                   ]  18.13M  2.91MB/s    eta 2m 26s "
     ]
    },
    {
     "name": "stdout",
     "output_type": "stream",
     "text": [
      "\rzip                   6%[>                   ]  18.65M  2.89MB/s    eta 2m 26s "
     ]
    },
    {
     "name": "stdout",
     "output_type": "stream",
     "text": [
      "\rip                    6%[>                   ]  19.18M  2.84MB/s    eta 2m 12s "
     ]
    },
    {
     "name": "stdout",
     "output_type": "stream",
     "text": [
      "\rp                     6%[>                   ]  19.68M  2.49MB/s    eta 2m 12s "
     ]
    },
    {
     "name": "stdout",
     "output_type": "stream",
     "text": [
      "\r                      6%[>                   ]  20.18M  2.43MB/s    eta 2m 12s "
     ]
    },
    {
     "name": "stdout",
     "output_type": "stream",
     "text": [
      "\r                  O   7%[>                   ]  20.70M  2.46MB/s    eta 2m 12s "
     ]
    },
    {
     "name": "stdout",
     "output_type": "stream",
     "text": [
      "\r                 Op   7%[>                   ]  21.26M  2.68MB/s    eta 2m 12s "
     ]
    },
    {
     "name": "stdout",
     "output_type": "stream",
     "text": [
      "\r                Opp   7%[>                   ]  21.83M  2.64MB/s    eta 2m 10s "
     ]
    },
    {
     "name": "stdout",
     "output_type": "stream",
     "text": [
      "\r               Oppo   7%[>                   ]  22.40M  2.90MB/s    eta 2m 10s "
     ]
    },
    {
     "name": "stdout",
     "output_type": "stream",
     "text": [
      "\r              Oppor   7%[>                   ]  22.96M  2.52MB/s    eta 2m 10s "
     ]
    },
    {
     "name": "stdout",
     "output_type": "stream",
     "text": [
      "\r             Opport   8%[>                   ]  23.52M  2.52MB/s    eta 2m 10s "
     ]
    },
    {
     "name": "stdout",
     "output_type": "stream",
     "text": [
      "\r            Opportu   8%[>                   ]  24.07M  2.43MB/s    eta 2m 10s "
     ]
    },
    {
     "name": "stdout",
     "output_type": "stream",
     "text": [
      "\r           Opportun   8%[>                   ]  24.59M  2.42MB/s    eta 2m 7s  "
     ]
    },
    {
     "name": "stdout",
     "output_type": "stream",
     "text": [
      "\r          Opportuni   8%[>                   ]  25.13M  2.39MB/s    eta 2m 7s  "
     ]
    },
    {
     "name": "stdout",
     "output_type": "stream",
     "text": [
      "\r         Opportunit   8%[>                   ]  25.70M  2.38MB/s    eta 2m 7s  "
     ]
    },
    {
     "name": "stdout",
     "output_type": "stream",
     "text": [
      "\r        Opportunity   8%[>                   ]  26.24M  2.65MB/s    eta 2m 7s  "
     ]
    },
    {
     "name": "stdout",
     "output_type": "stream",
     "text": [
      "\r       OpportunityU   9%[>                   ]  26.85M  2.45MB/s    eta 2m 7s  "
     ]
    },
    {
     "name": "stdout",
     "output_type": "stream",
     "text": [
      "\r      OpportunityUC   9%[>                   ]  27.45M  2.49MB/s    eta 2m 2s  "
     ]
    },
    {
     "name": "stdout",
     "output_type": "stream",
     "text": [
      "\r     OpportunityUCI   9%[>                   ]  28.02M  2.53MB/s    eta 2m 2s  "
     ]
    },
    {
     "name": "stdout",
     "output_type": "stream",
     "text": [
      "\r    OpportunityUCID   9%[>                   ]  28.62M  2.56MB/s    eta 2m 2s  "
     ]
    },
    {
     "name": "stdout",
     "output_type": "stream",
     "text": [
      "\r   OpportunityUCIDa   9%[>                   ]  29.13M  2.56MB/s    eta 2m 2s  "
     ]
    },
    {
     "name": "stdout",
     "output_type": "stream",
     "text": [
      "\r  OpportunityUCIDat  10%[=>                  ]  29.65M  2.57MB/s    eta 2m 2s  "
     ]
    },
    {
     "name": "stdout",
     "output_type": "stream",
     "text": [
      "\r OpportunityUCIData  10%[=>                  ]  30.16M  2.52MB/s    eta 2m 0s  "
     ]
    },
    {
     "name": "stdout",
     "output_type": "stream",
     "text": [
      "\rOpportunityUCIDatas  10%[=>                  ]  30.70M  2.53MB/s    eta 2m 0s  "
     ]
    },
    {
     "name": "stdout",
     "output_type": "stream",
     "text": [
      "\rpportunityUCIDatase  10%[=>                  ]  31.24M  2.53MB/s    eta 2m 0s  "
     ]
    },
    {
     "name": "stdout",
     "output_type": "stream",
     "text": [
      "\rportunityUCIDataset  10%[=>                  ]  31.77M  2.54MB/s    eta 2m 0s  "
     ]
    },
    {
     "name": "stdout",
     "output_type": "stream",
     "text": [
      "\rortunityUCIDataset.  11%[=>                  ]  32.34M  2.55MB/s    eta 2m 0s  "
     ]
    },
    {
     "name": "stdout",
     "output_type": "stream",
     "text": [
      "\rrtunityUCIDataset.z  11%[=>                  ]  32.91M  2.57MB/s    eta 1m 57s "
     ]
    },
    {
     "name": "stdout",
     "output_type": "stream",
     "text": [
      "\rtunityUCIDataset.zi  11%[=>                  ]  33.46M  2.59MB/s    eta 1m 57s "
     ]
    },
    {
     "name": "stdout",
     "output_type": "stream",
     "text": [
      "\runityUCIDataset.zip  11%[=>                  ]  34.07M  2.61MB/s    eta 1m 57s "
     ]
    },
    {
     "name": "stdout",
     "output_type": "stream",
     "text": [
      "\rnityUCIDataset.zip   11%[=>                  ]  34.65M  2.63MB/s    eta 1m 57s "
     ]
    },
    {
     "name": "stdout",
     "output_type": "stream",
     "text": [
      "\rityUCIDataset.zip    12%[=>                  ]  35.21M  2.65MB/s    eta 1m 57s "
     ]
    },
    {
     "name": "stdout",
     "output_type": "stream",
     "text": [
      "\rtyUCIDataset.zip     12%[=>                  ]  35.77M  2.59MB/s    eta 1m 54s "
     ]
    },
    {
     "name": "stdout",
     "output_type": "stream",
     "text": [
      "\ryUCIDataset.zip      12%[=>                  ]  36.30M  2.57MB/s    eta 1m 54s "
     ]
    },
    {
     "name": "stdout",
     "output_type": "stream",
     "text": [
      "\rUCIDataset.zip       12%[=>                  ]  36.87M  2.56MB/s    eta 1m 54s "
     ]
    },
    {
     "name": "stdout",
     "output_type": "stream",
     "text": [
      "\rCIDataset.zip        12%[=>                  ]  37.41M  2.57MB/s    eta 1m 54s "
     ]
    },
    {
     "name": "stdout",
     "output_type": "stream",
     "text": [
      "\rIDataset.zip         12%[=>                  ]  37.99M  2.58MB/s    eta 1m 54s "
     ]
    },
    {
     "name": "stdout",
     "output_type": "stream",
     "text": [
      "\rDataset.zip          13%[=>                  ]  38.58M  2.60MB/s    eta 1m 52s "
     ]
    },
    {
     "name": "stdout",
     "output_type": "stream",
     "text": [
      "\rataset.zip           13%[=>                  ]  39.21M  2.64MB/s    eta 1m 52s "
     ]
    },
    {
     "name": "stdout",
     "output_type": "stream",
     "text": [
      "\rtaset.zip            13%[=>                  ]  39.80M  2.66MB/s    eta 1m 52s "
     ]
    },
    {
     "name": "stdout",
     "output_type": "stream",
     "text": [
      "\raset.zip             13%[=>                  ]  40.40M  2.68MB/s    eta 1m 52s "
     ]
    },
    {
     "name": "stdout",
     "output_type": "stream",
     "text": [
      "\rset.zip              14%[=>                  ]  40.98M  2.69MB/s    eta 1m 52s "
     ]
    },
    {
     "name": "stdout",
     "output_type": "stream",
     "text": [
      "\ret.zip               14%[=>                  ]  41.01M  2.38MB/s    eta 1m 52s "
     ]
    },
    {
     "name": "stdout",
     "output_type": "stream",
     "text": [
      "\rt.zip                14%[=>                  ]  42.29M  2.57MB/s    eta 1m 52s "
     ]
    },
    {
     "name": "stdout",
     "output_type": "stream",
     "text": [
      "\r.zip                 14%[=>                  ]  42.70M  2.52MB/s    eta 1m 52s "
     ]
    },
    {
     "name": "stdout",
     "output_type": "stream",
     "text": [
      "\rzip                  14%[=>                  ]  43.12M  2.49MB/s    eta 1m 52s "
     ]
    },
    {
     "name": "stdout",
     "output_type": "stream",
     "text": [
      "\rip                   14%[=>                  ]  43.56M  2.45MB/s    eta 1m 52s "
     ]
    },
    {
     "name": "stdout",
     "output_type": "stream",
     "text": [
      "\rp                    15%[==>                 ]  44.04M  2.44MB/s    eta 1m 49s "
     ]
    },
    {
     "name": "stdout",
     "output_type": "stream",
     "text": [
      "\r                     15%[==>                 ]  44.52M  2.43MB/s    eta 1m 49s "
     ]
    },
    {
     "name": "stdout",
     "output_type": "stream",
     "text": [
      "\r                  O  15%[==>                 ]  45.05M  2.41MB/s    eta 1m 49s "
     ]
    },
    {
     "name": "stdout",
     "output_type": "stream",
     "text": [
      "\r                 Op  15%[==>                 ]  45.59M  2.42MB/s    eta 1m 49s "
     ]
    },
    {
     "name": "stdout",
     "output_type": "stream",
     "text": [
      "\r                Opp  15%[==>                 ]  46.15M  2.43MB/s    eta 1m 49s "
     ]
    },
    {
     "name": "stdout",
     "output_type": "stream",
     "text": [
      "\r               Oppo  15%[==>                 ]  46.71M  2.44MB/s    eta 1m 47s "
     ]
    },
    {
     "name": "stdout",
     "output_type": "stream",
     "text": [
      "\r              Oppor  16%[==>                 ]  47.24M  2.42MB/s    eta 1m 47s "
     ]
    },
    {
     "name": "stdout",
     "output_type": "stream",
     "text": [
      "\r             Opport  16%[==>                 ]  47.76M  2.42MB/s    eta 1m 47s "
     ]
    },
    {
     "name": "stdout",
     "output_type": "stream",
     "text": [
      "\r            Opportu  16%[==>                 ]  48.29M  2.42MB/s    eta 1m 47s "
     ]
    },
    {
     "name": "stdout",
     "output_type": "stream",
     "text": [
      "\r           Opportun  16%[==>                 ]  48.84M  2.39MB/s    eta 1m 47s "
     ]
    },
    {
     "name": "stdout",
     "output_type": "stream",
     "text": [
      "\r          Opportuni  16%[==>                 ]  49.37M  2.37MB/s    eta 1m 46s "
     ]
    },
    {
     "name": "stdout",
     "output_type": "stream",
     "text": [
      "\r         Opportunit  17%[==>                 ]  49.91M  2.34MB/s    eta 1m 46s "
     ]
    },
    {
     "name": "stdout",
     "output_type": "stream",
     "text": [
      "\r        Opportunity  17%[==>                 ]  50.46M  2.35MB/s    eta 1m 46s "
     ]
    },
    {
     "name": "stdout",
     "output_type": "stream",
     "text": [
      "\r       OpportunityU  17%[==>                 ]  51.01M  2.43MB/s    eta 1m 46s "
     ]
    },
    {
     "name": "stdout",
     "output_type": "stream",
     "text": [
      "\r      OpportunityUC  17%[==>                 ]  51.57M  2.45MB/s    eta 1m 46s "
     ]
    },
    {
     "name": "stdout",
     "output_type": "stream",
     "text": [
      "\r     OpportunityUCI  17%[==>                 ]  52.15M  2.52MB/s    eta 1m 44s "
     ]
    },
    {
     "name": "stdout",
     "output_type": "stream",
     "text": [
      "\r    OpportunityUCID  18%[==>                 ]  52.74M  2.56MB/s    eta 1m 44s "
     ]
    },
    {
     "name": "stdout",
     "output_type": "stream",
     "text": [
      "\r   OpportunityUCIDa  18%[==>                 ]  53.37M  2.61MB/s    eta 1m 44s "
     ]
    },
    {
     "name": "stdout",
     "output_type": "stream",
     "text": [
      "\r  OpportunityUCIDat  18%[==>                 ]  53.91M  2.64MB/s    eta 1m 44s "
     ]
    },
    {
     "name": "stdout",
     "output_type": "stream",
     "text": [
      "\r OpportunityUCIData  18%[==>                 ]  54.48M  2.66MB/s    eta 1m 44s "
     ]
    },
    {
     "name": "stdout",
     "output_type": "stream",
     "text": [
      "\rOpportunityUCIDatas  18%[==>                 ]  55.10M  2.72MB/s    eta 1m 42s "
     ]
    },
    {
     "name": "stdout",
     "output_type": "stream",
     "text": [
      "\rpportunityUCIDatase  19%[==>                 ]  55.73M  2.73MB/s    eta 1m 42s "
     ]
    },
    {
     "name": "stdout",
     "output_type": "stream",
     "text": [
      "\rportunityUCIDataset  19%[==>                 ]  56.30M  2.72MB/s    eta 1m 42s "
     ]
    },
    {
     "name": "stdout",
     "output_type": "stream",
     "text": [
      "\rortunityUCIDataset.  19%[==>                 ]  56.87M  2.79MB/s    eta 1m 42s "
     ]
    },
    {
     "name": "stdout",
     "output_type": "stream",
     "text": [
      "\rrtunityUCIDataset.z  19%[==>                 ]  57.37M  2.61MB/s    eta 1m 41s "
     ]
    },
    {
     "name": "stdout",
     "output_type": "stream",
     "text": [
      "\rtunityUCIDataset.zi  19%[==>                 ]  57.90M  2.54MB/s    eta 1m 41s "
     ]
    },
    {
     "name": "stdout",
     "output_type": "stream",
     "text": [
      "\runityUCIDataset.zip  20%[===>                ]  58.70M  2.54MB/s    eta 1m 41s "
     ]
    },
    {
     "name": "stdout",
     "output_type": "stream",
     "text": [
      "\rnityUCIDataset.zip   20%[===>                ]  59.13M  2.59MB/s    eta 1m 41s "
     ]
    },
    {
     "name": "stdout",
     "output_type": "stream",
     "text": [
      "\rityUCIDataset.zip    20%[===>                ]  59.55M  2.49MB/s    eta 1m 41s "
     ]
    },
    {
     "name": "stdout",
     "output_type": "stream",
     "text": [
      "\rtyUCIDataset.zip     20%[===>                ]  60.04M  2.45MB/s    eta 1m 40s "
     ]
    },
    {
     "name": "stdout",
     "output_type": "stream",
     "text": [
      "\ryUCIDataset.zip      20%[===>                ]  60.51M  2.42MB/s    eta 1m 40s "
     ]
    },
    {
     "name": "stdout",
     "output_type": "stream",
     "text": [
      "\rUCIDataset.zip       20%[===>                ]  61.02M  2.49MB/s    eta 1m 40s "
     ]
    },
    {
     "name": "stdout",
     "output_type": "stream",
     "text": [
      "\rCIDataset.zip        21%[===>                ]  61.52M  2.47MB/s    eta 1m 40s "
     ]
    },
    {
     "name": "stdout",
     "output_type": "stream",
     "text": [
      "\rIDataset.zip         21%[===>                ]  62.07M  2.47MB/s    eta 1m 40s "
     ]
    },
    {
     "name": "stdout",
     "output_type": "stream",
     "text": [
      "\rDataset.zip          21%[===>                ]  62.62M  2.41MB/s    eta 98s    "
     ]
    },
    {
     "name": "stdout",
     "output_type": "stream",
     "text": [
      "\rataset.zip           21%[===>                ]  63.12M  2.36MB/s    eta 98s    "
     ]
    },
    {
     "name": "stdout",
     "output_type": "stream",
     "text": [
      "\rtaset.zip            21%[===>                ]  63.63M  2.39MB/s    eta 98s    "
     ]
    },
    {
     "name": "stdout",
     "output_type": "stream",
     "text": [
      "\raset.zip             21%[===>                ]  64.20M  2.37MB/s    eta 98s    "
     ]
    },
    {
     "name": "stdout",
     "output_type": "stream",
     "text": [
      "\rset.zip              22%[===>                ]  64.71M  2.32MB/s    eta 98s    "
     ]
    },
    {
     "name": "stdout",
     "output_type": "stream",
     "text": [
      "\ret.zip               22%[===>                ]  65.24M  2.34MB/s    eta 97s    "
     ]
    },
    {
     "name": "stdout",
     "output_type": "stream",
     "text": [
      "\rt.zip                22%[===>                ]  65.82M  2.37MB/s    eta 97s    "
     ]
    },
    {
     "name": "stdout",
     "output_type": "stream",
     "text": [
      "\r.zip                 22%[===>                ]  66.40M  2.35MB/s    eta 97s    "
     ]
    },
    {
     "name": "stdout",
     "output_type": "stream",
     "text": [
      "\rzip                  22%[===>                ]  67.02M  2.40MB/s    eta 97s    "
     ]
    },
    {
     "name": "stdout",
     "output_type": "stream",
     "text": [
      "\rip                   23%[===>                ]  67.62M  2.51MB/s    eta 97s    "
     ]
    },
    {
     "name": "stdout",
     "output_type": "stream",
     "text": [
      "\rp                    23%[===>                ]  68.21M  2.54MB/s    eta 95s    "
     ]
    },
    {
     "name": "stdout",
     "output_type": "stream",
     "text": [
      "\r                     23%[===>                ]  68.79M  2.61MB/s    eta 95s    "
     ]
    },
    {
     "name": "stdout",
     "output_type": "stream",
     "text": [
      "\r                  O  23%[===>                ]  69.40M  2.65MB/s    eta 95s    "
     ]
    },
    {
     "name": "stdout",
     "output_type": "stream",
     "text": [
      "\r                 Op  23%[===>                ]  69.96M  2.63MB/s    eta 95s    "
     ]
    },
    {
     "name": "stdout",
     "output_type": "stream",
     "text": [
      "\r                Opp  24%[===>                ]  70.52M  2.61MB/s    eta 95s    "
     ]
    },
    {
     "name": "stdout",
     "output_type": "stream",
     "text": [
      "\r               Oppo  24%[===>                ]  71.12M  2.71MB/s    eta 93s    "
     ]
    },
    {
     "name": "stdout",
     "output_type": "stream",
     "text": [
      "\r              Oppor  24%[===>                ]  71.68M  2.67MB/s    eta 93s    "
     ]
    },
    {
     "name": "stdout",
     "output_type": "stream",
     "text": [
      "\r             Opport  24%[===>                ]  72.24M  2.64MB/s    eta 93s    "
     ]
    },
    {
     "name": "stdout",
     "output_type": "stream",
     "text": [
      "\r            Opportu  24%[===>                ]  72.84M  2.65MB/s    eta 93s    "
     ]
    },
    {
     "name": "stdout",
     "output_type": "stream",
     "text": [
      "\r           Opportun  25%[====>               ]  73.40M  2.69MB/s    eta 93s    "
     ]
    },
    {
     "name": "stdout",
     "output_type": "stream",
     "text": [
      "\r          Opportuni  25%[====>               ]  73.74M  2.41MB/s    eta 93s    "
     ]
    },
    {
     "name": "stdout",
     "output_type": "stream",
     "text": [
      "\r         Opportunit  25%[====>               ]  75.07M  2.57MB/s    eta 93s    "
     ]
    },
    {
     "name": "stdout",
     "output_type": "stream",
     "text": [
      "\r        Opportunity  25%[====>               ]  75.48M  2.52MB/s    eta 93s    "
     ]
    },
    {
     "name": "stdout",
     "output_type": "stream",
     "text": [
      "\r       OpportunityU  25%[====>               ]  75.93M  2.55MB/s    eta 93s    "
     ]
    },
    {
     "name": "stdout",
     "output_type": "stream",
     "text": [
      "\r      OpportunityUC  26%[====>               ]  76.37M  2.47MB/s    eta 93s    "
     ]
    },
    {
     "name": "stdout",
     "output_type": "stream",
     "text": [
      "\r     OpportunityUCI  26%[====>               ]  76.87M  2.45MB/s    eta 91s    "
     ]
    },
    {
     "name": "stdout",
     "output_type": "stream",
     "text": [
      "\r    OpportunityUCID  26%[====>               ]  77.38M  2.43MB/s    eta 91s    "
     ]
    },
    {
     "name": "stdout",
     "output_type": "stream",
     "text": [
      "\r   OpportunityUCIDa  26%[====>               ]  77.94M  2.50MB/s    eta 91s    "
     ]
    },
    {
     "name": "stdout",
     "output_type": "stream",
     "text": [
      "\r  OpportunityUCIDat  26%[====>               ]  78.48M  2.49MB/s    eta 91s    "
     ]
    },
    {
     "name": "stdout",
     "output_type": "stream",
     "text": [
      "\r OpportunityUCIData  27%[====>               ]  78.98M  2.43MB/s    eta 91s    "
     ]
    },
    {
     "name": "stdout",
     "output_type": "stream",
     "text": [
      "\rOpportunityUCIDatas  27%[====>               ]  79.49M  2.38MB/s    eta 90s    "
     ]
    },
    {
     "name": "stdout",
     "output_type": "stream",
     "text": [
      "\rpportunityUCIDatase  27%[====>               ]  80.01M  2.40MB/s    eta 90s    "
     ]
    },
    {
     "name": "stdout",
     "output_type": "stream",
     "text": [
      "\rportunityUCIDataset  27%[====>               ]  80.59M  2.36MB/s    eta 90s    "
     ]
    },
    {
     "name": "stdout",
     "output_type": "stream",
     "text": [
      "\rortunityUCIDataset.  27%[====>               ]  81.12M  2.29MB/s    eta 90s    "
     ]
    },
    {
     "name": "stdout",
     "output_type": "stream",
     "text": [
      "\rrtunityUCIDataset.z  27%[====>               ]  81.67M  2.36MB/s    eta 90s    "
     ]
    },
    {
     "name": "stdout",
     "output_type": "stream",
     "text": [
      "\rtunityUCIDataset.zi  28%[====>               ]  82.21M  2.33MB/s    eta 89s    "
     ]
    },
    {
     "name": "stdout",
     "output_type": "stream",
     "text": [
      "\runityUCIDataset.zip  28%[====>               ]  82.77M  2.35MB/s    eta 89s    "
     ]
    },
    {
     "name": "stdout",
     "output_type": "stream",
     "text": [
      "\rnityUCIDataset.zip   28%[====>               ]  83.38M  2.40MB/s    eta 89s    "
     ]
    },
    {
     "name": "stdout",
     "output_type": "stream",
     "text": [
      "\rityUCIDataset.zip    28%[====>               ]  83.98M  2.50MB/s    eta 89s    "
     ]
    },
    {
     "name": "stdout",
     "output_type": "stream",
     "text": [
      "\rtyUCIDataset.zip     28%[====>               ]  84.60M  2.54MB/s    eta 89s    "
     ]
    },
    {
     "name": "stdout",
     "output_type": "stream",
     "text": [
      "\ryUCIDataset.zip      29%[====>               ]  85.21M  2.59MB/s    eta 87s    "
     ]
    },
    {
     "name": "stdout",
     "output_type": "stream",
     "text": [
      "\rUCIDataset.zip       29%[====>               ]  85.77M  2.58MB/s    eta 87s    "
     ]
    },
    {
     "name": "stdout",
     "output_type": "stream",
     "text": [
      "\rCIDataset.zip        29%[====>               ]  86.34M  2.61MB/s    eta 87s    "
     ]
    },
    {
     "name": "stdout",
     "output_type": "stream",
     "text": [
      "\rIDataset.zip         29%[====>               ]  86.88M  2.62MB/s    eta 87s    "
     ]
    },
    {
     "name": "stdout",
     "output_type": "stream",
     "text": [
      "\rDataset.zip          29%[====>               ]  87.46M  2.63MB/s    eta 87s    "
     ]
    },
    {
     "name": "stdout",
     "output_type": "stream",
     "text": [
      "\rataset.zip           30%[=====>              ]  88.05M  2.71MB/s    eta 85s    "
     ]
    },
    {
     "name": "stdout",
     "output_type": "stream",
     "text": [
      "\rtaset.zip            30%[=====>              ]  88.62M  2.65MB/s    eta 85s    "
     ]
    },
    {
     "name": "stdout",
     "output_type": "stream",
     "text": [
      "\raset.zip             30%[=====>              ]  89.18M  2.65MB/s    eta 85s    "
     ]
    },
    {
     "name": "stdout",
     "output_type": "stream",
     "text": [
      "\rset.zip              30%[=====>              ]  89.76M  2.66MB/s    eta 85s    "
     ]
    },
    {
     "name": "stdout",
     "output_type": "stream",
     "text": [
      "\ret.zip               30%[=====>              ]  90.10M  2.46MB/s    eta 85s    "
     ]
    },
    {
     "name": "stdout",
     "output_type": "stream",
     "text": [
      "\rt.zip                31%[=====>              ]  91.43M  2.65MB/s    eta 85s    "
     ]
    },
    {
     "name": "stdout",
     "output_type": "stream",
     "text": [
      "\r.zip                 31%[=====>              ]  91.84M  2.59MB/s    eta 85s    "
     ]
    },
    {
     "name": "stdout",
     "output_type": "stream",
     "text": [
      "\rzip                  31%[=====>              ]  92.26M  2.52MB/s    eta 85s    "
     ]
    },
    {
     "name": "stdout",
     "output_type": "stream",
     "text": [
      "\rip                   31%[=====>              ]  92.70M  2.54MB/s    eta 85s    "
     ]
    },
    {
     "name": "stdout",
     "output_type": "stream",
     "text": [
      "\rp                    31%[=====>              ]  93.15M  2.50MB/s    eta 83s    "
     ]
    },
    {
     "name": "stdout",
     "output_type": "stream",
     "text": [
      "\r                     32%[=====>              ]  93.63M  2.44MB/s    eta 83s    "
     ]
    },
    {
     "name": "stdout",
     "output_type": "stream",
     "text": [
      "\r                  O  32%[=====>              ]  94.10M  2.40MB/s    eta 83s    "
     ]
    },
    {
     "name": "stdout",
     "output_type": "stream",
     "text": [
      "\r                 Op  32%[=====>              ]  94.63M  2.39MB/s    eta 83s    "
     ]
    },
    {
     "name": "stdout",
     "output_type": "stream",
     "text": [
      "\r                Opp  32%[=====>              ]  95.17M  2.45MB/s    eta 83s    "
     ]
    },
    {
     "name": "stdout",
     "output_type": "stream",
     "text": [
      "\r               Oppo  32%[=====>              ]  95.71M  2.44MB/s    eta 82s    "
     ]
    },
    {
     "name": "stdout",
     "output_type": "stream",
     "text": [
      "\r              Oppor  32%[=====>              ]  96.27M  2.43MB/s    eta 82s    "
     ]
    },
    {
     "name": "stdout",
     "output_type": "stream",
     "text": [
      "\r             Opport  33%[=====>              ]  96.84M  2.43MB/s    eta 82s    "
     ]
    },
    {
     "name": "stdout",
     "output_type": "stream",
     "text": [
      "\r            Opportu  33%[=====>              ]  97.37M  2.41MB/s    eta 82s    "
     ]
    },
    {
     "name": "stdout",
     "output_type": "stream",
     "text": [
      "\r           Opportun  33%[=====>              ]  97.90M  2.36MB/s    eta 82s    "
     ]
    },
    {
     "name": "stdout",
     "output_type": "stream",
     "text": [
      "\r          Opportuni  33%[=====>              ]  98.48M  2.37MB/s    eta 81s    "
     ]
    },
    {
     "name": "stdout",
     "output_type": "stream",
     "text": [
      "\r         Opportunit  33%[=====>              ]  99.02M  2.64MB/s    eta 81s    "
     ]
    },
    {
     "name": "stdout",
     "output_type": "stream",
     "text": [
      "\r        Opportunity  34%[=====>              ]  99.57M  2.45MB/s    eta 81s    "
     ]
    },
    {
     "name": "stdout",
     "output_type": "stream",
     "text": [
      "\r       OpportunityU  34%[=====>              ] 100.12M  2.44MB/s    eta 81s    "
     ]
    },
    {
     "name": "stdout",
     "output_type": "stream",
     "text": [
      "\r      OpportunityUC  34%[=====>              ] 100.68M  2.47MB/s    eta 81s    "
     ]
    },
    {
     "name": "stdout",
     "output_type": "stream",
     "text": [
      "\r     OpportunityUCI  34%[=====>              ] 101.26M  2.47MB/s    eta 80s    "
     ]
    },
    {
     "name": "stdout",
     "output_type": "stream",
     "text": [
      "\r    OpportunityUCID  34%[=====>              ] 101.83M  2.56MB/s    eta 80s    "
     ]
    },
    {
     "name": "stdout",
     "output_type": "stream",
     "text": [
      "\r   OpportunityUCIDa  35%[======>             ] 102.40M  2.59MB/s    eta 80s    "
     ]
    },
    {
     "name": "stdout",
     "output_type": "stream",
     "text": [
      "\r  OpportunityUCIDat  35%[======>             ] 102.99M  2.63MB/s    eta 80s    "
     ]
    },
    {
     "name": "stdout",
     "output_type": "stream",
     "text": [
      "\r OpportunityUCIData  35%[======>             ] 103.55M  2.62MB/s    eta 80s    "
     ]
    },
    {
     "name": "stdout",
     "output_type": "stream",
     "text": [
      "\rOpportunityUCIDatas  35%[======>             ] 104.13M  2.65MB/s    eta 78s    "
     ]
    },
    {
     "name": "stdout",
     "output_type": "stream",
     "text": [
      "\rpportunityUCIDatase  35%[======>             ] 104.73M  2.72MB/s    eta 78s    "
     ]
    },
    {
     "name": "stdout",
     "output_type": "stream",
     "text": [
      "\rportunityUCIDataset  35%[======>             ] 105.26M  2.71MB/s    eta 78s    "
     ]
    },
    {
     "name": "stdout",
     "output_type": "stream",
     "text": [
      "\rortunityUCIDataset.  36%[======>             ] 105.85M  2.71MB/s    eta 78s    "
     ]
    },
    {
     "name": "stdout",
     "output_type": "stream",
     "text": [
      "\rrtunityUCIDataset.z  36%[======>             ] 106.43M  2.72MB/s    eta 78s    "
     ]
    },
    {
     "name": "stdout",
     "output_type": "stream",
     "text": [
      "\rtunityUCIDataset.zi  36%[======>             ] 106.49M  2.55MB/s    eta 77s    "
     ]
    },
    {
     "name": "stdout",
     "output_type": "stream",
     "text": [
      "\runityUCIDataset.zip  36%[======>             ] 107.02M  2.59MB/s    eta 77s    "
     ]
    },
    {
     "name": "stdout",
     "output_type": "stream",
     "text": [
      "\rnityUCIDataset.zip   36%[======>             ] 107.80M  2.65MB/s    eta 77s    "
     ]
    },
    {
     "name": "stdout",
     "output_type": "stream",
     "text": [
      "\rityUCIDataset.zip    37%[======>             ] 108.23M  2.60MB/s    eta 77s    "
     ]
    },
    {
     "name": "stdout",
     "output_type": "stream",
     "text": [
      "\rtyUCIDataset.zip     37%[======>             ] 108.66M  2.49MB/s    eta 77s    "
     ]
    },
    {
     "name": "stdout",
     "output_type": "stream",
     "text": [
      "\ryUCIDataset.zip      37%[======>             ] 109.10M  2.52MB/s    eta 76s    "
     ]
    },
    {
     "name": "stdout",
     "output_type": "stream",
     "text": [
      "\rUCIDataset.zip       37%[======>             ] 109.55M  2.45MB/s    eta 76s    "
     ]
    },
    {
     "name": "stdout",
     "output_type": "stream",
     "text": [
      "\rCIDataset.zip        37%[======>             ] 110.04M  2.41MB/s    eta 76s    "
     ]
    },
    {
     "name": "stdout",
     "output_type": "stream",
     "text": [
      "\rIDataset.zip         37%[======>             ] 110.52M  2.38MB/s    eta 76s    "
     ]
    },
    {
     "name": "stdout",
     "output_type": "stream",
     "text": [
      "\rDataset.zip          37%[======>             ] 111.07M  2.41MB/s    eta 76s    "
     ]
    },
    {
     "name": "stdout",
     "output_type": "stream",
     "text": [
      "\rataset.zip           38%[======>             ] 111.57M  2.37MB/s    eta 75s    "
     ]
    },
    {
     "name": "stdout",
     "output_type": "stream",
     "text": [
      "\rtaset.zip            38%[======>             ] 112.09M  2.36MB/s    eta 75s    "
     ]
    },
    {
     "name": "stdout",
     "output_type": "stream",
     "text": [
      "\raset.zip             38%[======>             ] 112.63M  2.35MB/s    eta 75s    "
     ]
    },
    {
     "name": "stdout",
     "output_type": "stream",
     "text": [
      "\rset.zip              38%[======>             ] 113.16M  2.38MB/s    eta 75s    "
     ]
    },
    {
     "name": "stdout",
     "output_type": "stream",
     "text": [
      "\ret.zip               38%[======>             ] 113.68M  2.34MB/s    eta 75s    "
     ]
    },
    {
     "name": "stdout",
     "output_type": "stream",
     "text": [
      "\rt.zip                39%[======>             ] 114.23M  2.34MB/s    eta 74s    "
     ]
    },
    {
     "name": "stdout",
     "output_type": "stream",
     "text": [
      "\r.zip                 39%[======>             ] 114.79M  2.43MB/s    eta 74s    "
     ]
    },
    {
     "name": "stdout",
     "output_type": "stream",
     "text": [
      "\rzip                  39%[======>             ] 115.34M  2.41MB/s    eta 74s    "
     ]
    },
    {
     "name": "stdout",
     "output_type": "stream",
     "text": [
      "\rip                   39%[======>             ] 115.93M  2.45MB/s    eta 74s    "
     ]
    },
    {
     "name": "stdout",
     "output_type": "stream",
     "text": [
      "\rp                    39%[======>             ] 116.49M  2.47MB/s    eta 74s    "
     ]
    },
    {
     "name": "stdout",
     "output_type": "stream",
     "text": [
      "\r                     40%[=======>            ] 117.05M  2.48MB/s    eta 73s    "
     ]
    },
    {
     "name": "stdout",
     "output_type": "stream",
     "text": [
      "\r                  O  40%[=======>            ] 117.60M  2.54MB/s    eta 73s    "
     ]
    },
    {
     "name": "stdout",
     "output_type": "stream",
     "text": [
      "\r                 Op  40%[=======>            ] 118.15M  2.55MB/s    eta 73s    "
     ]
    },
    {
     "name": "stdout",
     "output_type": "stream",
     "text": [
      "\r                Opp  40%[=======>            ] 118.71M  2.56MB/s    eta 73s    "
     ]
    },
    {
     "name": "stdout",
     "output_type": "stream",
     "text": [
      "\r               Oppo  40%[=======>            ] 119.27M  2.56MB/s    eta 73s    "
     ]
    },
    {
     "name": "stdout",
     "output_type": "stream",
     "text": [
      "\r              Oppor  40%[=======>            ] 119.84M  2.62MB/s    eta 71s    "
     ]
    },
    {
     "name": "stdout",
     "output_type": "stream",
     "text": [
      "\r             Opport  41%[=======>            ] 120.43M  2.64MB/s    eta 71s    "
     ]
    },
    {
     "name": "stdout",
     "output_type": "stream",
     "text": [
      "\r            Opportu  41%[=======>            ] 121.01M  2.64MB/s    eta 71s    "
     ]
    },
    {
     "name": "stdout",
     "output_type": "stream",
     "text": [
      "\r           Opportun  41%[=======>            ] 121.60M  2.65MB/s    eta 71s    "
     ]
    },
    {
     "name": "stdout",
     "output_type": "stream",
     "text": [
      "\r          Opportuni  41%[=======>            ] 122.20M  2.73MB/s    eta 71s    "
     ]
    },
    {
     "name": "stdout",
     "output_type": "stream",
     "text": [
      "\r         Opportunit  41%[=======>            ] 122.79M  2.74MB/s    eta 70s    "
     ]
    },
    {
     "name": "stdout",
     "output_type": "stream",
     "text": [
      "\r        Opportunity  42%[=======>            ] 122.84M  2.58MB/s    eta 70s    "
     ]
    },
    {
     "name": "stdout",
     "output_type": "stream",
     "text": [
      "\r       OpportunityU  42%[=======>            ] 123.38M  2.54MB/s    eta 70s    "
     ]
    },
    {
     "name": "stdout",
     "output_type": "stream",
     "text": [
      "\r      OpportunityUC  42%[=======>            ] 124.09M  2.52MB/s    eta 70s    "
     ]
    },
    {
     "name": "stdout",
     "output_type": "stream",
     "text": [
      "\r     OpportunityUCI  42%[=======>            ] 124.38M  2.48MB/s    eta 70s    "
     ]
    },
    {
     "name": "stdout",
     "output_type": "stream",
     "text": [
      "\r    OpportunityUCID  42%[=======>            ] 124.68M  2.40MB/s    eta 70s    "
     ]
    },
    {
     "name": "stdout",
     "output_type": "stream",
     "text": [
      "\r   OpportunityUCIDa  42%[=======>            ] 125.02M  2.35MB/s    eta 70s    "
     ]
    },
    {
     "name": "stdout",
     "output_type": "stream",
     "text": [
      "\r  OpportunityUCIDat  42%[=======>            ] 125.32M  2.26MB/s    eta 70s    "
     ]
    },
    {
     "name": "stdout",
     "output_type": "stream",
     "text": [
      "\r OpportunityUCIData  42%[=======>            ] 125.66M  2.17MB/s    eta 70s    "
     ]
    },
    {
     "name": "stdout",
     "output_type": "stream",
     "text": [
      "\rOpportunityUCIDatas  43%[=======>            ] 126.01M  2.18MB/s    eta 70s    "
     ]
    },
    {
     "name": "stdout",
     "output_type": "stream",
     "text": [
      "\rpportunityUCIDatase  43%[=======>            ] 126.37M  2.10MB/s    eta 69s    "
     ]
    },
    {
     "name": "stdout",
     "output_type": "stream",
     "text": [
      "\rportunityUCIDataset  43%[=======>            ] 126.70M  1.98MB/s    eta 69s    "
     ]
    },
    {
     "name": "stdout",
     "output_type": "stream",
     "text": [
      "\rortunityUCIDataset.  43%[=======>            ] 127.07M  1.89MB/s    eta 69s    "
     ]
    },
    {
     "name": "stdout",
     "output_type": "stream",
     "text": [
      "\rrtunityUCIDataset.z  43%[=======>            ] 127.40M  1.76MB/s    eta 69s    "
     ]
    },
    {
     "name": "stdout",
     "output_type": "stream",
     "text": [
      "\rtunityUCIDataset.zi  43%[=======>            ] 127.73M  1.77MB/s    eta 69s    "
     ]
    },
    {
     "name": "stdout",
     "output_type": "stream",
     "text": [
      "\runityUCIDataset.zip  43%[=======>            ] 128.07M  1.70MB/s    eta 69s    "
     ]
    },
    {
     "name": "stdout",
     "output_type": "stream",
     "text": [
      "\rnityUCIDataset.zip   43%[=======>            ] 128.40M  1.65MB/s    eta 69s    "
     ]
    },
    {
     "name": "stdout",
     "output_type": "stream",
     "text": [
      "\rityUCIDataset.zip    44%[=======>            ] 128.79M  1.63MB/s    eta 69s    "
     ]
    },
    {
     "name": "stdout",
     "output_type": "stream",
     "text": [
      "\rtyUCIDataset.zip     44%[=======>            ] 129.15M  1.54MB/s    eta 69s    "
     ]
    },
    {
     "name": "stdout",
     "output_type": "stream",
     "text": [
      "\ryUCIDataset.zip      44%[=======>            ] 129.54M  1.60MB/s    eta 69s    "
     ]
    },
    {
     "name": "stdout",
     "output_type": "stream",
     "text": [
      "\rUCIDataset.zip       44%[=======>            ] 129.88M  1.62MB/s    eta 69s    "
     ]
    },
    {
     "name": "stdout",
     "output_type": "stream",
     "text": [
      "\rCIDataset.zip        44%[=======>            ] 130.21M  1.60MB/s    eta 69s    "
     ]
    },
    {
     "name": "stdout",
     "output_type": "stream",
     "text": [
      "\rIDataset.zip         44%[=======>            ] 130.55M  1.59MB/s    eta 69s    "
     ]
    },
    {
     "name": "stdout",
     "output_type": "stream",
     "text": [
      "\rDataset.zip          44%[=======>            ] 130.93M  1.65MB/s    eta 69s    "
     ]
    },
    {
     "name": "stdout",
     "output_type": "stream",
     "text": [
      "\rataset.zip           44%[=======>            ] 131.27M  1.63MB/s    eta 69s    "
     ]
    },
    {
     "name": "stdout",
     "output_type": "stream",
     "text": [
      "\rtaset.zip            45%[========>           ] 131.62M  1.60MB/s    eta 69s    "
     ]
    },
    {
     "name": "stdout",
     "output_type": "stream",
     "text": [
      "\raset.zip             45%[========>           ] 131.96M  1.59MB/s    eta 69s    "
     ]
    },
    {
     "name": "stdout",
     "output_type": "stream",
     "text": [
      "\rset.zip              45%[========>           ] 132.29M  1.62MB/s    eta 69s    "
     ]
    },
    {
     "name": "stdout",
     "output_type": "stream",
     "text": [
      "\ret.zip               45%[========>           ] 132.68M  1.64MB/s    eta 69s    "
     ]
    },
    {
     "name": "stdout",
     "output_type": "stream",
     "text": [
      "\rt.zip                45%[========>           ] 133.05M  1.64MB/s    eta 69s    "
     ]
    },
    {
     "name": "stdout",
     "output_type": "stream",
     "text": [
      "\r.zip                 45%[========>           ] 133.41M  1.65MB/s    eta 68s    "
     ]
    },
    {
     "name": "stdout",
     "output_type": "stream",
     "text": [
      "\rzip                  45%[========>           ] 133.79M  1.68MB/s    eta 68s    "
     ]
    },
    {
     "name": "stdout",
     "output_type": "stream",
     "text": [
      "\rip                   45%[========>           ] 134.13M  1.65MB/s    eta 68s    "
     ]
    },
    {
     "name": "stdout",
     "output_type": "stream",
     "text": [
      "\rp                    46%[========>           ] 134.54M  1.62MB/s    eta 68s    "
     ]
    },
    {
     "name": "stdout",
     "output_type": "stream",
     "text": [
      "\r                     46%[========>           ] 134.88M  1.61MB/s    eta 68s    "
     ]
    },
    {
     "name": "stdout",
     "output_type": "stream",
     "text": [
      "\r                  O  46%[========>           ] 135.24M  1.65MB/s    eta 68s    "
     ]
    },
    {
     "name": "stdout",
     "output_type": "stream",
     "text": [
      "\r                 Op  46%[========>           ] 135.59M  1.62MB/s    eta 68s    "
     ]
    },
    {
     "name": "stdout",
     "output_type": "stream",
     "text": [
      "\r                Opp  46%[========>           ] 135.97M  1.64MB/s    eta 68s    "
     ]
    },
    {
     "name": "stdout",
     "output_type": "stream",
     "text": [
      "\r               Oppo  46%[========>           ] 136.34M  1.64MB/s    eta 68s    "
     ]
    },
    {
     "name": "stdout",
     "output_type": "stream",
     "text": [
      "\r              Oppor  46%[========>           ] 136.73M  1.69MB/s    eta 68s    "
     ]
    },
    {
     "name": "stdout",
     "output_type": "stream",
     "text": [
      "\r             Opport  46%[========>           ] 137.10M  1.68MB/s    eta 67s    "
     ]
    },
    {
     "name": "stdout",
     "output_type": "stream",
     "text": [
      "\r            Opportu  47%[========>           ] 137.49M  1.70MB/s    eta 67s    "
     ]
    },
    {
     "name": "stdout",
     "output_type": "stream",
     "text": [
      "\r           Opportun  47%[========>           ] 137.87M  1.72MB/s    eta 67s    "
     ]
    },
    {
     "name": "stdout",
     "output_type": "stream",
     "text": [
      "\r          Opportuni  47%[========>           ] 138.26M  1.72MB/s    eta 67s    "
     ]
    },
    {
     "name": "stdout",
     "output_type": "stream",
     "text": [
      "\r         Opportunit  47%[========>           ] 138.68M  1.71MB/s    eta 67s    "
     ]
    },
    {
     "name": "stdout",
     "output_type": "stream",
     "text": [
      "\r        Opportunity  47%[========>           ] 139.07M  1.70MB/s    eta 67s    "
     ]
    },
    {
     "name": "stdout",
     "output_type": "stream",
     "text": [
      "\r       OpportunityU  47%[========>           ] 139.49M  1.76MB/s    eta 67s    "
     ]
    },
    {
     "name": "stdout",
     "output_type": "stream",
     "text": [
      "\r      OpportunityUC  47%[========>           ] 139.90M  1.76MB/s    eta 67s    "
     ]
    },
    {
     "name": "stdout",
     "output_type": "stream",
     "text": [
      "\r     OpportunityUCI  47%[========>           ] 140.35M  1.78MB/s    eta 67s    "
     ]
    },
    {
     "name": "stdout",
     "output_type": "stream",
     "text": [
      "\r    OpportunityUCID  48%[========>           ] 140.84M  1.82MB/s    eta 67s    "
     ]
    },
    {
     "name": "stdout",
     "output_type": "stream",
     "text": [
      "\r   OpportunityUCIDa  48%[========>           ] 141.32M  1.86MB/s    eta 66s    "
     ]
    },
    {
     "name": "stdout",
     "output_type": "stream",
     "text": [
      "\r  OpportunityUCIDat  48%[========>           ] 141.79M  1.93MB/s    eta 66s    "
     ]
    },
    {
     "name": "stdout",
     "output_type": "stream",
     "text": [
      "\r OpportunityUCIData  48%[========>           ] 142.26M  1.92MB/s    eta 66s    "
     ]
    },
    {
     "name": "stdout",
     "output_type": "stream",
     "text": [
      "\rOpportunityUCIDatas  48%[========>           ] 142.74M  1.93MB/s    eta 66s    "
     ]
    },
    {
     "name": "stdout",
     "output_type": "stream",
     "text": [
      "\rpportunityUCIDatase  48%[========>           ] 142.79M  1.78MB/s    eta 66s    "
     ]
    },
    {
     "name": "stdout",
     "output_type": "stream",
     "text": [
      "\rportunityUCIDataset  49%[========>           ] 143.30M  1.81MB/s    eta 66s    "
     ]
    },
    {
     "name": "stdout",
     "output_type": "stream",
     "text": [
      "\rortunityUCIDataset.  49%[========>           ] 143.72M  1.49MB/s    eta 66s    "
     ]
    },
    {
     "name": "stdout",
     "output_type": "stream",
     "text": [
      "\rrtunityUCIDataset.z  49%[========>           ] 143.73M  1.37MB/s    eta 66s    "
     ]
    },
    {
     "name": "stdout",
     "output_type": "stream",
     "text": [
      "\rtunityUCIDataset.zi  49%[========>           ] 143.77M  1.29MB/s    eta 66s    "
     ]
    },
    {
     "name": "stdout",
     "output_type": "stream",
     "text": [
      "\runityUCIDataset.zip  49%[========>           ] 143.84M  1010KB/s    eta 68s    "
     ]
    },
    {
     "name": "stdout",
     "output_type": "stream",
     "text": [
      "\rnityUCIDataset.zip   49%[========>           ] 143.93M   904KB/s    eta 68s    "
     ]
    },
    {
     "name": "stdout",
     "output_type": "stream",
     "text": [
      "\rityUCIDataset.zip    49%[========>           ] 144.10M   846KB/s    eta 69s    "
     ]
    },
    {
     "name": "stdout",
     "output_type": "stream",
     "text": [
      "\rtyUCIDataset.zip     49%[========>           ] 144.29M   822KB/s    eta 69s    "
     ]
    },
    {
     "name": "stdout",
     "output_type": "stream",
     "text": [
      "\ryUCIDataset.zip      49%[========>           ] 144.37M   778KB/s    eta 69s    "
     ]
    },
    {
     "name": "stdout",
     "output_type": "stream",
     "text": [
      "\rUCIDataset.zip       49%[========>           ] 144.57M   747KB/s    eta 69s    "
     ]
    },
    {
     "name": "stdout",
     "output_type": "stream",
     "text": [
      "\rCIDataset.zip        49%[========>           ] 144.59M   676KB/s    eta 70s    "
     ]
    },
    {
     "name": "stdout",
     "output_type": "stream",
     "text": [
      "\rIDataset.zip         49%[========>           ] 144.73M   624KB/s    eta 70s    "
     ]
    },
    {
     "name": "stdout",
     "output_type": "stream",
     "text": [
      "\rDataset.zip          49%[========>           ] 144.87M   561KB/s    eta 70s    "
     ]
    },
    {
     "name": "stdout",
     "output_type": "stream",
     "text": [
      "\rataset.zip           49%[========>           ] 145.02M   483KB/s    eta 70s    "
     ]
    },
    {
     "name": "stdout",
     "output_type": "stream",
     "text": [
      "\rtaset.zip            49%[========>           ] 145.29M   492KB/s    eta 71s    "
     ]
    },
    {
     "name": "stdout",
     "output_type": "stream",
     "text": [
      "\raset.zip             49%[========>           ] 145.54M   475KB/s    eta 71s    "
     ]
    },
    {
     "name": "stdout",
     "output_type": "stream",
     "text": [
      "\rset.zip              49%[========>           ] 145.76M   397KB/s    eta 71s    "
     ]
    },
    {
     "name": "stdout",
     "output_type": "stream",
     "text": [
      "\ret.zip               49%[========>           ] 146.04M   394KB/s    eta 71s    "
     ]
    },
    {
     "name": "stdout",
     "output_type": "stream",
     "text": [
      "\rt.zip                50%[=========>          ] 146.35M   379KB/s    eta 71s    "
     ]
    },
    {
     "name": "stdout",
     "output_type": "stream",
     "text": [
      "\r.zip                 50%[=========>          ] 146.66M   360KB/s    eta 71s    "
     ]
    },
    {
     "name": "stdout",
     "output_type": "stream",
     "text": [
      "\rzip                  50%[=========>          ] 147.01M   455KB/s    eta 71s    "
     ]
    },
    {
     "name": "stdout",
     "output_type": "stream",
     "text": [
      "\rip                   50%[=========>          ] 147.37M   604KB/s    eta 71s    "
     ]
    },
    {
     "name": "stdout",
     "output_type": "stream",
     "text": [
      "\rp                    50%[=========>          ] 147.77M   713KB/s    eta 71s    "
     ]
    },
    {
     "name": "stdout",
     "output_type": "stream",
     "text": [
      "\r                     50%[=========>          ] 148.18M   773KB/s    eta 71s    "
     ]
    },
    {
     "name": "stdout",
     "output_type": "stream",
     "text": [
      "\r                  O  50%[=========>          ] 148.66M   846KB/s    eta 71s    "
     ]
    },
    {
     "name": "stdout",
     "output_type": "stream",
     "text": [
      "\r                 Op  50%[=========>          ] 149.05M   129KB/s    eta 1m 41s "
     ]
    },
    {
     "name": "stdout",
     "output_type": "stream",
     "text": [
      "\r                Opp  51%[=========>          ] 149.57M   139KB/s    eta 1m 41s "
     ]
    },
    {
     "name": "stdout",
     "output_type": "stream",
     "text": [
      "\r               Oppo  51%[=========>          ] 150.15M   152KB/s    eta 1m 41s "
     ]
    },
    {
     "name": "stdout",
     "output_type": "stream",
     "text": [
      "\r              Oppor  51%[=========>          ] 150.77M   167KB/s    eta 1m 41s "
     ]
    },
    {
     "name": "stdout",
     "output_type": "stream",
     "text": [
      "\r             Opport  51%[=========>          ] 151.03M   167KB/s    eta 1m 40s "
     ]
    },
    {
     "name": "stdout",
     "output_type": "stream",
     "text": [
      "\r            Opportu  51%[=========>          ] 151.03M   163KB/s    eta 1m 40s "
     ]
    },
    {
     "name": "stdout",
     "output_type": "stream",
     "text": [
      "\r           Opportun  51%[=========>          ] 151.03M   159KB/s    eta 1m 42s "
     ]
    },
    {
     "name": "stdout",
     "output_type": "stream",
     "text": [
      "\r          Opportuni  51%[=========>          ] 151.03M   156KB/s    eta 1m 42s "
     ]
    },
    {
     "name": "stdout",
     "output_type": "stream",
     "text": [
      "\r         Opportunit  51%[=========>          ] 151.03M   152KB/s    eta 1m 44s "
     ]
    },
    {
     "name": "stdout",
     "output_type": "stream",
     "text": [
      "\r        Opportunity  51%[=========>          ] 151.03M  --.-KB/s    eta 1m 44s "
     ]
    },
    {
     "name": "stdout",
     "output_type": "stream",
     "text": [
      "\r       OpportunityU  51%[=========>          ] 151.03M  --.-KB/s    eta 1m 45s "
     ]
    },
    {
     "name": "stdout",
     "output_type": "stream",
     "text": [
      "\r      OpportunityUC  51%[=========>          ] 151.03M  --.-KB/s    eta 1m 45s "
     ]
    },
    {
     "name": "stdout",
     "output_type": "stream",
     "text": [
      "\r     OpportunityUCI  51%[=========>          ] 151.03M  --.-KB/s    eta 1m 47s "
     ]
    },
    {
     "name": "stdout",
     "output_type": "stream",
     "text": [
      "\r    OpportunityUCID  51%[=========>          ] 151.03M  --.-KB/s    eta 1m 47s "
     ]
    },
    {
     "name": "stdout",
     "output_type": "stream",
     "text": [
      "\r   OpportunityUCIDa  51%[=========>          ] 151.03M  --.-KB/s    eta 1m 49s "
     ]
    },
    {
     "name": "stdout",
     "output_type": "stream",
     "text": [
      "\r  OpportunityUCIDat  51%[=========>          ] 151.03M  --.-KB/s    eta 1m 49s "
     ]
    },
    {
     "name": "stdout",
     "output_type": "stream",
     "text": [
      "\r OpportunityUCIData  51%[=========>          ] 151.03M  --.-KB/s    eta 1m 51s "
     ]
    },
    {
     "name": "stdout",
     "output_type": "stream",
     "text": [
      "\rOpportunityUCIDatas  51%[=========>          ] 151.03M  --.-KB/s    eta 1m 51s "
     ]
    },
    {
     "name": "stdout",
     "output_type": "stream",
     "text": [
      "\rpportunityUCIDatase  51%[=========>          ] 151.03M  --.-KB/s    eta 1m 52s "
     ]
    },
    {
     "name": "stdout",
     "output_type": "stream",
     "text": [
      "\rportunityUCIDataset  51%[=========>          ] 151.03M  --.-KB/s    eta 1m 52s "
     ]
    },
    {
     "name": "stdout",
     "output_type": "stream",
     "text": [
      "\rortunityUCIDataset.  51%[=========>          ] 151.03M  --.-KB/s    eta 1m 54s "
     ]
    },
    {
     "name": "stdout",
     "output_type": "stream",
     "text": [
      "\rrtunityUCIDataset.z  51%[=========>          ] 151.03M  --.-KB/s    eta 1m 54s "
     ]
    },
    {
     "name": "stdout",
     "output_type": "stream",
     "text": [
      "\rtunityUCIDataset.zi  51%[=========>          ] 151.03M  --.-KB/s    eta 1m 56s "
     ]
    },
    {
     "name": "stdout",
     "output_type": "stream",
     "text": [
      "\runityUCIDataset.zip  51%[=========>          ] 151.03M  --.-KB/s    eta 1m 56s "
     ]
    },
    {
     "name": "stdout",
     "output_type": "stream",
     "text": [
      "\rnityUCIDataset.zip   51%[=========>          ] 151.03M  --.-KB/s    eta 1m 58s "
     ]
    },
    {
     "name": "stdout",
     "output_type": "stream",
     "text": [
      "\rityUCIDataset.zip    51%[=========>          ] 151.03M  --.-KB/s    eta 1m 58s "
     ]
    },
    {
     "name": "stdout",
     "output_type": "stream",
     "text": [
      "\rtyUCIDataset.zip     51%[=========>          ] 151.04M  8.00KB/s    eta 1m 59s "
     ]
    },
    {
     "name": "stdout",
     "output_type": "stream",
     "text": [
      "\ryUCIDataset.zip      51%[=========>          ] 151.63M   513KB/s    eta 1m 59s "
     ]
    },
    {
     "name": "stdout",
     "output_type": "stream",
     "text": [
      "\rUCIDataset.zip       52%[=========>          ] 152.35M   966KB/s    eta 1m 59s "
     ]
    },
    {
     "name": "stdout",
     "output_type": "stream",
     "text": [
      "\rCIDataset.zip        52%[=========>          ] 152.76M   656KB/s    eta 1m 58s "
     ]
    },
    {
     "name": "stdout",
     "output_type": "stream",
     "text": [
      "\rIDataset.zip         52%[=========>          ] 153.57M   899KB/s    eta 1m 58s "
     ]
    },
    {
     "name": "stdout",
     "output_type": "stream",
     "text": [
      "\rDataset.zip          52%[=========>          ] 154.32M  1.06MB/s    eta 1m 58s "
     ]
    },
    {
     "name": "stdout",
     "output_type": "stream",
     "text": [
      "\rataset.zip           53%[=========>          ] 155.20M  1.26MB/s    eta 1m 58s "
     ]
    },
    {
     "name": "stdout",
     "output_type": "stream",
     "text": [
      "\rtaset.zip            53%[=========>          ] 155.66M   981KB/s    eta 1m 56s "
     ]
    },
    {
     "name": "stdout",
     "output_type": "stream",
     "text": [
      "\raset.zip             53%[=========>          ] 156.59M  1.10MB/s    eta 1m 56s "
     ]
    },
    {
     "name": "stdout",
     "output_type": "stream",
     "text": [
      "\rset.zip              53%[=========>          ] 157.32M   644KB/s    eta 1m 57s "
     ]
    },
    {
     "name": "stdout",
     "output_type": "stream",
     "text": [
      "\ret.zip               54%[=========>          ] 158.27M   727KB/s    eta 1m 57s "
     ]
    },
    {
     "name": "stdout",
     "output_type": "stream",
     "text": [
      "\rt.zip                54%[=========>          ] 159.37M   821KB/s    eta 1m 57s "
     ]
    },
    {
     "name": "stdout",
     "output_type": "stream",
     "text": [
      "\r.zip                 54%[=========>          ] 160.48M   913KB/s    eta 1m 57s "
     ]
    },
    {
     "name": "stdout",
     "output_type": "stream",
     "text": [
      "\rzip                  55%[==========>         ] 161.71M  1013KB/s    eta 1m 57s "
     ]
    },
    {
     "name": "stdout",
     "output_type": "stream",
     "text": [
      "\rip                   55%[==========>         ] 162.84M  1.07MB/s    eta 1m 50s "
     ]
    },
    {
     "name": "stdout",
     "output_type": "stream",
     "text": [
      "\rp                    55%[==========>         ] 163.01M  1007KB/s    eta 1m 50s "
     ]
    },
    {
     "name": "stdout",
     "output_type": "stream",
     "text": [
      "\r                     56%[==========>         ] 165.80M  1.19MB/s    eta 1m 50s "
     ]
    },
    {
     "name": "stdout",
     "output_type": "stream",
     "text": [
      "\r                  O  56%[==========>         ] 166.51M  1.23MB/s    eta 1m 50s "
     ]
    },
    {
     "name": "stdout",
     "output_type": "stream",
     "text": [
      "\r                 Op  57%[==========>         ] 167.30M  1.27MB/s    eta 1m 50s "
     ]
    },
    {
     "name": "stdout",
     "output_type": "stream",
     "text": [
      "\r                Opp  57%[==========>         ] 167.48M  1.26MB/s    eta 1m 50s "
     ]
    },
    {
     "name": "stdout",
     "output_type": "stream",
     "text": [
      "\r               Oppo  57%[==========>         ] 168.13M  1.36MB/s    eta 1m 44s "
     ]
    },
    {
     "name": "stdout",
     "output_type": "stream",
     "text": [
      "\r              Oppor  57%[==========>         ] 168.99M  1.39MB/s    eta 1m 44s "
     ]
    },
    {
     "name": "stdout",
     "output_type": "stream",
     "text": [
      "\r             Opport  57%[==========>         ] 169.55M  1.52MB/s    eta 1m 44s "
     ]
    },
    {
     "name": "stdout",
     "output_type": "stream",
     "text": [
      "\r            Opportu  58%[==========>         ] 170.16M  1.51MB/s    eta 1m 44s "
     ]
    },
    {
     "name": "stdout",
     "output_type": "stream",
     "text": [
      "\r           Opportun  58%[==========>         ] 170.74M  1.50MB/s    eta 1m 44s "
     ]
    },
    {
     "name": "stdout",
     "output_type": "stream",
     "text": [
      "\r          Opportuni  58%[==========>         ] 171.26M  1.48MB/s    eta 1m 40s "
     ]
    },
    {
     "name": "stdout",
     "output_type": "stream",
     "text": [
      "\r         Opportunit  58%[==========>         ] 171.84M  1.66MB/s    eta 1m 40s "
     ]
    },
    {
     "name": "stdout",
     "output_type": "stream",
     "text": [
      "\r        Opportunity  58%[==========>         ] 172.35M  3.03MB/s    eta 1m 40s "
     ]
    },
    {
     "name": "stdout",
     "output_type": "stream",
     "text": [
      "\r       OpportunityU  59%[==========>         ] 172.95M  2.98MB/s    eta 1m 40s "
     ]
    },
    {
     "name": "stdout",
     "output_type": "stream",
     "text": [
      "\r      OpportunityUC  59%[==========>         ] 173.57M  2.92MB/s    eta 1m 40s "
     ]
    },
    {
     "name": "stdout",
     "output_type": "stream",
     "text": [
      "\r     OpportunityUCI  59%[==========>         ] 174.20M  2.85MB/s    eta 97s    "
     ]
    },
    {
     "name": "stdout",
     "output_type": "stream",
     "text": [
      "\r    OpportunityUCID  59%[==========>         ] 174.45M  2.64MB/s    eta 97s    "
     ]
    },
    {
     "name": "stdout",
     "output_type": "stream",
     "text": [
      "\r   OpportunityUCIDa  59%[==========>         ] 174.98M  2.46MB/s    eta 97s    "
     ]
    },
    {
     "name": "stdout",
     "output_type": "stream",
     "text": [
      "\r  OpportunityUCIDat  60%[===========>        ] 175.77M  3.06MB/s    eta 97s    "
     ]
    },
    {
     "name": "stdout",
     "output_type": "stream",
     "text": [
      "\r OpportunityUCIData  60%[===========>        ] 176.24M  2.53MB/s    eta 94s    "
     ]
    },
    {
     "name": "stdout",
     "output_type": "stream",
     "text": [
      "\rOpportunityUCIDatas  60%[===========>        ] 176.70M  2.51MB/s    eta 94s    "
     ]
    },
    {
     "name": "stdout",
     "output_type": "stream",
     "text": [
      "\rpportunityUCIDatase  60%[===========>        ] 177.18M  2.47MB/s    eta 94s    "
     ]
    },
    {
     "name": "stdout",
     "output_type": "stream",
     "text": [
      "\rportunityUCIDataset  60%[===========>        ] 177.63M  2.45MB/s    eta 94s    "
     ]
    },
    {
     "name": "stdout",
     "output_type": "stream",
     "text": [
      "\rortunityUCIDataset.  60%[===========>        ] 178.10M  2.43MB/s    eta 94s    "
     ]
    },
    {
     "name": "stdout",
     "output_type": "stream",
     "text": [
      "\rrtunityUCIDataset.z  61%[===========>        ] 178.54M  2.31MB/s    eta 92s    "
     ]
    },
    {
     "name": "stdout",
     "output_type": "stream",
     "text": [
      "\rtunityUCIDataset.zi  61%[===========>        ] 179.04M  2.32MB/s    eta 92s    "
     ]
    },
    {
     "name": "stdout",
     "output_type": "stream",
     "text": [
      "\runityUCIDataset.zip  61%[===========>        ] 179.54M  2.32MB/s    eta 92s    "
     ]
    },
    {
     "name": "stdout",
     "output_type": "stream",
     "text": [
      "\rnityUCIDataset.zip   61%[===========>        ] 180.07M  2.33MB/s    eta 92s    "
     ]
    },
    {
     "name": "stdout",
     "output_type": "stream",
     "text": [
      "\rityUCIDataset.zip    61%[===========>        ] 180.60M  2.34MB/s    eta 92s    "
     ]
    },
    {
     "name": "stdout",
     "output_type": "stream",
     "text": [
      "\rtyUCIDataset.zip     61%[===========>        ] 181.10M  2.33MB/s    eta 89s    "
     ]
    },
    {
     "name": "stdout",
     "output_type": "stream",
     "text": [
      "\ryUCIDataset.zip      62%[===========>        ] 181.59M  2.32MB/s    eta 89s    "
     ]
    },
    {
     "name": "stdout",
     "output_type": "stream",
     "text": [
      "\rUCIDataset.zip       62%[===========>        ] 181.87M   303KB/s    eta 1m 45s "
     ]
    },
    {
     "name": "stdout",
     "output_type": "stream",
     "text": [
      "\rCIDataset.zip        62%[===========>        ] 182.48M   306KB/s    eta 1m 45s "
     ]
    },
    {
     "name": "stdout",
     "output_type": "stream",
     "text": [
      "\rIDataset.zip         62%[===========>        ] 183.04M   307KB/s    eta 1m 45s "
     ]
    },
    {
     "name": "stdout",
     "output_type": "stream",
     "text": [
      "\rDataset.zip          62%[===========>        ] 183.55M   299KB/s    eta 1m 43s "
     ]
    },
    {
     "name": "stdout",
     "output_type": "stream",
     "text": [
      "\rataset.zip           62%[===========>        ] 183.55M   290KB/s    eta 1m 43s "
     ]
    },
    {
     "name": "stdout",
     "output_type": "stream",
     "text": [
      "\rtaset.zip            62%[===========>        ] 183.55M   282KB/s    eta 1m 44s "
     ]
    },
    {
     "name": "stdout",
     "output_type": "stream",
     "text": [
      "\raset.zip             62%[===========>        ] 183.55M   274KB/s    eta 1m 44s "
     ]
    },
    {
     "name": "stdout",
     "output_type": "stream",
     "text": [
      "\rset.zip              62%[===========>        ] 183.55M   266KB/s    eta 1m 45s "
     ]
    },
    {
     "name": "stdout",
     "output_type": "stream",
     "text": [
      "\ret.zip               62%[===========>        ] 183.55M  --.-KB/s    eta 1m 45s "
     ]
    },
    {
     "name": "stdout",
     "output_type": "stream",
     "text": [
      "\rt.zip                62%[===========>        ] 183.55M  --.-KB/s    eta 1m 46s "
     ]
    },
    {
     "name": "stdout",
     "output_type": "stream",
     "text": [
      "\r.zip                 62%[===========>        ] 183.55M  --.-KB/s    eta 1m 46s "
     ]
    },
    {
     "name": "stdout",
     "output_type": "stream",
     "text": [
      "\rzip                  62%[===========>        ] 183.55M  --.-KB/s    eta 1m 48s "
     ]
    },
    {
     "name": "stdout",
     "output_type": "stream",
     "text": [
      "\rip                   62%[===========>        ] 183.55M  --.-KB/s    eta 1m 48s "
     ]
    },
    {
     "name": "stdout",
     "output_type": "stream",
     "text": [
      "\rp                    62%[===========>        ] 183.55M  --.-KB/s    eta 1m 49s "
     ]
    },
    {
     "name": "stdout",
     "output_type": "stream",
     "text": [
      "\r                     62%[===========>        ] 183.55M  --.-KB/s    eta 1m 49s "
     ]
    },
    {
     "name": "stdout",
     "output_type": "stream",
     "text": [
      "\r                  O  62%[===========>        ] 183.55M  --.-KB/s    eta 1m 50s "
     ]
    },
    {
     "name": "stdout",
     "output_type": "stream",
     "text": [
      "\r                 Op  62%[===========>        ] 183.55M  --.-KB/s    eta 1m 50s "
     ]
    },
    {
     "name": "stdout",
     "output_type": "stream",
     "text": [
      "\r                Opp  62%[===========>        ] 183.55M  --.-KB/s    eta 1m 51s "
     ]
    },
    {
     "name": "stdout",
     "output_type": "stream",
     "text": [
      "\r               Oppo  62%[===========>        ] 183.55M  --.-KB/s    eta 1m 51s "
     ]
    },
    {
     "name": "stdout",
     "output_type": "stream",
     "text": [
      "\r              Oppor  62%[===========>        ] 183.55M  --.-KB/s    eta 1m 52s "
     ]
    },
    {
     "name": "stdout",
     "output_type": "stream",
     "text": [
      "\r             Opport  62%[===========>        ] 183.55M  --.-KB/s    eta 1m 52s "
     ]
    },
    {
     "name": "stdout",
     "output_type": "stream",
     "text": [
      "\r            Opportu  62%[===========>        ] 183.55M  --.-KB/s    eta 1m 53s "
     ]
    },
    {
     "name": "stdout",
     "output_type": "stream",
     "text": [
      "\r           Opportun  62%[===========>        ] 183.55M  --.-KB/s    eta 1m 53s "
     ]
    },
    {
     "name": "stdout",
     "output_type": "stream",
     "text": [
      "\r          Opportuni  62%[===========>        ] 183.55M  --.-KB/s    eta 1m 54s "
     ]
    },
    {
     "name": "stdout",
     "output_type": "stream",
     "text": [
      "\r         Opportunit  62%[===========>        ] 183.55M  --.-KB/s    eta 1m 54s "
     ]
    },
    {
     "name": "stdout",
     "output_type": "stream",
     "text": [
      "\r        Opportunity  62%[===========>        ] 183.55M  --.-KB/s    eta 1m 55s "
     ]
    },
    {
     "name": "stdout",
     "output_type": "stream",
     "text": [
      "\r       OpportunityU  62%[===========>        ] 183.55M  --.-KB/s    eta 1m 55s "
     ]
    },
    {
     "name": "stdout",
     "output_type": "stream",
     "text": [
      "\r      OpportunityUC  62%[===========>        ] 183.55M  --.-KB/s    eta 1m 57s "
     ]
    },
    {
     "name": "stdout",
     "output_type": "stream",
     "text": [
      "\r     OpportunityUCI  62%[===========>        ] 183.55M  --.-KB/s    eta 1m 57s "
     ]
    },
    {
     "name": "stdout",
     "output_type": "stream",
     "text": [
      "\r    OpportunityUCID  62%[===========>        ] 183.55M  --.-KB/s    eta 1m 58s "
     ]
    },
    {
     "name": "stdout",
     "output_type": "stream",
     "text": [
      "\r   OpportunityUCIDa  62%[===========>        ] 183.55M  --.-KB/s    eta 1m 58s "
     ]
    },
    {
     "name": "stdout",
     "output_type": "stream",
     "text": [
      "\r  OpportunityUCIDat  62%[===========>        ] 183.55M  --.-KB/s    eta 1m 59s "
     ]
    },
    {
     "name": "stdout",
     "output_type": "stream",
     "text": [
      "\r OpportunityUCIData  62%[===========>        ] 183.55M  --.-KB/s    eta 1m 59s "
     ]
    },
    {
     "name": "stdout",
     "output_type": "stream",
     "text": [
      "\rOpportunityUCIDatas  62%[===========>        ] 183.55M  --.-KB/s    eta 2m 0s  "
     ]
    },
    {
     "name": "stdout",
     "output_type": "stream",
     "text": [
      "\rpportunityUCIDatase  62%[===========>        ] 183.55M  --.-KB/s    eta 2m 0s  "
     ]
    },
    {
     "name": "stdout",
     "output_type": "stream",
     "text": [
      "\rportunityUCIDataset  62%[===========>        ] 183.55M  --.-KB/s    eta 2m 1s  "
     ]
    },
    {
     "name": "stdout",
     "output_type": "stream",
     "text": [
      "\rortunityUCIDataset.  62%[===========>        ] 183.55M  --.-KB/s    eta 2m 1s  "
     ]
    },
    {
     "name": "stdout",
     "output_type": "stream",
     "text": [
      "\rrtunityUCIDataset.z  62%[===========>        ] 183.55M  --.-KB/s    eta 2m 2s  "
     ]
    },
    {
     "name": "stdout",
     "output_type": "stream",
     "text": [
      "\rtunityUCIDataset.zi  62%[===========>        ] 183.55M  --.-KB/s    eta 2m 2s  "
     ]
    },
    {
     "name": "stdout",
     "output_type": "stream",
     "text": [
      "\runityUCIDataset.zip  62%[===========>        ] 183.55M  --.-KB/s    eta 2m 3s  "
     ]
    },
    {
     "name": "stdout",
     "output_type": "stream",
     "text": [
      "\rnityUCIDataset.zip   62%[===========>        ] 183.55M  --.-KB/s    eta 2m 3s  "
     ]
    },
    {
     "name": "stdout",
     "output_type": "stream",
     "text": [
      "\rityUCIDataset.zip    62%[===========>        ] 183.55M  --.-KB/s    eta 2m 4s  "
     ]
    },
    {
     "name": "stdout",
     "output_type": "stream",
     "text": [
      "\rtyUCIDataset.zip     62%[===========>        ] 183.55M  --.-KB/s    eta 2m 4s  "
     ]
    },
    {
     "name": "stdout",
     "output_type": "stream",
     "text": [
      "\ryUCIDataset.zip      62%[===========>        ] 183.55M  --.-KB/s    eta 2m 6s  "
     ]
    },
    {
     "name": "stdout",
     "output_type": "stream",
     "text": [
      "\rUCIDataset.zip       62%[===========>        ] 183.55M  --.-KB/s    eta 2m 6s  "
     ]
    },
    {
     "name": "stdout",
     "output_type": "stream",
     "text": [
      "\rCIDataset.zip        62%[===========>        ] 183.55M  --.-KB/s    eta 2m 7s  "
     ]
    },
    {
     "name": "stdout",
     "output_type": "stream",
     "text": [
      "\rIDataset.zip         62%[===========>        ] 183.55M  --.-KB/s    eta 2m 7s  "
     ]
    },
    {
     "name": "stdout",
     "output_type": "stream",
     "text": [
      "\rDataset.zip          62%[===========>        ] 183.55M  --.-KB/s    eta 2m 8s  "
     ]
    },
    {
     "name": "stdout",
     "output_type": "stream",
     "text": [
      "\rataset.zip           62%[===========>        ] 183.55M  --.-KB/s    eta 2m 8s  "
     ]
    },
    {
     "name": "stdout",
     "output_type": "stream",
     "text": [
      "\rtaset.zip            62%[===========>        ] 183.55M  --.-KB/s    eta 2m 9s  "
     ]
    },
    {
     "name": "stdout",
     "output_type": "stream",
     "text": [
      "\raset.zip             62%[===========>        ] 183.55M  --.-KB/s    eta 2m 9s  "
     ]
    },
    {
     "name": "stdout",
     "output_type": "stream",
     "text": [
      "\rset.zip              62%[===========>        ] 183.55M  --.-KB/s    eta 2m 10s "
     ]
    },
    {
     "name": "stdout",
     "output_type": "stream",
     "text": [
      "\ret.zip               62%[===========>        ] 183.55M  --.-KB/s    eta 2m 10s "
     ]
    },
    {
     "name": "stdout",
     "output_type": "stream",
     "text": [
      "\rt.zip                62%[===========>        ] 183.55M  --.-KB/s    eta 2m 11s "
     ]
    },
    {
     "name": "stdout",
     "output_type": "stream",
     "text": [
      "\r.zip                 62%[===========>        ] 183.55M  --.-KB/s    eta 2m 11s "
     ]
    },
    {
     "name": "stdout",
     "output_type": "stream",
     "text": [
      "\rzip                  62%[===========>        ] 183.55M  --.-KB/s    eta 2m 12s "
     ]
    },
    {
     "name": "stdout",
     "output_type": "stream",
     "text": [
      "\rip                   62%[===========>        ] 183.55M  --.-KB/s    eta 2m 12s "
     ]
    },
    {
     "name": "stdout",
     "output_type": "stream",
     "text": [
      "\rp                    62%[===========>        ] 183.55M  --.-KB/s    eta 2m 13s "
     ]
    },
    {
     "name": "stdout",
     "output_type": "stream",
     "text": [
      "\r                     62%[===========>        ] 183.55M  --.-KB/s    eta 2m 13s "
     ]
    },
    {
     "name": "stdout",
     "output_type": "stream",
     "text": [
      "\r                  O  62%[===========>        ] 183.55M  --.-KB/s    eta 2m 15s "
     ]
    },
    {
     "name": "stdout",
     "output_type": "stream",
     "text": [
      "\r                 Op  62%[===========>        ] 183.55M  --.-KB/s    eta 2m 15s "
     ]
    },
    {
     "name": "stdout",
     "output_type": "stream",
     "text": [
      "\r                Opp  62%[===========>        ] 183.55M  --.-KB/s    eta 2m 16s "
     ]
    },
    {
     "name": "stdout",
     "output_type": "stream",
     "text": [
      "\r               Oppo  62%[===========>        ] 183.55M  --.-KB/s    eta 2m 16s "
     ]
    },
    {
     "name": "stdout",
     "output_type": "stream",
     "text": [
      "\r              Oppor  62%[===========>        ] 183.55M  --.-KB/s    eta 2m 17s "
     ]
    },
    {
     "name": "stdout",
     "output_type": "stream",
     "text": [
      "\r             Opport  62%[===========>        ] 183.55M  --.-KB/s    eta 2m 17s "
     ]
    },
    {
     "name": "stdout",
     "output_type": "stream",
     "text": [
      "\r            Opportu  62%[===========>        ] 183.55M  --.-KB/s    eta 2m 18s "
     ]
    },
    {
     "name": "stdout",
     "output_type": "stream",
     "text": [
      "\r           Opportun  62%[===========>        ] 183.55M  --.-KB/s    eta 2m 18s "
     ]
    },
    {
     "name": "stdout",
     "output_type": "stream",
     "text": [
      "\r          Opportuni  62%[===========>        ] 183.55M  --.-KB/s    eta 2m 19s "
     ]
    },
    {
     "name": "stdout",
     "output_type": "stream",
     "text": [
      "\r         Opportunit  62%[===========>        ] 183.55M  --.-KB/s    eta 2m 19s "
     ]
    },
    {
     "name": "stdout",
     "output_type": "stream",
     "text": [
      "\r        Opportunity  62%[===========>        ] 183.55M  --.-KB/s    eta 2m 20s "
     ]
    },
    {
     "name": "stdout",
     "output_type": "stream",
     "text": [
      "\r       OpportunityU  62%[===========>        ] 183.55M  8.00KB/s    eta 2m 20s "
     ]
    },
    {
     "name": "stdout",
     "output_type": "stream",
     "text": [
      "\r      OpportunityUC  62%[===========>        ] 183.70M   125KB/s    eta 2m 20s "
     ]
    },
    {
     "name": "stdout",
     "output_type": "stream",
     "text": [
      "\r     OpportunityUCI  62%[===========>        ] 183.95M   289KB/s    eta 2m 20s "
     ]
    },
    {
     "name": "stdout",
     "output_type": "stream",
     "text": [
      "\r    OpportunityUCID  62%[===========>        ] 184.03M   195KB/s    eta 2m 20s "
     ]
    },
    {
     "name": "stdout",
     "output_type": "stream",
     "text": [
      "\r   OpportunityUCIDa  62%[===========>        ] 184.03M   142KB/s    eta 2m 20s "
     ]
    },
    {
     "name": "stdout",
     "output_type": "stream",
     "text": [
      "\r  OpportunityUCIDat  62%[===========>        ] 184.03M   111KB/s    eta 2m 22s "
     ]
    },
    {
     "name": "stdout",
     "output_type": "stream",
     "text": [
      "\r OpportunityUCIData  62%[===========>        ] 184.03M  91.8KB/s    eta 2m 22s "
     ]
    },
    {
     "name": "stdout",
     "output_type": "stream",
     "text": [
      "\rOpportunityUCIDatas  62%[===========>        ] 184.03M  78.1KB/s    eta 2m 23s "
     ]
    },
    {
     "name": "stdout",
     "output_type": "stream",
     "text": [
      "\rpportunityUCIDatase  62%[===========>        ] 184.03M  --.-KB/s    eta 2m 23s "
     ]
    },
    {
     "name": "stdout",
     "output_type": "stream",
     "text": [
      "\rportunityUCIDataset  62%[===========>        ] 184.03M  --.-KB/s    eta 2m 24s "
     ]
    },
    {
     "name": "stdout",
     "output_type": "stream",
     "text": [
      "\rortunityUCIDataset.  62%[===========>        ] 184.03M  --.-KB/s    eta 2m 24s "
     ]
    },
    {
     "name": "stdout",
     "output_type": "stream",
     "text": [
      "\rrtunityUCIDataset.z  62%[===========>        ] 184.03M  --.-KB/s    eta 2m 25s "
     ]
    },
    {
     "name": "stdout",
     "output_type": "stream",
     "text": [
      "\rtunityUCIDataset.zi  62%[===========>        ] 184.04M  8.00KB/s    eta 2m 25s "
     ]
    },
    {
     "name": "stdout",
     "output_type": "stream",
     "text": [
      "\runityUCIDataset.zip  62%[===========>        ] 184.12M  1.63KB/s    eta 2m 56s "
     ]
    },
    {
     "name": "stdout",
     "output_type": "stream",
     "text": [
      "\rnityUCIDataset.zip   63%[===========>        ] 184.24M  3.73KB/s    eta 2m 58s "
     ]
    },
    {
     "name": "stdout",
     "output_type": "stream",
     "text": [
      "\rityUCIDataset.zip    63%[===========>        ] 184.48M  7.85KB/s    eta 2m 58s "
     ]
    },
    {
     "name": "stdout",
     "output_type": "stream",
     "text": [
      "\rtyUCIDataset.zip     63%[===========>        ] 184.74M  12.5KB/s    eta 2m 58s "
     ]
    },
    {
     "name": "stdout",
     "output_type": "stream",
     "text": [
      "\ryUCIDataset.zip      63%[===========>        ] 184.97M  16.1KB/s    eta 2m 57s "
     ]
    },
    {
     "name": "stdout",
     "output_type": "stream",
     "text": [
      "\rUCIDataset.zip       63%[===========>        ] 185.18M  19.6KB/s    eta 2m 57s "
     ]
    },
    {
     "name": "stdout",
     "output_type": "stream",
     "text": [
      "\rCIDataset.zip        63%[===========>        ] 185.51M  25.2KB/s    eta 2m 57s "
     ]
    },
    {
     "name": "stdout",
     "output_type": "stream",
     "text": [
      "\rIDataset.zip         63%[===========>        ] 185.77M  27.4KB/s    eta 2m 58s "
     ]
    },
    {
     "name": "stdout",
     "output_type": "stream",
     "text": [
      "\rDataset.zip          63%[===========>        ] 186.12M  32.1KB/s    eta 2m 58s "
     ]
    },
    {
     "name": "stdout",
     "output_type": "stream",
     "text": [
      "\rataset.zip           63%[===========>        ] 186.49M  37.7KB/s    eta 2m 58s "
     ]
    },
    {
     "name": "stdout",
     "output_type": "stream",
     "text": [
      "\rtaset.zip            63%[===========>        ] 186.88M  37.4KB/s    eta 3m 3s  "
     ]
    },
    {
     "name": "stdout",
     "output_type": "stream",
     "text": [
      "\raset.zip             64%[===========>        ] 187.30M  11.5KB/s    eta 5m 1s  "
     ]
    },
    {
     "name": "stdout",
     "output_type": "stream",
     "text": [
      "\rset.zip              64%[===========>        ] 187.74M  8.53KB/s    eta 6m 25s "
     ]
    },
    {
     "name": "stdout",
     "output_type": "stream",
     "text": [
      "\ret.zip               64%[===========>        ] 188.20M  9.19KB/s    eta 6m 33s "
     ]
    },
    {
     "name": "stdout",
     "output_type": "stream",
     "text": [
      "\rt.zip                64%[===========>        ] 188.76M  10.4KB/s    eta 6m 33s "
     ]
    },
    {
     "name": "stdout",
     "output_type": "stream",
     "text": [
      "\r.zip                 64%[===========>        ] 189.13M  10.7KB/s    eta 6m 41s "
     ]
    },
    {
     "name": "stdout",
     "output_type": "stream",
     "text": [
      "\rzip                  64%[===========>        ] 189.63M  11.5KB/s    eta 6m 43s "
     ]
    },
    {
     "name": "stdout",
     "output_type": "stream",
     "text": [
      "\rip                   65%[============>       ] 190.22M  12.7KB/s    eta 6m 43s "
     ]
    },
    {
     "name": "stdout",
     "output_type": "stream",
     "text": [
      "\rp                    65%[============>       ] 190.68M  14.5KB/s    eta 6m 47s "
     ]
    },
    {
     "name": "stdout",
     "output_type": "stream",
     "text": [
      "\r                     65%[============>       ] 191.23M  11.4KB/s    eta 8m 14s "
     ]
    },
    {
     "name": "stdout",
     "output_type": "stream",
     "text": [
      "\r                  O  65%[============>       ] 191.88M  12.2KB/s    eta 8m 14s "
     ]
    },
    {
     "name": "stdout",
     "output_type": "stream",
     "text": [
      "\r                 Op  65%[============>       ] 192.32M  12.6KB/s    eta 8m 14s "
     ]
    },
    {
     "name": "stdout",
     "output_type": "stream",
     "text": [
      "\r                Opp  66%[============>       ] 193.41M  13.7KB/s    eta 8m 14s "
     ]
    },
    {
     "name": "stdout",
     "output_type": "stream",
     "text": [
      "\r               Oppo  66%[============>       ] 193.93M  14.6KB/s    eta 7m 54s "
     ]
    },
    {
     "name": "stdout",
     "output_type": "stream",
     "text": [
      "\r              Oppor  66%[============>       ] 194.48M  15.1KB/s    eta 7m 54s "
     ]
    },
    {
     "name": "stdout",
     "output_type": "stream",
     "text": [
      "\r             Opport  66%[============>       ] 195.05M  15.6KB/s    eta 7m 54s "
     ]
    },
    {
     "name": "stdout",
     "output_type": "stream",
     "text": [
      "\r            Opportu  66%[============>       ] 195.19M  15.8KB/s    eta 7m 46s "
     ]
    },
    {
     "name": "stdout",
     "output_type": "stream",
     "text": [
      "\r           Opportun  66%[============>       ] 195.19M  15.8KB/s    eta 7m 46s "
     ]
    },
    {
     "name": "stdout",
     "output_type": "stream",
     "text": [
      "\r          Opportuni  66%[============>       ] 195.19M  15.7KB/s    eta 7m 47s "
     ]
    },
    {
     "name": "stdout",
     "output_type": "stream",
     "text": [
      "\r         Opportunit  66%[============>       ] 195.19M  15.7KB/s    eta 7m 47s "
     ]
    },
    {
     "name": "stdout",
     "output_type": "stream",
     "text": [
      "\r        Opportunity  66%[============>       ] 195.19M  15.7KB/s    eta 7m 48s "
     ]
    },
    {
     "name": "stdout",
     "output_type": "stream",
     "text": [
      "\r       OpportunityU  66%[============>       ] 195.19M  --.-KB/s    eta 7m 48s "
     ]
    },
    {
     "name": "stdout",
     "output_type": "stream",
     "text": [
      "\r      OpportunityUC  66%[============>       ] 195.19M  --.-KB/s    eta 7m 49s "
     ]
    },
    {
     "name": "stdout",
     "output_type": "stream",
     "text": [
      "\r     OpportunityUCI  66%[============>       ] 195.19M  --.-KB/s    eta 7m 49s "
     ]
    },
    {
     "name": "stdout",
     "output_type": "stream",
     "text": [
      "\r    OpportunityUCID  66%[============>       ] 195.19M  --.-KB/s    eta 7m 50s "
     ]
    },
    {
     "name": "stdout",
     "output_type": "stream",
     "text": [
      "\r   OpportunityUCIDa  66%[============>       ] 195.19M  --.-KB/s    eta 7m 50s "
     ]
    },
    {
     "name": "stdout",
     "output_type": "stream",
     "text": [
      "\r  OpportunityUCIDat  66%[============>       ] 195.19M  --.-KB/s    eta 7m 51s "
     ]
    },
    {
     "name": "stdout",
     "output_type": "stream",
     "text": [
      "\r OpportunityUCIData  66%[============>       ] 195.19M  --.-KB/s    eta 7m 51s "
     ]
    },
    {
     "name": "stdout",
     "output_type": "stream",
     "text": [
      "\rOpportunityUCIDatas  66%[============>       ] 195.19M  --.-KB/s    eta 7m 52s "
     ]
    },
    {
     "name": "stdout",
     "output_type": "stream",
     "text": [
      "\rpportunityUCIDatase  66%[============>       ] 195.19M  --.-KB/s    eta 7m 52s "
     ]
    },
    {
     "name": "stdout",
     "output_type": "stream",
     "text": [
      "\rportunityUCIDataset  66%[============>       ] 195.19M  --.-KB/s    eta 7m 53s "
     ]
    },
    {
     "name": "stdout",
     "output_type": "stream",
     "text": [
      "\rortunityUCIDataset.  66%[============>       ] 195.19M  --.-KB/s    eta 7m 53s "
     ]
    },
    {
     "name": "stdout",
     "output_type": "stream",
     "text": [
      "\rrtunityUCIDataset.z  66%[============>       ] 195.19M  --.-KB/s    eta 7m 54s "
     ]
    },
    {
     "name": "stdout",
     "output_type": "stream",
     "text": [
      "\rtunityUCIDataset.zi  66%[============>       ] 195.19M  --.-KB/s    eta 7m 54s "
     ]
    },
    {
     "name": "stdout",
     "output_type": "stream",
     "text": [
      "\runityUCIDataset.zip  66%[============>       ] 195.19M  --.-KB/s    eta 7m 55s "
     ]
    },
    {
     "name": "stdout",
     "output_type": "stream",
     "text": [
      "\rnityUCIDataset.zip   66%[============>       ] 195.19M  --.-KB/s    eta 7m 55s "
     ]
    },
    {
     "name": "stdout",
     "output_type": "stream",
     "text": [
      "\rityUCIDataset.zip    66%[============>       ] 195.19M  --.-KB/s    eta 7m 55s "
     ]
    },
    {
     "name": "stdout",
     "output_type": "stream",
     "text": [
      "\rtyUCIDataset.zip     66%[============>       ] 195.19M  --.-KB/s    eta 7m 55s "
     ]
    },
    {
     "name": "stdout",
     "output_type": "stream",
     "text": [
      "\ryUCIDataset.zip      66%[============>       ] 195.19M  --.-KB/s    eta 7m 56s "
     ]
    },
    {
     "name": "stdout",
     "output_type": "stream",
     "text": [
      "\rUCIDataset.zip       66%[============>       ] 195.19M  --.-KB/s    eta 7m 56s "
     ]
    },
    {
     "name": "stdout",
     "output_type": "stream",
     "text": [
      "\rCIDataset.zip        66%[============>       ] 195.19M  --.-KB/s    eta 7m 57s "
     ]
    },
    {
     "name": "stdout",
     "output_type": "stream",
     "text": [
      "\rIDataset.zip         66%[============>       ] 195.19M  --.-KB/s    eta 7m 57s "
     ]
    },
    {
     "name": "stdout",
     "output_type": "stream",
     "text": [
      "\rDataset.zip          66%[============>       ] 195.19M  --.-KB/s    eta 7m 58s "
     ]
    },
    {
     "name": "stdout",
     "output_type": "stream",
     "text": [
      "\rataset.zip           66%[============>       ] 195.19M  --.-KB/s    eta 7m 58s "
     ]
    },
    {
     "name": "stdout",
     "output_type": "stream",
     "text": [
      "\rtaset.zip            66%[============>       ] 195.19M  --.-KB/s    eta 7m 59s "
     ]
    },
    {
     "name": "stdout",
     "output_type": "stream",
     "text": [
      "\raset.zip             66%[============>       ] 195.19M  --.-KB/s    eta 7m 59s "
     ]
    },
    {
     "name": "stdout",
     "output_type": "stream",
     "text": [
      "\rset.zip              66%[============>       ] 195.19M  --.-KB/s    eta 8m 0s  "
     ]
    },
    {
     "name": "stdout",
     "output_type": "stream",
     "text": [
      "\ret.zip               66%[============>       ] 195.19M  --.-KB/s    eta 8m 0s  "
     ]
    },
    {
     "name": "stdout",
     "output_type": "stream",
     "text": [
      "\rt.zip                66%[============>       ] 195.19M  --.-KB/s    eta 8m 1s  "
     ]
    },
    {
     "name": "stdout",
     "output_type": "stream",
     "text": [
      "\r.zip                 66%[============>       ] 195.19M  --.-KB/s    eta 8m 1s  "
     ]
    },
    {
     "name": "stdout",
     "output_type": "stream",
     "text": [
      "\rzip                  66%[============>       ] 195.19M  --.-KB/s    eta 8m 2s  "
     ]
    },
    {
     "name": "stdout",
     "output_type": "stream",
     "text": [
      "\rip                   66%[============>       ] 195.19M  --.-KB/s    eta 8m 2s  "
     ]
    },
    {
     "name": "stdout",
     "output_type": "stream",
     "text": [
      "\rp                    66%[============>       ] 195.19M  --.-KB/s    eta 8m 3s  "
     ]
    },
    {
     "name": "stdout",
     "output_type": "stream",
     "text": [
      "\r                     66%[============>       ] 195.19M  --.-KB/s    eta 8m 3s  "
     ]
    },
    {
     "name": "stdout",
     "output_type": "stream",
     "text": [
      "\r                  O  66%[============>       ] 195.19M  --.-KB/s    eta 8m 4s  "
     ]
    },
    {
     "name": "stdout",
     "output_type": "stream",
     "text": [
      "\r                 Op  66%[============>       ] 195.19M  --.-KB/s    eta 8m 4s  "
     ]
    },
    {
     "name": "stdout",
     "output_type": "stream",
     "text": [
      "\r                Opp  66%[============>       ] 195.19M  --.-KB/s    eta 8m 5s  "
     ]
    },
    {
     "name": "stdout",
     "output_type": "stream",
     "text": [
      "\r               Oppo  66%[============>       ] 195.19M  --.-KB/s    eta 8m 5s  "
     ]
    },
    {
     "name": "stdout",
     "output_type": "stream",
     "text": [
      "\r              Oppor  66%[============>       ] 195.19M  --.-KB/s    eta 8m 6s  "
     ]
    },
    {
     "name": "stdout",
     "output_type": "stream",
     "text": [
      "\r             Opport  66%[============>       ] 195.19M  --.-KB/s    eta 8m 6s  "
     ]
    },
    {
     "name": "stdout",
     "output_type": "stream",
     "text": [
      "\r            Opportu  66%[============>       ] 195.19M  --.-KB/s    eta 8m 7s  "
     ]
    },
    {
     "name": "stdout",
     "output_type": "stream",
     "text": [
      "\r           Opportun  66%[============>       ] 195.19M  --.-KB/s    eta 8m 7s  "
     ]
    },
    {
     "name": "stdout",
     "output_type": "stream",
     "text": [
      "\r          Opportuni  66%[============>       ] 195.19M  --.-KB/s    eta 8m 8s  "
     ]
    },
    {
     "name": "stdout",
     "output_type": "stream",
     "text": [
      "\r         Opportunit  66%[============>       ] 195.19M  --.-KB/s    eta 8m 8s  "
     ]
    },
    {
     "name": "stdout",
     "output_type": "stream",
     "text": [
      "\r        Opportunity  66%[============>       ] 195.19M  --.-KB/s    eta 8m 9s  "
     ]
    },
    {
     "name": "stdout",
     "output_type": "stream",
     "text": [
      "\r       OpportunityU  66%[============>       ] 195.19M  --.-KB/s    eta 8m 9s  "
     ]
    },
    {
     "name": "stdout",
     "output_type": "stream",
     "text": [
      "\r      OpportunityUC  66%[============>       ] 195.19M  --.-KB/s    eta 8m 10s "
     ]
    },
    {
     "name": "stdout",
     "output_type": "stream",
     "text": [
      "\r     OpportunityUCI  66%[============>       ] 195.19M  --.-KB/s    eta 8m 10s "
     ]
    },
    {
     "name": "stdout",
     "output_type": "stream",
     "text": [
      "\r    OpportunityUCID  66%[============>       ] 195.19M  --.-KB/s    eta 8m 11s "
     ]
    },
    {
     "name": "stdout",
     "output_type": "stream",
     "text": [
      "\r   OpportunityUCIDa  66%[============>       ] 195.19M  --.-KB/s    eta 8m 11s "
     ]
    },
    {
     "name": "stdout",
     "output_type": "stream",
     "text": [
      "\r  OpportunityUCIDat  66%[============>       ] 195.19M  --.-KB/s    eta 8m 12s "
     ]
    },
    {
     "name": "stdout",
     "output_type": "stream",
     "text": [
      "\r OpportunityUCIData  66%[============>       ] 195.19M  --.-KB/s    eta 8m 12s "
     ]
    },
    {
     "name": "stdout",
     "output_type": "stream",
     "text": [
      "\rOpportunityUCIDatas  66%[============>       ] 195.19M  --.-KB/s    eta 8m 13s "
     ]
    },
    {
     "name": "stdout",
     "output_type": "stream",
     "text": [
      "\rpportunityUCIDatase  66%[============>       ] 195.19M  --.-KB/s    eta 8m 13s "
     ]
    },
    {
     "name": "stdout",
     "output_type": "stream",
     "text": [
      "\rportunityUCIDataset  66%[============>       ] 195.19M  --.-KB/s    eta 8m 13s "
     ]
    },
    {
     "name": "stdout",
     "output_type": "stream",
     "text": [
      "\rortunityUCIDataset.  66%[============>       ] 195.19M  --.-KB/s    eta 8m 13s "
     ]
    },
    {
     "name": "stdout",
     "output_type": "stream",
     "text": [
      "\rrtunityUCIDataset.z  66%[============>       ] 195.19M  --.-KB/s    eta 8m 14s "
     ]
    },
    {
     "name": "stdout",
     "output_type": "stream",
     "text": [
      "\rtunityUCIDataset.zi  66%[============>       ] 195.19M  --.-KB/s    eta 8m 14s "
     ]
    },
    {
     "name": "stdout",
     "output_type": "stream",
     "text": [
      "\runityUCIDataset.zip  66%[============>       ] 195.19M  --.-KB/s    eta 8m 15s "
     ]
    },
    {
     "name": "stdout",
     "output_type": "stream",
     "text": [
      "\rnityUCIDataset.zip   66%[============>       ] 195.19M  --.-KB/s    eta 8m 15s "
     ]
    },
    {
     "name": "stdout",
     "output_type": "stream",
     "text": [
      "\rityUCIDataset.zip    66%[============>       ] 195.19M  --.-KB/s    eta 8m 16s "
     ]
    },
    {
     "name": "stdout",
     "output_type": "stream",
     "text": [
      "\rtyUCIDataset.zip     66%[============>       ] 195.20M  8.00KB/s    eta 8m 16s "
     ]
    },
    {
     "name": "stdout",
     "output_type": "stream",
     "text": [
      "\ryUCIDataset.zip      66%[============>       ] 195.65M   222KB/s    eta 8m 14s "
     ]
    },
    {
     "name": "stdout",
     "output_type": "stream",
     "text": [
      "\rUCIDataset.zip       67%[============>       ] 196.21M   450KB/s    eta 8m 14s "
     ]
    },
    {
     "name": "stdout",
     "output_type": "stream",
     "text": [
      "\rCIDataset.zip        67%[============>       ] 196.59M   439KB/s    eta 8m 7s  "
     ]
    },
    {
     "name": "stdout",
     "output_type": "stream",
     "text": [
      "\rIDataset.zip         67%[============>       ] 196.59M   340KB/s    eta 8m 7s  "
     ]
    },
    {
     "name": "stdout",
     "output_type": "stream",
     "text": [
      "\rDataset.zip          67%[============>       ] 196.60M   322KB/s    eta 8m 7s  "
     ]
    },
    {
     "name": "stdout",
     "output_type": "stream",
     "text": [
      "\rataset.zip           67%[============>       ] 197.20M   437KB/s    eta 8m 7s  "
     ]
    },
    {
     "name": "stdout",
     "output_type": "stream",
     "text": [
      "\rtaset.zip            67%[============>       ] 197.84M   552KB/s    eta 8m 7s  "
     ]
    },
    {
     "name": "stdout",
     "output_type": "stream",
     "text": [
      "\raset.zip             67%[============>       ] 198.47M   554KB/s    eta 7m 54s "
     ]
    },
    {
     "name": "stdout",
     "output_type": "stream",
     "text": [
      "\rset.zip              67%[============>       ] 198.47M   479KB/s    eta 7m 54s "
     ]
    },
    {
     "name": "stdout",
     "output_type": "stream",
     "text": [
      "\ret.zip               67%[============>       ] 198.47M   422KB/s    eta 7m 55s "
     ]
    },
    {
     "name": "stdout",
     "output_type": "stream",
     "text": [
      "\rt.zip                67%[============>       ] 198.47M   377KB/s    eta 7m 55s "
     ]
    },
    {
     "name": "stdout",
     "output_type": "stream",
     "text": [
      "\r.zip                 67%[============>       ] 198.47M   341KB/s    eta 7m 56s "
     ]
    },
    {
     "name": "stdout",
     "output_type": "stream",
     "text": [
      "\rzip                  67%[============>       ] 198.48M   318KB/s    eta 7m 56s "
     ]
    },
    {
     "name": "stdout",
     "output_type": "stream",
     "text": [
      "\rip                   68%[============>       ] 199.12M   372KB/s    eta 7m 56s "
     ]
    },
    {
     "name": "stdout",
     "output_type": "stream",
     "text": [
      "\rp                    68%[============>       ] 199.26M   333KB/s    eta 7m 51s "
     ]
    },
    {
     "name": "stdout",
     "output_type": "stream",
     "text": [
      "\r                     68%[============>       ] 199.85M   253KB/s    eta 7m 50s "
     ]
    },
    {
     "name": "stdout",
     "output_type": "stream",
     "text": [
      "\r                  O  68%[============>       ] 200.57M   289KB/s    eta 7m 50s "
     ]
    },
    {
     "name": "stdout",
     "output_type": "stream",
     "text": [
      "\r                 Op  68%[============>       ] 200.81M   288KB/s    eta 7m 43s "
     ]
    },
    {
     "name": "stdout",
     "output_type": "stream",
     "text": [
      "\r                Opp  68%[============>       ] 200.81M   275KB/s    eta 7m 43s "
     ]
    },
    {
     "name": "stdout",
     "output_type": "stream",
     "text": [
      "\r               Oppo  68%[============>       ] 201.41M   207KB/s    eta 7m 44s "
     ]
    },
    {
     "name": "stdout",
     "output_type": "stream",
     "text": [
      "\r              Oppor  69%[============>       ] 202.20M   231KB/s    eta 7m 44s "
     ]
    },
    {
     "name": "stdout",
     "output_type": "stream",
     "text": [
      "\r             Opport  69%[============>       ] 202.79M   212KB/s    eta 7m 36s "
     ]
    },
    {
     "name": "stdout",
     "output_type": "stream",
     "text": [
      "\r            Opportu  69%[============>       ] 203.43M   229KB/s    eta 7m 36s "
     ]
    },
    {
     "name": "stdout",
     "output_type": "stream",
     "text": [
      "\r           Opportun  70%[=============>      ] 204.77M   264KB/s    eta 7m 36s "
     ]
    },
    {
     "name": "stdout",
     "output_type": "stream",
     "text": [
      "\r          Opportuni  70%[=============>      ] 205.38M   279KB/s    eta 7m 36s "
     ]
    },
    {
     "name": "stdout",
     "output_type": "stream",
     "text": [
      "\r         Opportunit  70%[=============>      ] 205.50M   275KB/s    eta 7m 17s "
     ]
    },
    {
     "name": "stdout",
     "output_type": "stream",
     "text": [
      "\r        Opportunity  70%[=============>      ] 205.50M   268KB/s    eta 7m 17s "
     ]
    },
    {
     "name": "stdout",
     "output_type": "stream",
     "text": [
      "\r       OpportunityU  70%[=============>      ] 205.51M   271KB/s    eta 7m 18s "
     ]
    },
    {
     "name": "stdout",
     "output_type": "stream",
     "text": [
      "\r      OpportunityUC  70%[=============>      ] 206.04M   250KB/s    eta 7m 16s "
     ]
    },
    {
     "name": "stdout",
     "output_type": "stream",
     "text": [
      "\r     OpportunityUCI  70%[=============>      ] 206.35M   222KB/s    eta 7m 16s "
     ]
    },
    {
     "name": "stdout",
     "output_type": "stream",
     "text": [
      "\r    OpportunityUCID  70%[=============>      ] 206.95M   232KB/s    eta 7m 16s "
     ]
    },
    {
     "name": "stdout",
     "output_type": "stream",
     "text": [
      "\r   OpportunityUCIDa  71%[=============>      ] 207.65M   237KB/s    eta 7m 7s  "
     ]
    },
    {
     "name": "stdout",
     "output_type": "stream",
     "text": [
      "\r  OpportunityUCIDat  71%[=============>      ] 208.31M   235KB/s    eta 7m 3s  "
     ]
    },
    {
     "name": "stdout",
     "output_type": "stream",
     "text": [
      "\r OpportunityUCIData  71%[=============>      ] 208.32M   214KB/s    eta 7m 4s  "
     ]
    },
    {
     "name": "stdout",
     "output_type": "stream",
     "text": [
      "\rOpportunityUCIDatas  71%[=============>      ] 208.55M   222KB/s    eta 7m 3s  "
     ]
    },
    {
     "name": "stdout",
     "output_type": "stream",
     "text": [
      "\rpportunityUCIDatase  71%[=============>      ] 208.59M   200KB/s    eta 7m 4s  "
     ]
    },
    {
     "name": "stdout",
     "output_type": "stream",
     "text": [
      "\rportunityUCIDataset  71%[=============>      ] 208.78M   200KB/s    eta 7m 4s  "
     ]
    },
    {
     "name": "stdout",
     "output_type": "stream",
     "text": [
      "\rortunityUCIDataset.  71%[=============>      ] 208.78M   196KB/s    eta 7m 4s  "
     ]
    },
    {
     "name": "stdout",
     "output_type": "stream",
     "text": [
      "\rrtunityUCIDataset.z  71%[=============>      ] 209.12M   205KB/s    eta 7m 4s  "
     ]
    },
    {
     "name": "stdout",
     "output_type": "stream",
     "text": [
      "\rtunityUCIDataset.zi  71%[=============>      ] 209.41M   214KB/s    eta 7m 0s  "
     ]
    },
    {
     "name": "stdout",
     "output_type": "stream",
     "text": [
      "\runityUCIDataset.zip  71%[=============>      ] 209.73M   206KB/s    eta 7m 0s  "
     ]
    },
    {
     "name": "stdout",
     "output_type": "stream",
     "text": [
      "\rnityUCIDataset.zip   71%[=============>      ] 209.73M   202KB/s    eta 6m 59s "
     ]
    },
    {
     "name": "stdout",
     "output_type": "stream",
     "text": [
      "\rityUCIDataset.zip    71%[=============>      ] 209.74M   200KB/s    eta 6m 59s "
     ]
    },
    {
     "name": "stdout",
     "output_type": "stream",
     "text": [
      "\rtyUCIDataset.zip     71%[=============>      ] 210.20M   206KB/s    eta 6m 56s "
     ]
    },
    {
     "name": "stdout",
     "output_type": "stream",
     "text": [
      "\ryUCIDataset.zip      71%[=============>      ] 210.21M   241KB/s    eta 6m 56s "
     ]
    },
    {
     "name": "stdout",
     "output_type": "stream",
     "text": [
      "\rUCIDataset.zip       71%[=============>      ] 210.41M   240KB/s    eta 6m 55s "
     ]
    },
    {
     "name": "stdout",
     "output_type": "stream",
     "text": [
      "\rCIDataset.zip        71%[=============>      ] 210.41M   235KB/s    eta 6m 55s "
     ]
    },
    {
     "name": "stdout",
     "output_type": "stream",
     "text": [
      "\rIDataset.zip         71%[=============>      ] 210.41M   229KB/s    eta 6m 56s "
     ]
    },
    {
     "name": "stdout",
     "output_type": "stream",
     "text": [
      "\rDataset.zip          71%[=============>      ] 210.41M   224KB/s    eta 6m 56s "
     ]
    },
    {
     "name": "stdout",
     "output_type": "stream",
     "text": [
      "\rataset.zip           71%[=============>      ] 210.41M   219KB/s    eta 6m 57s "
     ]
    },
    {
     "name": "stdout",
     "output_type": "stream",
     "text": [
      "\rtaset.zip            71%[=============>      ] 210.41M   201KB/s    eta 6m 57s "
     ]
    },
    {
     "name": "stdout",
     "output_type": "stream",
     "text": [
      "\raset.zip             72%[=============>      ] 211.05M   205KB/s    eta 6m 54s "
     ]
    },
    {
     "name": "stdout",
     "output_type": "stream",
     "text": [
      "\rset.zip              72%[=============>      ] 211.63M   194KB/s    eta 6m 51s "
     ]
    },
    {
     "name": "stdout",
     "output_type": "stream",
     "text": [
      "\ret.zip               72%[=============>      ] 212.37M   192KB/s    eta 6m 51s "
     ]
    },
    {
     "name": "stdout",
     "output_type": "stream",
     "text": [
      "\rt.zip                72%[=============>      ] 213.10M   166KB/s    eta 6m 44s "
     ]
    },
    {
     "name": "stdout",
     "output_type": "stream",
     "text": [
      "\r.zip                 73%[=============>      ] 213.98M   173KB/s    eta 6m 44s "
     ]
    },
    {
     "name": "stdout",
     "output_type": "stream",
     "text": [
      "\rzip                  73%[=============>      ] 214.95M   197KB/s    eta 6m 44s "
     ]
    },
    {
     "name": "stdout",
     "output_type": "stream",
     "text": [
      "\rip                   73%[=============>      ] 215.93M   228KB/s    eta 6m 44s "
     ]
    },
    {
     "name": "stdout",
     "output_type": "stream",
     "text": [
      "\rp                    74%[=============>      ] 216.59M   252KB/s    eta 6m 20s "
     ]
    },
    {
     "name": "stdout",
     "output_type": "stream",
     "text": [
      "\r                     74%[=============>      ] 217.55M   244KB/s    eta 6m 15s "
     ]
    },
    {
     "name": "stdout",
     "output_type": "stream",
     "text": [
      "\r                  O  74%[=============>      ] 218.63M   255KB/s    eta 6m 15s "
     ]
    },
    {
     "name": "stdout",
     "output_type": "stream",
     "text": [
      "\r                 Op  75%[==============>     ] 219.73M   265KB/s    eta 6m 15s "
     ]
    },
    {
     "name": "stdout",
     "output_type": "stream",
     "text": [
      "\r                Opp  75%[==============>     ] 220.72M   297KB/s    eta 5m 55s "
     ]
    },
    {
     "name": "stdout",
     "output_type": "stream",
     "text": [
      "\r               Oppo  75%[==============>     ] 220.72M   291KB/s    eta 5m 55s "
     ]
    },
    {
     "name": "stdout",
     "output_type": "stream",
     "text": [
      "\r              Oppor  75%[==============>     ] 220.72M   284KB/s    eta 5m 55s "
     ]
    },
    {
     "name": "stdout",
     "output_type": "stream",
     "text": [
      "\r             Opport  75%[==============>     ] 220.72M   279KB/s    eta 5m 55s "
     ]
    },
    {
     "name": "stdout",
     "output_type": "stream",
     "text": [
      "\r            Opportu  75%[==============>     ] 220.72M   273KB/s    eta 5m 56s "
     ]
    },
    {
     "name": "stdout",
     "output_type": "stream",
     "text": [
      "\r           Opportun  75%[==============>     ] 220.72M  --.-KB/s    eta 5m 56s "
     ]
    },
    {
     "name": "stdout",
     "output_type": "stream",
     "text": [
      "\r          Opportuni  75%[==============>     ] 220.72M  --.-KB/s    eta 5m 57s "
     ]
    },
    {
     "name": "stdout",
     "output_type": "stream",
     "text": [
      "\r         Opportunit  75%[==============>     ] 220.72M  --.-KB/s    eta 5m 57s "
     ]
    },
    {
     "name": "stdout",
     "output_type": "stream",
     "text": [
      "\r        Opportunity  75%[==============>     ] 220.72M  --.-KB/s    eta 5m 57s "
     ]
    },
    {
     "name": "stdout",
     "output_type": "stream",
     "text": [
      "\r       OpportunityU  75%[==============>     ] 220.72M  --.-KB/s    eta 5m 57s "
     ]
    },
    {
     "name": "stdout",
     "output_type": "stream",
     "text": [
      "\r      OpportunityUC  75%[==============>     ] 220.72M  --.-KB/s    eta 5m 58s "
     ]
    },
    {
     "name": "stdout",
     "output_type": "stream",
     "text": [
      "\r     OpportunityUCI  75%[==============>     ] 220.72M  --.-KB/s    eta 5m 58s "
     ]
    },
    {
     "name": "stdout",
     "output_type": "stream",
     "text": [
      "\r    OpportunityUCID  75%[==============>     ] 220.73M  8.00KB/s    eta 5m 58s "
     ]
    },
    {
     "name": "stdout",
     "output_type": "stream",
     "text": [
      "\r   OpportunityUCIDa  75%[==============>     ] 220.95M   112KB/s    eta 5m 57s "
     ]
    },
    {
     "name": "stdout",
     "output_type": "stream",
     "text": [
      "\r  OpportunityUCIDat  75%[==============>     ] 220.95M  77.4KB/s    eta 5m 57s "
     ]
    },
    {
     "name": "stdout",
     "output_type": "stream",
     "text": [
      "\r OpportunityUCIData  75%[==============>     ] 220.95M  59.2KB/s    eta 5m 58s "
     ]
    },
    {
     "name": "stdout",
     "output_type": "stream",
     "text": [
      "\rOpportunityUCIDatas  75%[==============>     ] 220.95M  48.0KB/s    eta 5m 58s "
     ]
    },
    {
     "name": "stdout",
     "output_type": "stream",
     "text": [
      "\rpportunityUCIDatase  75%[==============>     ] 220.95M  40.3KB/s    eta 5m 58s "
     ]
    },
    {
     "name": "stdout",
     "output_type": "stream",
     "text": [
      "\rportunityUCIDataset  75%[==============>     ] 220.95M  --.-KB/s    eta 5m 58s "
     ]
    },
    {
     "name": "stdout",
     "output_type": "stream",
     "text": [
      "\rortunityUCIDataset.  75%[==============>     ] 220.96M  8.00KB/s    eta 5m 59s "
     ]
    },
    {
     "name": "stdout",
     "output_type": "stream",
     "text": [
      "\rrtunityUCIDataset.z  75%[==============>     ] 220.99M  6.32KB/s    eta 6m 0s  "
     ]
    },
    {
     "name": "stdout",
     "output_type": "stream",
     "text": [
      "\rtunityUCIDataset.zi  75%[==============>     ] 221.12M  25.0KB/s    eta 6m 0s  "
     ]
    },
    {
     "name": "stdout",
     "output_type": "stream",
     "text": [
      "\runityUCIDataset.zip  75%[==============>     ] 221.27M  47.4KB/s    eta 6m 0s  "
     ]
    },
    {
     "name": "stdout",
     "output_type": "stream",
     "text": [
      "\rnityUCIDataset.zip   75%[==============>     ] 221.40M  62.3KB/s    eta 5m 58s "
     ]
    },
    {
     "name": "stdout",
     "output_type": "stream",
     "text": [
      "\rityUCIDataset.zip    75%[==============>     ] 221.63M  92.0KB/s    eta 5m 58s "
     ]
    },
    {
     "name": "stdout",
     "output_type": "stream",
     "text": [
      "\rtyUCIDataset.zip     75%[==============>     ] 221.80M   110KB/s    eta 5m 58s "
     ]
    },
    {
     "name": "stdout",
     "output_type": "stream",
     "text": [
      "\ryUCIDataset.zip      75%[==============>     ] 222.05M   139KB/s    eta 5m 58s "
     ]
    },
    {
     "name": "stdout",
     "output_type": "stream",
     "text": [
      "\rUCIDataset.zip       76%[==============>     ] 222.38M   175KB/s    eta 5m 52s "
     ]
    },
    {
     "name": "stdout",
     "output_type": "stream",
     "text": [
      "\rCIDataset.zip        76%[==============>     ] 222.43M   141KB/s    eta 5m 52s "
     ]
    },
    {
     "name": "stdout",
     "output_type": "stream",
     "text": [
      "\rIDataset.zip         76%[==============>     ] 222.82M   176KB/s    eta 5m 52s "
     ]
    },
    {
     "name": "stdout",
     "output_type": "stream",
     "text": [
      "\rDataset.zip          76%[==============>     ] 223.20M   207KB/s    eta 5m 52s "
     ]
    },
    {
     "name": "stdout",
     "output_type": "stream",
     "text": [
      "\rataset.zip           76%[==============>     ] 223.60M   240KB/s    eta 5m 52s "
     ]
    },
    {
     "name": "stdout",
     "output_type": "stream",
     "text": [
      "\rtaset.zip            76%[==============>     ] 224.09M   275KB/s    eta 5m 42s "
     ]
    },
    {
     "name": "stdout",
     "output_type": "stream",
     "text": [
      "\raset.zip             76%[==============>     ] 224.62M   316KB/s    eta 5m 42s "
     ]
    },
    {
     "name": "stdout",
     "output_type": "stream",
     "text": [
      "\rset.zip              77%[==============>     ] 225.24M   363KB/s    eta 5m 42s "
     ]
    },
    {
     "name": "stdout",
     "output_type": "stream",
     "text": [
      "\ret.zip               77%[==============>     ] 225.90M   448KB/s    eta 5m 42s "
     ]
    },
    {
     "name": "stdout",
     "output_type": "stream",
     "text": [
      "\rt.zip                77%[==============>     ] 226.16M   745KB/s    eta 5m 29s "
     ]
    },
    {
     "name": "stdout",
     "output_type": "stream",
     "text": [
      "\r.zip                 77%[==============>     ] 226.16M   657KB/s    eta 5m 29s "
     ]
    },
    {
     "name": "stdout",
     "output_type": "stream",
     "text": [
      "\rzip                  77%[==============>     ] 226.16M   587KB/s    eta 5m 29s "
     ]
    },
    {
     "name": "stdout",
     "output_type": "stream",
     "text": [
      "\rip                   77%[==============>     ] 226.16M   531KB/s    eta 5m 29s "
     ]
    },
    {
     "name": "stdout",
     "output_type": "stream",
     "text": [
      "\rp                    77%[==============>     ] 226.20M   340KB/s    eta 5m 31s "
     ]
    },
    {
     "name": "stdout",
     "output_type": "stream",
     "text": [
      "\r                     77%[==============>     ] 226.32M   337KB/s    eta 5m 31s "
     ]
    },
    {
     "name": "stdout",
     "output_type": "stream",
     "text": [
      "\r                  O  77%[==============>     ] 226.48M   340KB/s    eta 5m 31s "
     ]
    },
    {
     "name": "stdout",
     "output_type": "stream",
     "text": [
      "\r                 Op  77%[==============>     ] 226.49M   314KB/s    eta 5m 30s "
     ]
    },
    {
     "name": "stdout",
     "output_type": "stream",
     "text": [
      "\r                Opp  77%[==============>     ] 226.59M   104KB/s    eta 5m 38s "
     ]
    },
    {
     "name": "stdout",
     "output_type": "stream",
     "text": [
      "\r               Oppo  77%[==============>     ] 226.73M  61.6KB/s    eta 5m 47s "
     ]
    },
    {
     "name": "stdout",
     "output_type": "stream",
     "text": [
      "\r              Oppor  77%[==============>     ] 226.96M  62.2KB/s    eta 5m 47s "
     ]
    },
    {
     "name": "stdout",
     "output_type": "stream",
     "text": [
      "\r             Opport  77%[==============>     ] 227.24M  61.8KB/s    eta 5m 47s "
     ]
    },
    {
     "name": "stdout",
     "output_type": "stream",
     "text": [
      "\r            Opportu  77%[==============>     ] 227.52M  61.8KB/s    eta 5m 47s "
     ]
    },
    {
     "name": "stdout",
     "output_type": "stream",
     "text": [
      "\r           Opportun  77%[==============>     ] 227.88M  62.7KB/s    eta 5m 40s "
     ]
    },
    {
     "name": "stdout",
     "output_type": "stream",
     "text": [
      "\r          Opportuni  78%[==============>     ] 228.18M  49.1KB/s    eta 5m 42s "
     ]
    },
    {
     "name": "stdout",
     "output_type": "stream",
     "text": [
      "\r         Opportunit  78%[==============>     ] 228.59M  49.3KB/s    eta 5m 42s "
     ]
    },
    {
     "name": "stdout",
     "output_type": "stream",
     "text": [
      "\r        Opportunity  78%[==============>     ] 229.02M  49.3KB/s    eta 5m 42s "
     ]
    },
    {
     "name": "stdout",
     "output_type": "stream",
     "text": [
      "\r       OpportunityU  78%[==============>     ] 229.54M  50.0KB/s    eta 5m 42s "
     ]
    },
    {
     "name": "stdout",
     "output_type": "stream",
     "text": [
      "\r      OpportunityUC  78%[==============>     ] 230.07M  50.1KB/s    eta 5m 42s "
     ]
    },
    {
     "name": "stdout",
     "output_type": "stream",
     "text": [
      "\r     OpportunityUCI  78%[==============>     ] 230.66M  51.4KB/s    eta 5m 25s "
     ]
    },
    {
     "name": "stdout",
     "output_type": "stream",
     "text": [
      "\r    OpportunityUCID  79%[==============>     ] 231.30M  62.0KB/s    eta 5m 25s "
     ]
    },
    {
     "name": "stdout",
     "output_type": "stream",
     "text": [
      "\r   OpportunityUCIDa  79%[==============>     ] 232.01M  70.0KB/s    eta 5m 25s "
     ]
    },
    {
     "name": "stdout",
     "output_type": "stream",
     "text": [
      "\r  OpportunityUCIDat  79%[==============>     ] 232.82M  78.9KB/s    eta 5m 25s "
     ]
    },
    {
     "name": "stdout",
     "output_type": "stream",
     "text": [
      "\r OpportunityUCIData  79%[==============>     ] 233.73M  88.9KB/s    eta 5m 25s "
     ]
    },
    {
     "name": "stdout",
     "output_type": "stream",
     "text": [
      "\rOpportunityUCIDatas  80%[===============>    ] 234.49M  98.2KB/s    eta 5m 0s  "
     ]
    },
    {
     "name": "stdout",
     "output_type": "stream",
     "text": [
      "\rpportunityUCIDatase  80%[===============>    ] 235.80M   185KB/s    eta 5m 0s  "
     ]
    },
    {
     "name": "stdout",
     "output_type": "stream",
     "text": [
      "\rportunityUCIDataset  80%[===============>    ] 236.66M   551KB/s    eta 5m 0s  "
     ]
    },
    {
     "name": "stdout",
     "output_type": "stream",
     "text": [
      "\rortunityUCIDataset.  81%[===============>    ] 237.68M   598KB/s    eta 4m 40s "
     ]
    },
    {
     "name": "stdout",
     "output_type": "stream",
     "text": [
      "\rrtunityUCIDataset.z  81%[===============>    ] 237.80M   303KB/s    eta 4m 44s "
     ]
    },
    {
     "name": "stdout",
     "output_type": "stream",
     "text": [
      "\rtunityUCIDataset.zi  81%[===============>    ] 238.84M   212KB/s    eta 4m 41s "
     ]
    },
    {
     "name": "stdout",
     "output_type": "stream",
     "text": [
      "\runityUCIDataset.zip  81%[===============>    ] 239.30M   217KB/s    eta 4m 41s "
     ]
    },
    {
     "name": "stdout",
     "output_type": "stream",
     "text": [
      "\rnityUCIDataset.zip   82%[===============>    ] 239.96M   224KB/s    eta 4m 41s "
     ]
    },
    {
     "name": "stdout",
     "output_type": "stream",
     "text": [
      "\rityUCIDataset.zip    82%[===============>    ] 240.34M   222KB/s    eta 4m 35s "
     ]
    },
    {
     "name": "stdout",
     "output_type": "stream",
     "text": [
      "\rtyUCIDataset.zip     82%[===============>    ] 241.04M   229KB/s    eta 4m 35s "
     ]
    },
    {
     "name": "stdout",
     "output_type": "stream",
     "text": [
      "\ryUCIDataset.zip      82%[===============>    ] 241.57M   220KB/s    eta 4m 28s "
     ]
    },
    {
     "name": "stdout",
     "output_type": "stream",
     "text": [
      "\rUCIDataset.zip       82%[===============>    ] 242.20M   193KB/s    eta 4m 26s "
     ]
    },
    {
     "name": "stdout",
     "output_type": "stream",
     "text": [
      "\rCIDataset.zip        82%[===============>    ] 242.51M   170KB/s    eta 4m 26s "
     ]
    },
    {
     "name": "stdout",
     "output_type": "stream",
     "text": [
      "\rIDataset.zip         83%[===============>    ] 243.26M   174KB/s    eta 4m 26s "
     ]
    },
    {
     "name": "stdout",
     "output_type": "stream",
     "text": [
      "\rDataset.zip          83%[===============>    ] 243.47M   175KB/s    eta 4m 20s "
     ]
    },
    {
     "name": "stdout",
     "output_type": "stream",
     "text": [
      "\rataset.zip           83%[===============>    ] 243.47M   173KB/s    eta 4m 20s "
     ]
    },
    {
     "name": "stdout",
     "output_type": "stream",
     "text": [
      "\rtaset.zip            83%[===============>    ] 243.47M   171KB/s    eta 4m 20s "
     ]
    },
    {
     "name": "stdout",
     "output_type": "stream",
     "text": [
      "\raset.zip             83%[===============>    ] 243.47M   169KB/s    eta 4m 20s "
     ]
    },
    {
     "name": "stdout",
     "output_type": "stream",
     "text": [
      "\rset.zip              83%[===============>    ] 243.47M   167KB/s    eta 4m 21s "
     ]
    },
    {
     "name": "stdout",
     "output_type": "stream",
     "text": [
      "\ret.zip               83%[===============>    ] 243.47M  --.-KB/s    eta 4m 21s "
     ]
    },
    {
     "name": "stdout",
     "output_type": "stream",
     "text": [
      "\rt.zip                83%[===============>    ] 243.47M  --.-KB/s    eta 4m 21s "
     ]
    },
    {
     "name": "stdout",
     "output_type": "stream",
     "text": [
      "\r.zip                 83%[===============>    ] 243.47M  --.-KB/s    eta 4m 21s "
     ]
    },
    {
     "name": "stdout",
     "output_type": "stream",
     "text": [
      "\rzip                  83%[===============>    ] 243.47M  --.-KB/s    eta 4m 21s "
     ]
    },
    {
     "name": "stdout",
     "output_type": "stream",
     "text": [
      "\rip                   83%[===============>    ] 243.47M  --.-KB/s    eta 4m 21s "
     ]
    },
    {
     "name": "stdout",
     "output_type": "stream",
     "text": [
      "\rp                    83%[===============>    ] 243.47M  --.-KB/s    eta 4m 22s "
     ]
    },
    {
     "name": "stdout",
     "output_type": "stream",
     "text": [
      "\r                     83%[===============>    ] 243.47M  --.-KB/s    eta 4m 22s "
     ]
    },
    {
     "name": "stdout",
     "output_type": "stream",
     "text": [
      "\r                  O  83%[===============>    ] 243.47M  --.-KB/s    eta 4m 22s "
     ]
    },
    {
     "name": "stdout",
     "output_type": "stream",
     "text": [
      "\r                 Op  83%[===============>    ] 243.47M  --.-KB/s    eta 4m 22s "
     ]
    },
    {
     "name": "stdout",
     "output_type": "stream",
     "text": [
      "\r                Opp  83%[===============>    ] 243.47M  --.-KB/s    eta 4m 23s "
     ]
    },
    {
     "name": "stdout",
     "output_type": "stream",
     "text": [
      "\r               Oppo  83%[===============>    ] 243.47M  --.-KB/s    eta 4m 23s "
     ]
    },
    {
     "name": "stdout",
     "output_type": "stream",
     "text": [
      "\r              Oppor  83%[===============>    ] 243.47M  --.-KB/s    eta 4m 23s "
     ]
    },
    {
     "name": "stdout",
     "output_type": "stream",
     "text": [
      "\r             Opport  83%[===============>    ] 243.47M  --.-KB/s    eta 4m 23s "
     ]
    },
    {
     "name": "stdout",
     "output_type": "stream",
     "text": [
      "\r            Opportu  83%[===============>    ] 243.47M  --.-KB/s    eta 4m 23s "
     ]
    },
    {
     "name": "stdout",
     "output_type": "stream",
     "text": [
      "\r           Opportun  83%[===============>    ] 243.48M  8.00KB/s    eta 4m 23s "
     ]
    },
    {
     "name": "stdout",
     "output_type": "stream",
     "text": [
      "\r          Opportuni  83%[===============>    ] 243.82M   296KB/s    eta 4m 23s "
     ]
    },
    {
     "name": "stdout",
     "output_type": "stream",
     "text": [
      "\r         Opportunit  83%[===============>    ] 244.30M   605KB/s    eta 4m 18s "
     ]
    },
    {
     "name": "stdout",
     "output_type": "stream",
     "text": [
      "\r        Opportunity  83%[===============>    ] 244.41M   405KB/s    eta 4m 18s "
     ]
    },
    {
     "name": "stdout",
     "output_type": "stream",
     "text": [
      "\r       OpportunityU  83%[===============>    ] 244.41M   357KB/s    eta 4m 18s "
     ]
    },
    {
     "name": "stdout",
     "output_type": "stream",
     "text": [
      "\r      OpportunityUC  83%[===============>    ] 244.85M   484KB/s    eta 4m 18s "
     ]
    },
    {
     "name": "stdout",
     "output_type": "stream",
     "text": [
      "\r     OpportunityUCI  83%[===============>    ] 244.88M   371KB/s    eta 4m 15s "
     ]
    },
    {
     "name": "stdout",
     "output_type": "stream",
     "text": [
      "\r    OpportunityUCID  83%[===============>    ] 244.88M   298KB/s    eta 4m 15s "
     ]
    },
    {
     "name": "stdout",
     "output_type": "stream",
     "text": [
      "\r   OpportunityUCIDa  83%[===============>    ] 244.88M   249KB/s    eta 4m 15s "
     ]
    },
    {
     "name": "stdout",
     "output_type": "stream",
     "text": [
      "\r  OpportunityUCIDat  83%[===============>    ] 244.88M   214KB/s    eta 4m 15s "
     ]
    },
    {
     "name": "stdout",
     "output_type": "stream",
     "text": [
      "\r OpportunityUCIData  83%[===============>    ] 244.88M   187KB/s    eta 4m 16s "
     ]
    },
    {
     "name": "stdout",
     "output_type": "stream",
     "text": [
      "\rOpportunityUCIDatas  83%[===============>    ] 244.88M  --.-KB/s    eta 4m 16s "
     ]
    },
    {
     "name": "stdout",
     "output_type": "stream",
     "text": [
      "\rpportunityUCIDatase  83%[===============>    ] 244.88M  --.-KB/s    eta 4m 16s "
     ]
    },
    {
     "name": "stdout",
     "output_type": "stream",
     "text": [
      "\rportunityUCIDataset  83%[===============>    ] 244.88M  --.-KB/s    eta 4m 16s "
     ]
    },
    {
     "name": "stdout",
     "output_type": "stream",
     "text": [
      "\rortunityUCIDataset.  83%[===============>    ] 244.88M  --.-KB/s    eta 4m 16s "
     ]
    },
    {
     "name": "stdout",
     "output_type": "stream",
     "text": [
      "\rrtunityUCIDataset.z  83%[===============>    ] 244.88M  --.-KB/s    eta 4m 16s "
     ]
    },
    {
     "name": "stdout",
     "output_type": "stream",
     "text": [
      "\rtunityUCIDataset.zi  83%[===============>    ] 244.88M  --.-KB/s    eta 4m 17s "
     ]
    },
    {
     "name": "stdout",
     "output_type": "stream",
     "text": [
      "\runityUCIDataset.zip  83%[===============>    ] 244.88M  --.-KB/s    eta 4m 17s "
     ]
    },
    {
     "name": "stdout",
     "output_type": "stream",
     "text": [
      "\rnityUCIDataset.zip   83%[===============>    ] 244.88M  --.-KB/s    eta 4m 17s "
     ]
    },
    {
     "name": "stdout",
     "output_type": "stream",
     "text": [
      "\rityUCIDataset.zip    83%[===============>    ] 244.88M  --.-KB/s    eta 4m 17s "
     ]
    },
    {
     "name": "stdout",
     "output_type": "stream",
     "text": [
      "\rtyUCIDataset.zip     83%[===============>    ] 244.88M  --.-KB/s    eta 4m 18s "
     ]
    },
    {
     "name": "stdout",
     "output_type": "stream",
     "text": [
      "\ryUCIDataset.zip      83%[===============>    ] 244.88M  --.-KB/s    eta 4m 18s "
     ]
    },
    {
     "name": "stdout",
     "output_type": "stream",
     "text": [
      "\rUCIDataset.zip       83%[===============>    ] 244.88M  --.-KB/s    eta 4m 18s "
     ]
    },
    {
     "name": "stdout",
     "output_type": "stream",
     "text": [
      "\rCIDataset.zip        83%[===============>    ] 244.88M  --.-KB/s    eta 4m 18s "
     ]
    },
    {
     "name": "stdout",
     "output_type": "stream",
     "text": [
      "\rIDataset.zip         83%[===============>    ] 244.88M  --.-KB/s    eta 4m 18s "
     ]
    },
    {
     "name": "stdout",
     "output_type": "stream",
     "text": [
      "\rDataset.zip          83%[===============>    ] 244.88M  8.00KB/s    eta 4m 20s "
     ]
    },
    {
     "name": "stdout",
     "output_type": "stream",
     "text": [
      "\rataset.zip           83%[===============>    ] 244.95M  51.5KB/s    eta 4m 20s "
     ]
    },
    {
     "name": "stdout",
     "output_type": "stream",
     "text": [
      "\rtaset.zip            83%[===============>    ] 245.02M  84.7KB/s    eta 4m 20s "
     ]
    },
    {
     "name": "stdout",
     "output_type": "stream",
     "text": [
      "\raset.zip             83%[===============>    ] 245.13M   121KB/s    eta 4m 18s "
     ]
    },
    {
     "name": "stdout",
     "output_type": "stream",
     "text": [
      "\rset.zip              83%[===============>    ] 245.27M   158KB/s    eta 4m 18s "
     ]
    },
    {
     "name": "stdout",
     "output_type": "stream",
     "text": [
      "\ret.zip               83%[===============>    ] 245.46M   215KB/s    eta 4m 18s "
     ]
    },
    {
     "name": "stdout",
     "output_type": "stream",
     "text": [
      "\rt.zip                83%[===============>    ] 245.60M   234KB/s    eta 4m 15s "
     ]
    },
    {
     "name": "stdout",
     "output_type": "stream",
     "text": [
      "\r.zip                 84%[===============>    ] 245.82M   286KB/s    eta 4m 15s "
     ]
    },
    {
     "name": "stdout",
     "output_type": "stream",
     "text": [
      "\rzip                  84%[===============>    ] 246.05M   334KB/s    eta 4m 15s "
     ]
    },
    {
     "name": "stdout",
     "output_type": "stream",
     "text": [
      "\rip                   84%[===============>    ] 246.27M   360KB/s    eta 4m 15s "
     ]
    },
    {
     "name": "stdout",
     "output_type": "stream",
     "text": [
      "\rp                    84%[===============>    ] 246.57M   416KB/s    eta 4m 9s  "
     ]
    },
    {
     "name": "stdout",
     "output_type": "stream",
     "text": [
      "\r                     84%[===============>    ] 246.75M   374KB/s    eta 4m 9s  "
     ]
    },
    {
     "name": "stdout",
     "output_type": "stream",
     "text": [
      "\r                  O  84%[===============>    ] 246.75M   316KB/s    eta 4m 9s  "
     ]
    },
    {
     "name": "stdout",
     "output_type": "stream",
     "text": [
      "\r                 Op  84%[===============>    ] 246.75M   273KB/s    eta 4m 9s  "
     ]
    },
    {
     "name": "stdout",
     "output_type": "stream",
     "text": [
      "\r                Opp  84%[===============>    ] 246.75M   240KB/s    eta 4m 9s  "
     ]
    },
    {
     "name": "stdout",
     "output_type": "stream",
     "text": [
      "\r               Oppo  84%[===============>    ] 246.75M   215KB/s    eta 4m 9s  "
     ]
    },
    {
     "name": "stdout",
     "output_type": "stream",
     "text": [
      "\r              Oppor  84%[===============>    ] 246.75M  --.-KB/s    eta 4m 9s  "
     ]
    },
    {
     "name": "stdout",
     "output_type": "stream",
     "text": [
      "\r             Opport  84%[===============>    ] 246.75M  --.-KB/s    eta 4m 9s  "
     ]
    },
    {
     "name": "stdout",
     "output_type": "stream",
     "text": [
      "\r            Opportu  84%[===============>    ] 246.75M  --.-KB/s    eta 4m 10s "
     ]
    },
    {
     "name": "stdout",
     "output_type": "stream",
     "text": [
      "\r           Opportun  84%[===============>    ] 246.75M  --.-KB/s    eta 4m 10s "
     ]
    },
    {
     "name": "stdout",
     "output_type": "stream",
     "text": [
      "\r          Opportuni  84%[===============>    ] 246.75M  --.-KB/s    eta 4m 10s "
     ]
    },
    {
     "name": "stdout",
     "output_type": "stream",
     "text": [
      "\r         Opportunit  84%[===============>    ] 246.75M  --.-KB/s    eta 4m 10s "
     ]
    },
    {
     "name": "stdout",
     "output_type": "stream",
     "text": [
      "\r        Opportunity  84%[===============>    ] 246.75M  --.-KB/s    eta 4m 10s "
     ]
    },
    {
     "name": "stdout",
     "output_type": "stream",
     "text": [
      "\r       OpportunityU  84%[===============>    ] 246.75M  --.-KB/s    eta 4m 10s "
     ]
    },
    {
     "name": "stdout",
     "output_type": "stream",
     "text": [
      "\r      OpportunityUC  84%[===============>    ] 246.75M  --.-KB/s    eta 4m 11s "
     ]
    },
    {
     "name": "stdout",
     "output_type": "stream",
     "text": [
      "\r     OpportunityUCI  84%[===============>    ] 246.75M  --.-KB/s    eta 4m 11s "
     ]
    },
    {
     "name": "stdout",
     "output_type": "stream",
     "text": [
      "\r    OpportunityUCID  84%[===============>    ] 246.75M  --.-KB/s    eta 4m 11s "
     ]
    },
    {
     "name": "stdout",
     "output_type": "stream",
     "text": [
      "\r   OpportunityUCIDa  84%[===============>    ] 246.75M  --.-KB/s    eta 4m 11s "
     ]
    },
    {
     "name": "stdout",
     "output_type": "stream",
     "text": [
      "\r  OpportunityUCIDat  84%[===============>    ] 246.75M  --.-KB/s    eta 4m 11s "
     ]
    },
    {
     "name": "stdout",
     "output_type": "stream",
     "text": [
      "\r OpportunityUCIData  84%[===============>    ] 246.75M  --.-KB/s    eta 4m 11s "
     ]
    },
    {
     "name": "stdout",
     "output_type": "stream",
     "text": [
      "\rOpportunityUCIDatas  84%[===============>    ] 246.76M  8.00KB/s    eta 4m 13s "
     ]
    },
    {
     "name": "stdout",
     "output_type": "stream",
     "text": [
      "\rpportunityUCIDatase  84%[===============>    ] 246.79M  10.1KB/s    eta 4m 13s "
     ]
    },
    {
     "name": "stdout",
     "output_type": "stream",
     "text": [
      "\rportunityUCIDataset  84%[===============>    ] 246.80M  12.5KB/s    eta 4m 13s "
     ]
    },
    {
     "name": "stdout",
     "output_type": "stream",
     "text": [
      "\rortunityUCIDataset.  84%[===============>    ] 246.88M  27.8KB/s    eta 4m 13s "
     ]
    },
    {
     "name": "stdout",
     "output_type": "stream",
     "text": [
      "\rrtunityUCIDataset.z  84%[===============>    ] 246.99M  47.0KB/s    eta 4m 12s "
     ]
    },
    {
     "name": "stdout",
     "output_type": "stream",
     "text": [
      "\rtunityUCIDataset.zi  84%[===============>    ] 247.15M  71.9KB/s    eta 4m 12s "
     ]
    },
    {
     "name": "stdout",
     "output_type": "stream",
     "text": [
      "\runityUCIDataset.zip  84%[===============>    ] 247.34M   102KB/s    eta 4m 12s "
     ]
    },
    {
     "name": "stdout",
     "output_type": "stream",
     "text": [
      "\rnityUCIDataset.zip   84%[===============>    ] 247.49M   124KB/s    eta 4m 12s "
     ]
    },
    {
     "name": "stdout",
     "output_type": "stream",
     "text": [
      "\rityUCIDataset.zip    84%[===============>    ] 247.65M   142KB/s    eta 4m 8s  "
     ]
    },
    {
     "name": "stdout",
     "output_type": "stream",
     "text": [
      "\rtyUCIDataset.zip     84%[===============>    ] 247.91M   179KB/s    eta 4m 8s  "
     ]
    },
    {
     "name": "stdout",
     "output_type": "stream",
     "text": [
      "\ryUCIDataset.zip      84%[===============>    ] 248.22M   219KB/s    eta 4m 8s  "
     ]
    },
    {
     "name": "stdout",
     "output_type": "stream",
     "text": [
      "\rUCIDataset.zip       84%[===============>    ] 248.51M   152KB/s    eta 4m 3s  "
     ]
    },
    {
     "name": "stdout",
     "output_type": "stream",
     "text": [
      "\rCIDataset.zip        85%[================>   ] 248.91M   184KB/s    eta 4m 3s  "
     ]
    },
    {
     "name": "stdout",
     "output_type": "stream",
     "text": [
      "\rIDataset.zip         85%[================>   ] 249.35M   217KB/s    eta 4m 3s  "
     ]
    },
    {
     "name": "stdout",
     "output_type": "stream",
     "text": [
      "\rDataset.zip          85%[================>   ] 249.46M   156KB/s    eta 3m 58s "
     ]
    },
    {
     "name": "stdout",
     "output_type": "stream",
     "text": [
      "\rataset.zip           85%[================>   ] 249.95M   192KB/s    eta 3m 58s "
     ]
    },
    {
     "name": "stdout",
     "output_type": "stream",
     "text": [
      "\rtaset.zip            85%[================>   ] 250.57M   271KB/s    eta 3m 58s "
     ]
    },
    {
     "name": "stdout",
     "output_type": "stream",
     "text": [
      "\raset.zip             85%[================>   ] 250.76M   251KB/s    eta 3m 50s "
     ]
    },
    {
     "name": "stdout",
     "output_type": "stream",
     "text": [
      "\rset.zip              85%[================>   ] 251.32M   233KB/s    eta 3m 47s "
     ]
    },
    {
     "name": "stdout",
     "output_type": "stream",
     "text": [
      "\ret.zip               86%[================>   ] 251.90M   250KB/s    eta 3m 44s "
     ]
    },
    {
     "name": "stdout",
     "output_type": "stream",
     "text": [
      "\rt.zip                86%[================>   ] 252.41M   212KB/s    eta 3m 41s "
     ]
    },
    {
     "name": "stdout",
     "output_type": "stream",
     "text": [
      "\r.zip                 86%[================>   ] 253.13M   237KB/s    eta 3m 41s "
     ]
    },
    {
     "name": "stdout",
     "output_type": "stream",
     "text": [
      "\rzip                  86%[================>   ] 253.38M   238KB/s    eta 3m 35s "
     ]
    },
    {
     "name": "stdout",
     "output_type": "stream",
     "text": [
      "\rip                   86%[================>   ] 253.38M   230KB/s    eta 3m 35s "
     ]
    },
    {
     "name": "stdout",
     "output_type": "stream",
     "text": [
      "\rp                    86%[================>   ] 253.38M   225KB/s    eta 3m 36s "
     ]
    },
    {
     "name": "stdout",
     "output_type": "stream",
     "text": [
      "\r                     86%[================>   ] 253.45M   220KB/s    eta 3m 36s "
     ]
    },
    {
     "name": "stdout",
     "output_type": "stream",
     "text": [
      "\r                  O  86%[================>   ] 253.45M   213KB/s    eta 3m 35s "
     ]
    },
    {
     "name": "stdout",
     "output_type": "stream",
     "text": [
      "\r                 Op  86%[================>   ] 253.45M   207KB/s    eta 3m 35s "
     ]
    },
    {
     "name": "stdout",
     "output_type": "stream",
     "text": [
      "\r                Opp  86%[================>   ] 254.05M   221KB/s    eta 3m 32s "
     ]
    },
    {
     "name": "stdout",
     "output_type": "stream",
     "text": [
      "\r               Oppo  87%[================>   ] 254.84M   243KB/s    eta 3m 32s "
     ]
    },
    {
     "name": "stdout",
     "output_type": "stream",
     "text": [
      "\r              Oppor  87%[================>   ] 255.66M   266KB/s    eta 3m 32s "
     ]
    },
    {
     "name": "stdout",
     "output_type": "stream",
     "text": [
      "\r             Opport  87%[================>   ] 256.23M   276KB/s    eta 3m 32s "
     ]
    },
    {
     "name": "stdout",
     "output_type": "stream",
     "text": [
      "\r            Opportu  87%[================>   ] 256.99M   294KB/s    eta 3m 14s "
     ]
    },
    {
     "name": "stdout",
     "output_type": "stream",
     "text": [
      "\r           Opportun  88%[================>   ] 257.85M   313KB/s    eta 3m 14s "
     ]
    },
    {
     "name": "stdout",
     "output_type": "stream",
     "text": [
      "\r          Opportuni  88%[================>   ] 258.61M   328KB/s    eta 3m 4s  "
     ]
    },
    {
     "name": "stdout",
     "output_type": "stream",
     "text": [
      "\r         Opportunit  88%[================>   ] 258.61M   318KB/s    eta 3m 4s  "
     ]
    },
    {
     "name": "stdout",
     "output_type": "stream",
     "text": [
      "\r        Opportunity  88%[================>   ] 258.61M   310KB/s    eta 3m 4s  "
     ]
    },
    {
     "name": "stdout",
     "output_type": "stream",
     "text": [
      "\r       OpportunityU  88%[================>   ] 258.61M   302KB/s    eta 3m 4s  "
     ]
    },
    {
     "name": "stdout",
     "output_type": "stream",
     "text": [
      "\r      OpportunityUC  88%[================>   ] 259.41M   332KB/s    eta 2m 59s "
     ]
    },
    {
     "name": "stdout",
     "output_type": "stream",
     "text": [
      "\r     OpportunityUCI  89%[================>   ] 260.41M   354KB/s    eta 2m 59s "
     ]
    },
    {
     "name": "stdout",
     "output_type": "stream",
     "text": [
      "\r    OpportunityUCID  89%[================>   ] 261.04M   362KB/s    eta 2m 59s "
     ]
    },
    {
     "name": "stdout",
     "output_type": "stream",
     "text": [
      "\r   OpportunityUCIDa  89%[================>   ] 261.49M   285KB/s    eta 2m 49s "
     ]
    },
    {
     "name": "stdout",
     "output_type": "stream",
     "text": [
      "\r  OpportunityUCIDat  89%[================>   ] 261.57M   276KB/s    eta 2m 49s "
     ]
    },
    {
     "name": "stdout",
     "output_type": "stream",
     "text": [
      "\r OpportunityUCIData  89%[================>   ] 261.97M   279KB/s    eta 2m 46s "
     ]
    },
    {
     "name": "stdout",
     "output_type": "stream",
     "text": [
      "\rOpportunityUCIDatas  89%[================>   ] 262.65M   288KB/s    eta 2m 46s "
     ]
    },
    {
     "name": "stdout",
     "output_type": "stream",
     "text": [
      "\rpportunityUCIDatase  89%[================>   ] 262.91M   288KB/s    eta 2m 40s "
     ]
    },
    {
     "name": "stdout",
     "output_type": "stream",
     "text": [
      "\rportunityUCIDataset  89%[================>   ] 262.91M   296KB/s    eta 2m 40s "
     ]
    },
    {
     "name": "stdout",
     "output_type": "stream",
     "text": [
      "\rortunityUCIDataset.  90%[=================>  ] 263.60M   285KB/s    eta 2m 37s "
     ]
    },
    {
     "name": "stdout",
     "output_type": "stream",
     "text": [
      "\rrtunityUCIDataset.z  90%[=================>  ] 264.35M   324KB/s    eta 2m 32s "
     ]
    },
    {
     "name": "stdout",
     "output_type": "stream",
     "text": [
      "\rtunityUCIDataset.zi  90%[=================>  ] 265.24M   331KB/s    eta 2m 32s "
     ]
    },
    {
     "name": "stdout",
     "output_type": "stream",
     "text": [
      "\runityUCIDataset.zip  90%[=================>  ] 265.95M   342KB/s    eta 2m 23s "
     ]
    },
    {
     "name": "stdout",
     "output_type": "stream",
     "text": [
      "\rnityUCIDataset.zip   90%[=================>  ] 265.95M   333KB/s    eta 2m 23s "
     ]
    },
    {
     "name": "stdout",
     "output_type": "stream",
     "text": [
      "\rityUCIDataset.zip    90%[=================>  ] 265.95M   326KB/s    eta 2m 23s "
     ]
    },
    {
     "name": "stdout",
     "output_type": "stream",
     "text": [
      "\rtyUCIDataset.zip     90%[=================>  ] 265.95M   318KB/s    eta 2m 23s "
     ]
    },
    {
     "name": "stdout",
     "output_type": "stream",
     "text": [
      "\ryUCIDataset.zip      90%[=================>  ] 265.95M   311KB/s    eta 2m 23s "
     ]
    },
    {
     "name": "stdout",
     "output_type": "stream",
     "text": [
      "\rUCIDataset.zip       90%[=================>  ] 265.95M  --.-KB/s    eta 2m 23s "
     ]
    },
    {
     "name": "stdout",
     "output_type": "stream",
     "text": [
      "\rCIDataset.zip        90%[=================>  ] 265.95M  --.-KB/s    eta 2m 23s "
     ]
    },
    {
     "name": "stdout",
     "output_type": "stream",
     "text": [
      "\rIDataset.zip         90%[=================>  ] 265.95M  --.-KB/s    eta 2m 23s "
     ]
    },
    {
     "name": "stdout",
     "output_type": "stream",
     "text": [
      "\rDataset.zip          90%[=================>  ] 265.95M  --.-KB/s    eta 2m 24s "
     ]
    },
    {
     "name": "stdout",
     "output_type": "stream",
     "text": [
      "\rataset.zip           90%[=================>  ] 265.95M  --.-KB/s    eta 2m 24s "
     ]
    },
    {
     "name": "stdout",
     "output_type": "stream",
     "text": [
      "\rtaset.zip            90%[=================>  ] 265.96M  8.00KB/s    eta 2m 24s "
     ]
    },
    {
     "name": "stdout",
     "output_type": "stream",
     "text": [
      "\raset.zip             91%[=================>  ] 266.37M   350KB/s    eta 2m 24s "
     ]
    },
    {
     "name": "stdout",
     "output_type": "stream",
     "text": [
      "\rset.zip              91%[=================>  ] 266.91M   697KB/s    eta 2m 24s "
     ]
    },
    {
     "name": "stdout",
     "output_type": "stream",
     "text": [
      "\ret.zip               91%[=================>  ] 267.51M   988KB/s    eta 2m 24s "
     ]
    },
    {
     "name": "stdout",
     "output_type": "stream",
     "text": [
      "\rt.zip                91%[=================>  ] 268.13M  1.19MB/s    eta 2m 24s "
     ]
    },
    {
     "name": "stdout",
     "output_type": "stream",
     "text": [
      "\r.zip                 91%[=================>  ] 268.82M  1.41MB/s    eta 2m 7s  "
     ]
    },
    {
     "name": "stdout",
     "output_type": "stream",
     "text": [
      "\rzip                  92%[=================>  ] 269.26M  1.41MB/s    eta 2m 7s  "
     ]
    },
    {
     "name": "stdout",
     "output_type": "stream",
     "text": [
      "\rip                   92%[=================>  ] 269.66M   873KB/s    eta 2m 2s  "
     ]
    },
    {
     "name": "stdout",
     "output_type": "stream",
     "text": [
      "\rp                    92%[=================>  ] 269.76M   410KB/s    eta 2m 2s  "
     ]
    },
    {
     "name": "stdout",
     "output_type": "stream",
     "text": [
      "\r                     92%[=================>  ] 270.41M   409KB/s    eta 1m 58s "
     ]
    },
    {
     "name": "stdout",
     "output_type": "stream",
     "text": [
      "\r                  O  92%[=================>  ] 271.15M   384KB/s    eta 1m 54s "
     ]
    },
    {
     "name": "stdout",
     "output_type": "stream",
     "text": [
      "\r                 Op  93%[=================>  ] 271.99M   440KB/s    eta 1m 54s "
     ]
    },
    {
     "name": "stdout",
     "output_type": "stream",
     "text": [
      "\r                Opp  93%[=================>  ] 272.84M   494KB/s    eta 1m 54s "
     ]
    },
    {
     "name": "stdout",
     "output_type": "stream",
     "text": [
      "\r               Oppo  93%[=================>  ] 273.74M   551KB/s    eta 1m 54s "
     ]
    },
    {
     "name": "stdout",
     "output_type": "stream",
     "text": [
      "\r              Oppor  93%[=================>  ] 274.66M   608KB/s    eta 1m 54s "
     ]
    },
    {
     "name": "stdout",
     "output_type": "stream",
     "text": [
      "\r             Opport  93%[=================>  ] 274.84M   575KB/s    eta 93s    "
     ]
    },
    {
     "name": "stdout",
     "output_type": "stream",
     "text": [
      "\r            Opportu  94%[=================>  ] 275.85M   633KB/s    eta 93s    "
     ]
    },
    {
     "name": "stdout",
     "output_type": "stream",
     "text": [
      "\r           Opportun  94%[=================>  ] 276.90M   691KB/s    eta 93s    "
     ]
    },
    {
     "name": "stdout",
     "output_type": "stream",
     "text": [
      "\r          Opportuni  94%[=================>  ] 277.66M   405KB/s    eta 78s    "
     ]
    },
    {
     "name": "stdout",
     "output_type": "stream",
     "text": [
      "\r         Opportunit  95%[==================> ] 278.63M   440KB/s    eta 78s    "
     ]
    },
    {
     "name": "stdout",
     "output_type": "stream",
     "text": [
      "\r        Opportunity  95%[==================> ] 279.74M   465KB/s    eta 67s    "
     ]
    },
    {
     "name": "stdout",
     "output_type": "stream",
     "text": [
      "\r       OpportunityU  96%[==================> ] 280.90M   490KB/s    eta 67s    "
     ]
    },
    {
     "name": "stdout",
     "output_type": "stream",
     "text": [
      "\r      OpportunityUC  96%[==================> ] 280.97M   477KB/s    eta 60s    "
     ]
    },
    {
     "name": "stdout",
     "output_type": "stream",
     "text": [
      "\r     OpportunityUCI  96%[==================> ] 280.97M   462KB/s    eta 60s    "
     ]
    },
    {
     "name": "stdout",
     "output_type": "stream",
     "text": [
      "\r    OpportunityUCID  96%[==================> ] 280.97M   449KB/s    eta 60s    "
     ]
    },
    {
     "name": "stdout",
     "output_type": "stream",
     "text": [
      "\r   OpportunityUCIDa  96%[==================> ] 280.97M   436KB/s    eta 60s    "
     ]
    },
    {
     "name": "stdout",
     "output_type": "stream",
     "text": [
      "\r  OpportunityUCIDat  96%[==================> ] 280.97M   424KB/s    eta 60s    "
     ]
    },
    {
     "name": "stdout",
     "output_type": "stream",
     "text": [
      "\r OpportunityUCIData  96%[==================> ] 280.97M  --.-KB/s    eta 60s    "
     ]
    },
    {
     "name": "stdout",
     "output_type": "stream",
     "text": [
      "\rOpportunityUCIDatas  96%[==================> ] 280.97M  --.-KB/s    eta 60s    "
     ]
    },
    {
     "name": "stdout",
     "output_type": "stream",
     "text": [
      "\rpportunityUCIDatase  96%[==================> ] 280.97M  --.-KB/s    eta 60s    "
     ]
    },
    {
     "name": "stdout",
     "output_type": "stream",
     "text": [
      "\rportunityUCIDataset  96%[==================> ] 280.98M  8.00KB/s    eta 60s    "
     ]
    },
    {
     "name": "stdout",
     "output_type": "stream",
     "text": [
      "\rortunityUCIDataset.  96%[==================> ] 281.34M  48.7KB/s    eta 59s    "
     ]
    },
    {
     "name": "stdout",
     "output_type": "stream",
     "text": [
      "\rrtunityUCIDataset.z  96%[==================> ] 281.44M  55.4KB/s    eta 59s    "
     ]
    },
    {
     "name": "stdout",
     "output_type": "stream",
     "text": [
      "\rtunityUCIDataset.zi  96%[==================> ] 281.44M  49.9KB/s    eta 58s    "
     ]
    },
    {
     "name": "stdout",
     "output_type": "stream",
     "text": [
      "\runityUCIDataset.zip  96%[==================> ] 281.44M  45.4KB/s    eta 58s    "
     ]
    },
    {
     "name": "stdout",
     "output_type": "stream",
     "text": [
      "\rnityUCIDataset.zip   96%[==================> ] 281.44M  41.7KB/s    eta 58s    "
     ]
    },
    {
     "name": "stdout",
     "output_type": "stream",
     "text": [
      "\rityUCIDataset.zip    96%[==================> ] 281.44M  38.5KB/s    eta 58s    "
     ]
    },
    {
     "name": "stdout",
     "output_type": "stream",
     "text": [
      "\rtyUCIDataset.zip     96%[==================> ] 281.44M  --.-KB/s    eta 58s    "
     ]
    },
    {
     "name": "stdout",
     "output_type": "stream",
     "text": [
      "\ryUCIDataset.zip      96%[==================> ] 281.44M  --.-KB/s    eta 58s    "
     ]
    },
    {
     "name": "stdout",
     "output_type": "stream",
     "text": [
      "\rUCIDataset.zip       96%[==================> ] 281.44M  --.-KB/s    eta 58s    "
     ]
    },
    {
     "name": "stdout",
     "output_type": "stream",
     "text": [
      "\rCIDataset.zip        96%[==================> ] 281.44M  --.-KB/s    eta 58s    "
     ]
    },
    {
     "name": "stdout",
     "output_type": "stream",
     "text": [
      "\rIDataset.zip         96%[==================> ] 281.44M  --.-KB/s    eta 59s    "
     ]
    },
    {
     "name": "stdout",
     "output_type": "stream",
     "text": [
      "\rDataset.zip          96%[==================> ] 281.44M  --.-KB/s    eta 59s    "
     ]
    },
    {
     "name": "stdout",
     "output_type": "stream",
     "text": [
      "\rataset.zip           96%[==================> ] 281.44M  --.-KB/s    eta 59s    "
     ]
    },
    {
     "name": "stdout",
     "output_type": "stream",
     "text": [
      "\rtaset.zip            96%[==================> ] 281.44M  --.-KB/s    eta 59s    "
     ]
    },
    {
     "name": "stdout",
     "output_type": "stream",
     "text": [
      "\raset.zip             96%[==================> ] 281.44M  --.-KB/s    eta 59s    "
     ]
    },
    {
     "name": "stdout",
     "output_type": "stream",
     "text": [
      "\rset.zip              96%[==================> ] 281.44M  --.-KB/s    eta 59s    "
     ]
    },
    {
     "name": "stdout",
     "output_type": "stream",
     "text": [
      "\ret.zip               96%[==================> ] 281.44M  --.-KB/s    eta 59s    "
     ]
    },
    {
     "name": "stdout",
     "output_type": "stream",
     "text": [
      "\rt.zip                96%[==================> ] 281.44M  --.-KB/s    eta 59s    "
     ]
    },
    {
     "name": "stdout",
     "output_type": "stream",
     "text": [
      "\r.zip                 96%[==================> ] 281.44M  --.-KB/s    eta 59s    "
     ]
    },
    {
     "name": "stdout",
     "output_type": "stream",
     "text": [
      "\rzip                  96%[==================> ] 281.44M  --.-KB/s    eta 59s    "
     ]
    },
    {
     "name": "stdout",
     "output_type": "stream",
     "text": [
      "\rip                   96%[==================> ] 281.44M  --.-KB/s    eta 59s    "
     ]
    },
    {
     "name": "stdout",
     "output_type": "stream",
     "text": [
      "\rp                    96%[==================> ] 281.44M  --.-KB/s    eta 59s    "
     ]
    },
    {
     "name": "stdout",
     "output_type": "stream",
     "text": [
      "\r                     96%[==================> ] 281.44M  --.-KB/s    eta 59s    "
     ]
    },
    {
     "name": "stdout",
     "output_type": "stream",
     "text": [
      "\r                  O  96%[==================> ] 281.44M  --.-KB/s    eta 59s    "
     ]
    },
    {
     "name": "stdout",
     "output_type": "stream",
     "text": [
      "\r                 Op  96%[==================> ] 281.44M  --.-KB/s    eta 59s    "
     ]
    },
    {
     "name": "stdout",
     "output_type": "stream",
     "text": [
      "\r                Opp  96%[==================> ] 281.44M  --.-KB/s    eta 59s    "
     ]
    },
    {
     "name": "stdout",
     "output_type": "stream",
     "text": [
      "\r               Oppo  96%[==================> ] 281.44M  --.-KB/s    eta 59s    "
     ]
    },
    {
     "name": "stdout",
     "output_type": "stream",
     "text": [
      "\r              Oppor  96%[==================> ] 281.44M  --.-KB/s    eta 59s    "
     ]
    },
    {
     "name": "stdout",
     "output_type": "stream",
     "text": [
      "\r             Opport  96%[==================> ] 281.44M  --.-KB/s    eta 59s    "
     ]
    },
    {
     "name": "stdout",
     "output_type": "stream",
     "text": [
      "\r            Opportu  96%[==================> ] 281.44M  --.-KB/s    eta 59s    "
     ]
    },
    {
     "name": "stdout",
     "output_type": "stream",
     "text": [
      "\r           Opportun  96%[==================> ] 281.44M  --.-KB/s    eta 59s    "
     ]
    },
    {
     "name": "stdout",
     "output_type": "stream",
     "text": [
      "\r          Opportuni  96%[==================> ] 281.44M  --.-KB/s    eta 59s    "
     ]
    },
    {
     "name": "stdout",
     "output_type": "stream",
     "text": [
      "\r         Opportunit  96%[==================> ] 281.44M  --.-KB/s    eta 59s    "
     ]
    },
    {
     "name": "stdout",
     "output_type": "stream",
     "text": [
      "\r        Opportunity  96%[==================> ] 281.44M  --.-KB/s    eta 59s    "
     ]
    },
    {
     "name": "stdout",
     "output_type": "stream",
     "text": [
      "\r       OpportunityU  96%[==================> ] 281.44M  --.-KB/s    eta 59s    "
     ]
    },
    {
     "name": "stdout",
     "output_type": "stream",
     "text": [
      "\r      OpportunityUC  96%[==================> ] 281.44M  --.-KB/s    eta 59s    "
     ]
    },
    {
     "name": "stdout",
     "output_type": "stream",
     "text": [
      "\r     OpportunityUCI  96%[==================> ] 281.44M  --.-KB/s    eta 59s    "
     ]
    },
    {
     "name": "stdout",
     "output_type": "stream",
     "text": [
      "\r    OpportunityUCID  96%[==================> ] 281.44M  --.-KB/s    eta 59s    "
     ]
    },
    {
     "name": "stdout",
     "output_type": "stream",
     "text": [
      "\r   OpportunityUCIDa  96%[==================> ] 281.44M  --.-KB/s    eta 60s    "
     ]
    },
    {
     "name": "stdout",
     "output_type": "stream",
     "text": [
      "\r  OpportunityUCIDat  96%[==================> ] 281.44M  --.-KB/s    eta 60s    "
     ]
    },
    {
     "name": "stdout",
     "output_type": "stream",
     "text": [
      "\r OpportunityUCIData  96%[==================> ] 281.44M  --.-KB/s    eta 60s    "
     ]
    },
    {
     "name": "stdout",
     "output_type": "stream",
     "text": [
      "\rOpportunityUCIDatas  96%[==================> ] 281.44M  --.-KB/s    eta 60s    "
     ]
    },
    {
     "name": "stdout",
     "output_type": "stream",
     "text": [
      "\rpportunityUCIDatase  96%[==================> ] 281.44M  --.-KB/s    eta 60s    "
     ]
    },
    {
     "name": "stdout",
     "output_type": "stream",
     "text": [
      "\rportunityUCIDataset  96%[==================> ] 281.44M  --.-KB/s    eta 60s    "
     ]
    },
    {
     "name": "stdout",
     "output_type": "stream",
     "text": [
      "\rortunityUCIDataset.  96%[==================> ] 281.44M  --.-KB/s    eta 60s    "
     ]
    },
    {
     "name": "stdout",
     "output_type": "stream",
     "text": [
      "\rrtunityUCIDataset.z  96%[==================> ] 281.44M  --.-KB/s    eta 60s    "
     ]
    },
    {
     "name": "stdout",
     "output_type": "stream",
     "text": [
      "\rtunityUCIDataset.zi  96%[==================> ] 281.44M  --.-KB/s    eta 60s    "
     ]
    },
    {
     "name": "stdout",
     "output_type": "stream",
     "text": [
      "\runityUCIDataset.zip  96%[==================> ] 281.44M  --.-KB/s    eta 60s    "
     ]
    },
    {
     "name": "stdout",
     "output_type": "stream",
     "text": [
      "\rnityUCIDataset.zip   96%[==================> ] 281.44M  --.-KB/s    eta 60s    "
     ]
    },
    {
     "name": "stdout",
     "output_type": "stream",
     "text": [
      "\rityUCIDataset.zip    96%[==================> ] 281.44M  --.-KB/s    eta 60s    "
     ]
    },
    {
     "name": "stdout",
     "output_type": "stream",
     "text": [
      "\rtyUCIDataset.zip     96%[==================> ] 281.44M  --.-KB/s    eta 60s    "
     ]
    },
    {
     "name": "stdout",
     "output_type": "stream",
     "text": [
      "\ryUCIDataset.zip      96%[==================> ] 281.44M  --.-KB/s    eta 60s    "
     ]
    },
    {
     "name": "stdout",
     "output_type": "stream",
     "text": [
      "\rUCIDataset.zip       96%[==================> ] 281.44M  --.-KB/s    eta 60s    "
     ]
    },
    {
     "name": "stdout",
     "output_type": "stream",
     "text": [
      "\rCIDataset.zip        96%[==================> ] 281.44M  --.-KB/s    eta 60s    "
     ]
    },
    {
     "name": "stdout",
     "output_type": "stream",
     "text": [
      "\rIDataset.zip         96%[==================> ] 281.44M  --.-KB/s    eta 60s    "
     ]
    },
    {
     "name": "stdout",
     "output_type": "stream",
     "text": [
      "\rDataset.zip          96%[==================> ] 281.44M  --.-KB/s    eta 60s    "
     ]
    },
    {
     "name": "stdout",
     "output_type": "stream",
     "text": [
      "\rataset.zip           96%[==================> ] 281.44M  --.-KB/s    eta 60s    "
     ]
    },
    {
     "name": "stdout",
     "output_type": "stream",
     "text": [
      "\rtaset.zip            96%[==================> ] 281.44M  --.-KB/s    eta 60s    "
     ]
    },
    {
     "name": "stdout",
     "output_type": "stream",
     "text": [
      "\raset.zip             96%[==================> ] 281.44M  --.-KB/s    eta 60s    "
     ]
    },
    {
     "name": "stdout",
     "output_type": "stream",
     "text": [
      "\rset.zip              96%[==================> ] 281.44M  --.-KB/s    eta 60s    "
     ]
    },
    {
     "name": "stdout",
     "output_type": "stream",
     "text": [
      "\ret.zip               96%[==================> ] 281.44M  --.-KB/s    eta 60s    "
     ]
    },
    {
     "name": "stdout",
     "output_type": "stream",
     "text": [
      "\rt.zip                96%[==================> ] 281.44M  --.-KB/s    eta 60s    "
     ]
    },
    {
     "name": "stdout",
     "output_type": "stream",
     "text": [
      "\r.zip                 96%[==================> ] 281.44M  --.-KB/s    eta 60s    "
     ]
    },
    {
     "name": "stdout",
     "output_type": "stream",
     "text": [
      "\rzip                  96%[==================> ] 281.44M  --.-KB/s    eta 60s    "
     ]
    },
    {
     "name": "stdout",
     "output_type": "stream",
     "text": [
      "\rip                   96%[==================> ] 281.44M  --.-KB/s    eta 61s    "
     ]
    },
    {
     "name": "stdout",
     "output_type": "stream",
     "text": [
      "\rp                    96%[==================> ] 281.45M  8.00KB/s    eta 61s    "
     ]
    },
    {
     "name": "stdout",
     "output_type": "stream",
     "text": [
      "\r                     96%[==================> ] 281.57M  21.9KB/s    eta 60s    "
     ]
    },
    {
     "name": "stdout",
     "output_type": "stream",
     "text": [
      "\r                  O  96%[==================> ] 281.73M  40.5KB/s    eta 60s    "
     ]
    },
    {
     "name": "stdout",
     "output_type": "stream",
     "text": [
      "\r                 Op  96%[==================> ] 281.91M  43.5KB/s    eta 59s    "
     ]
    },
    {
     "name": "stdout",
     "output_type": "stream",
     "text": [
      "\r                Opp  96%[==================> ] 282.12M  57.8KB/s    eta 59s    "
     ]
    },
    {
     "name": "stdout",
     "output_type": "stream",
     "text": [
      "\r               Oppo  96%[==================> ] 282.45M  84.3KB/s    eta 56s    "
     ]
    },
    {
     "name": "stdout",
     "output_type": "stream",
     "text": [
      "\r              Oppor  96%[==================> ] 282.84M   115KB/s    eta 56s    "
     ]
    },
    {
     "name": "stdout",
     "output_type": "stream",
     "text": [
      "\r             Opport  96%[==================> ] 283.21M   141KB/s    eta 56s    "
     ]
    },
    {
     "name": "stdout",
     "output_type": "stream",
     "text": [
      "\r            Opportu  96%[==================> ] 283.54M   160KB/s    eta 49s    "
     ]
    },
    {
     "name": "stdout",
     "output_type": "stream",
     "text": [
      "\r           Opportun  97%[==================> ] 283.90M  39.2KB/s    eta 49s    "
     ]
    },
    {
     "name": "stdout",
     "output_type": "stream",
     "text": [
      "\r          Opportuni  97%[==================> ] 284.45M  47.8KB/s    eta 49s    "
     ]
    },
    {
     "name": "stdout",
     "output_type": "stream",
     "text": [
      "\r         Opportunit  97%[==================> ] 285.04M  57.0KB/s    eta 49s    "
     ]
    },
    {
     "name": "stdout",
     "output_type": "stream",
     "text": [
      "\r        Opportunity  97%[==================> ] 285.68M  67.0KB/s    eta 49s    "
     ]
    },
    {
     "name": "stdout",
     "output_type": "stream",
     "text": [
      "\r       OpportunityU  97%[==================> ] 285.90M  67.5KB/s    eta 37s    "
     ]
    },
    {
     "name": "stdout",
     "output_type": "stream",
     "text": [
      "\r      OpportunityUC  98%[==================> ] 286.63M  78.4KB/s    eta 37s    "
     ]
    },
    {
     "name": "stdout",
     "output_type": "stream",
     "text": [
      "\r     OpportunityUCI  98%[==================> ] 287.45M  90.4KB/s    eta 37s    "
     ]
    },
    {
     "name": "stdout",
     "output_type": "stream",
     "text": [
      "\r    OpportunityUCID  98%[==================> ] 288.29M   103KB/s    eta 37s    "
     ]
    },
    {
     "name": "stdout",
     "output_type": "stream",
     "text": [
      "\r   OpportunityUCIDa  98%[==================> ] 288.71M   108KB/s    eta 21s    "
     ]
    },
    {
     "name": "stdout",
     "output_type": "stream",
     "text": [
      "\r  OpportunityUCIDat  99%[==================> ] 289.54M   116KB/s    eta 16s    "
     ]
    },
    {
     "name": "stdout",
     "output_type": "stream",
     "text": [
      "\r OpportunityUCIData  99%[==================> ] 290.38M   126KB/s    eta 12s    "
     ]
    },
    {
     "name": "stdout",
     "output_type": "stream",
     "text": [
      "\rOpportunityUCIDatas  99%[==================> ] 291.38M   149KB/s    eta 12s    "
     ]
    },
    {
     "name": "stdout",
     "output_type": "stream",
     "text": [
      "\rpportunityUCIDatase  99%[==================> ] 292.39M   164KB/s    eta 12s    \rOpportunityUCIDatas 100%[===================>] 292.43M   164KB/s    in 27m 16s \r\n\r\n2017-02-17 17:58:34 (183 KB/s) - ‘OpportunityUCIDataset.zip’ saved [306636009/306636009]\r\n\r\n"
     ]
    }
   ],
   "source": [
    "!wget https://archive.ics.uci.edu/ml/machine-learning-databases/00226/OpportunityUCIDataset.zip"
   ]
  },
  {
   "cell_type": "code",
   "execution_count": 3,
   "metadata": {
    "collapsed": false
   },
   "outputs": [
    {
     "name": "stdout",
     "output_type": "stream",
     "text": [
      "usage: preprocess_data.py [-h] -i INPUT -o OUTPUT [-t {gestures,locomotion}]\r\n\r\nPreprocess OPPORTUNITY dataset\r\n\r\noptional arguments:\r\n  -h, --help            show this help message and exit\r\n  -i INPUT, --input INPUT\r\n                        OPPORTUNITY zip file\r\n  -o OUTPUT, --output OUTPUT\r\n                        Processed data file\r\n  -t {gestures,locomotion}, --task {gestures,locomotion}\r\n                        Type of activities to be recognized\r\n"
     ]
    }
   ],
   "source": [
    "!python preprocess_data.py -h"
   ]
  },
  {
   "cell_type": "code",
   "execution_count": 1,
   "metadata": {},
   "outputs": [
    {
     "name": "stdout",
     "output_type": "stream",
     "text": [
      "Checking dataset data/OpportunityUCIDataset.zip\r\n... dataset path data/OpportunityUCIDataset.zip not found\r\n... creating directory data\r\n... downloading data from https://archive.ics.uci.edu/ml/machine-learning-databases/00226/OpportunityUCIDataset.zip\r\n"
     ]
    },
    {
     "name": "stdout",
     "output_type": "stream",
     "text": [
      "Processing dataset files ...\r\n"
     ]
    },
    {
     "name": "stdout",
     "output_type": "stream",
     "text": [
      "... file OpportunityUCIDataset/dataset/S1-Drill.dat\r\n"
     ]
    },
    {
     "name": "stdout",
     "output_type": "stream",
     "text": [
      "... file OpportunityUCIDataset/dataset/S1-ADL1.dat\r\n"
     ]
    },
    {
     "name": "stdout",
     "output_type": "stream",
     "text": [
      "... file OpportunityUCIDataset/dataset/S1-ADL2.dat\r\n"
     ]
    },
    {
     "name": "stdout",
     "output_type": "stream",
     "text": [
      "... file OpportunityUCIDataset/dataset/S1-ADL3.dat\r\n"
     ]
    },
    {
     "name": "stdout",
     "output_type": "stream",
     "text": [
      "... file OpportunityUCIDataset/dataset/S1-ADL4.dat\r\n"
     ]
    },
    {
     "name": "stdout",
     "output_type": "stream",
     "text": [
      "... file OpportunityUCIDataset/dataset/S1-ADL5.dat\r\n"
     ]
    },
    {
     "name": "stdout",
     "output_type": "stream",
     "text": [
      "... file OpportunityUCIDataset/dataset/S2-Drill.dat\r\n"
     ]
    },
    {
     "name": "stdout",
     "output_type": "stream",
     "text": [
      "... file OpportunityUCIDataset/dataset/S2-ADL1.dat\r\n"
     ]
    },
    {
     "name": "stdout",
     "output_type": "stream",
     "text": [
      "... file OpportunityUCIDataset/dataset/S2-ADL2.dat\r\n"
     ]
    },
    {
     "name": "stdout",
     "output_type": "stream",
     "text": [
      "... file OpportunityUCIDataset/dataset/S2-ADL3.dat\r\n"
     ]
    },
    {
     "name": "stdout",
     "output_type": "stream",
     "text": [
      "... file OpportunityUCIDataset/dataset/S3-Drill.dat\r\n"
     ]
    },
    {
     "name": "stdout",
     "output_type": "stream",
     "text": [
      "... file OpportunityUCIDataset/dataset/S3-ADL1.dat\r\n"
     ]
    },
    {
     "name": "stdout",
     "output_type": "stream",
     "text": [
      "... file OpportunityUCIDataset/dataset/S3-ADL2.dat\r\n"
     ]
    },
    {
     "name": "stdout",
     "output_type": "stream",
     "text": [
      "... file OpportunityUCIDataset/dataset/S3-ADL3.dat\r\n"
     ]
    },
    {
     "name": "stdout",
     "output_type": "stream",
     "text": [
      "... file OpportunityUCIDataset/dataset/S2-ADL4.dat\r\n"
     ]
    },
    {
     "name": "stdout",
     "output_type": "stream",
     "text": [
      "... file OpportunityUCIDataset/dataset/S2-ADL5.dat\r\n"
     ]
    },
    {
     "name": "stdout",
     "output_type": "stream",
     "text": [
      "... file OpportunityUCIDataset/dataset/S3-ADL4.dat\r\n"
     ]
    },
    {
     "name": "stdout",
     "output_type": "stream",
     "text": [
      "... file OpportunityUCIDataset/dataset/S3-ADL5.dat\r\n"
     ]
    },
    {
     "name": "stdout",
     "output_type": "stream",
     "text": [
      "Final datasets with size: | train (557963, 113) | test (118750, 113) | \r\n"
     ]
    }
   ],
   "source": [
    "!python preprocess_data.py -i data/OpportunityUCIDataset.zip -o oppChallenge_gestures.data"
   ]
  },
  {
   "cell_type": "heading",
   "metadata": {},
   "level": 2,
   "source": [
    "Running DeepConvLSTM"
   ]
  },
  {
   "cell_type": "raw",
   "metadata": {},
   "source": [
    "DeepConvLSTM is defined as a neural netowrk which combines convolutional and recurrent layers. The convolutional\n",
    "layers act as feature extractors and provide abstract representations of the input sensor data in feature\n",
    "maps. The recurrent layers model the temporal dynamics of the activation of the feature maps."
   ]
  },
  {
   "cell_type": "heading",
   "metadata": {},
   "level": 3,
   "source": [
    "Setup"
   ]
  },
  {
   "cell_type": "code",
   "execution_count": 3,
   "metadata": {
    "collapsed": false
   },
   "outputs": [
    {
     "ename": "ImportError",
     "evalue": "No module named lasagne",
     "traceback": [
      "\u001b[1;31m\u001b[0m",
      "\u001b[1;31mImportError\u001b[0mTraceback (most recent call last)",
      "\u001b[1;32m<ipython-input-3-259e46ed0da6>\u001b[0m in \u001b[0;36m<module>\u001b[1;34m()\u001b[0m\n\u001b[1;32m----> 1\u001b[1;33m \u001b[1;32mimport\u001b[0m \u001b[0mlasagne\u001b[0m\u001b[1;33m\u001b[0m\u001b[0m\n\u001b[0m\u001b[0;32m      2\u001b[0m \u001b[1;32mimport\u001b[0m \u001b[0mtheano\u001b[0m\u001b[1;33m\u001b[0m\u001b[0m\n\u001b[0;32m      3\u001b[0m \u001b[1;32mimport\u001b[0m \u001b[0mtime\u001b[0m\u001b[1;33m\u001b[0m\u001b[0m\n\u001b[0;32m      4\u001b[0m \u001b[1;33m\u001b[0m\u001b[0m\n\u001b[0;32m      5\u001b[0m \u001b[1;32mimport\u001b[0m \u001b[0mnumpy\u001b[0m \u001b[1;32mas\u001b[0m \u001b[0mnp\u001b[0m\u001b[1;33m\u001b[0m\u001b[0m\n",
      "\u001b[1;31mImportError\u001b[0m: No module named lasagne"
     ],
     "output_type": "error"
    }
   ],
   "source": [
    "import lasagne\n",
    "import theano\n",
    "import time\n",
    "\n",
    "import numpy as np\n",
    "import cPickle as cp\n",
    "import theano.tensor as T\n",
    "from sliding_window import sliding_window\n",
    "\n",
    "# Hardcoded number of sensor channels employed in the OPPORTUNITY challenge\n",
    "NB_SENSOR_CHANNELS = 113\n",
    "\n",
    "# Hardcoded number of classes in the gesture recognition problem\n",
    "NUM_CLASSES = 18\n",
    "\n",
    "# Hardcoded length of the sliding window mechanism employed to segment the data\n",
    "SLIDING_WINDOW_LENGTH = 24\n",
    "\n",
    "# Length of the input sequence after convolutional operations\n",
    "FINAL_SEQUENCE_LENGTH = 8\n",
    "\n",
    "# Hardcoded step of the sliding window mechanism employed to segment the data\n",
    "SLIDING_WINDOW_STEP = 12\n",
    "\n",
    "# Batch Size\n",
    "BATCH_SIZE = 100\n",
    "\n",
    "# Number filters convolutional layers\n",
    "NUM_FILTERS = 64\n",
    "\n",
    "# Size filters convolutional layers\n",
    "FILTER_SIZE = 5\n",
    "\n",
    "# Number of unit in the long short-term recurrent layers\n",
    "NUM_UNITS_LSTM = 128"
   ]
  },
  {
   "cell_type": "heading",
   "metadata": {},
   "level": 3,
   "source": [
    "Load the sensor data"
   ]
  },
  {
   "cell_type": "raw",
   "metadata": {},
   "source": [
    "Load the OPPORTUNITY processed dataset. Sensor data is segmented using a sliding window of fixed length. The class associated with each segment corresponds to the gesture which has been observed during that interval. Given a sliding window of length T, we choose the class of the sequence as the label at t=T, or in other words, the label of last sample in the window."
   ]
  },
  {
   "cell_type": "code",
   "execution_count": 14,
   "metadata": {},
   "outputs": [
    {
     "name": "stdout",
     "output_type": "stream",
     "text": [
      "Loading data...\n",
      " ..from file data/oppChallenge_gestures.data"
     ]
    },
    {
     "name": "stdout",
     "output_type": "stream",
     "text": [
      "\n",
      " ..reading instances: train (557963, 113), test (118750, 113)\n",
      " ..after sliding window (testing): inputs (9894, 24, 113), targets (9894,)"
     ]
    },
    {
     "name": "stdout",
     "output_type": "stream",
     "text": [
      "\n"
     ]
    }
   ],
   "source": [
    "def load_dataset(filename):\n",
    "\n",
    "    f = file(filename, 'rb')\n",
    "    data = cp.load(f)\n",
    "    f.close()\n",
    "\n",
    "    X_train, y_train = data[0]\n",
    "    X_test, y_test = data[1]\n",
    "\n",
    "    print(\" ..from file {}\".format(filename))\n",
    "    print(\" ..reading instances: train {0}, test {1}\".format(X_train.shape, X_test.shape))\n",
    "\n",
    "    X_train = X_train.astype(np.float32)\n",
    "    X_test = X_test.astype(np.float32)\n",
    "\n",
    "    # The targets are casted to int8 for GPU compatibility.\n",
    "    y_train = y_train.astype(np.uint8)\n",
    "    y_test = y_test.astype(np.uint8)\n",
    "\n",
    "    return X_train, y_train, X_test, y_test\n",
    "\n",
    "print(\"Loading data...\")\n",
    "X_train, y_train, X_test, y_test = load_dataset('data/oppChallenge_gestures.data')\n",
    "\n",
    "assert NB_SENSOR_CHANNELS == X_train.shape[1]\n",
    "def opp_sliding_window(data_x, data_y, ws, ss):\n",
    "    data_x = sliding_window(data_x,(ws,data_x.shape[1]),(ss,1))\n",
    "    data_y = np.asarray([[i[-1]] for i in sliding_window(data_y,ws,ss)])\n",
    "    return data_x.astype(np.float32), data_y.reshape(len(data_y)).astype(np.uint8)\n",
    "\n",
    "# Sensor data is segmented using a sliding window mechanism\n",
    "X_test, y_test = opp_sliding_window(X_test, y_test, SLIDING_WINDOW_LENGTH, SLIDING_WINDOW_STEP)\n",
    "print(\" ..after sliding window (testing): inputs {0}, targets {1}\".format(X_test.shape, y_test.shape))\n",
    "\n",
    "# Data is reshaped since the input of the network is a 4 dimension tensor\n",
    "X_test = X_test.reshape((-1, 1, SLIDING_WINDOW_LENGTH, NB_SENSOR_CHANNELS))"
   ]
  },
  {
   "cell_type": "heading",
   "metadata": {},
   "level": 3,
   "source": [
    "Define the Lasagne network"
   ]
  },
  {
   "cell_type": "code",
   "execution_count": null,
   "metadata": {
    "collapsed": true
   },
   "outputs": [],
   "source": [
    "def iterate_minibatches(inputs, targets, batchsize, shuffle=False):\n",
    "    assert len(inputs) == len(targets)\n",
    "    if shuffle:\n",
    "        indices = np.arange(len(inputs))\n",
    "        np.random.shuffle(indices)\n",
    "    for start_idx in range(0, len(inputs) - batchsize + 1, batchsize):\n",
    "        if shuffle:\n",
    "            excerpt = indices[start_idx:start_idx + batchsize]\n",
    "        else:\n",
    "            excerpt = slice(start_idx, start_idx + batchsize)\n",
    "        yield inputs[excerpt], targets[excerpt]\n",
    "        \n",
    "# Classification of the testing data\n",
    "print(\"Processing {0} instances in mini-batches of {1}\".format(X_test.shape[0],BATCH_SIZE))\n",
    "test_pred = np.empty((0))\n",
    "test_true = np.empty((0))\n",
    "start_time = time.time()\n",
    "for batch in iterate_minibatches(X_test, y_test, BATCH_SIZE):\n",
    "    inputs, targets = batch\n",
    "    y_pred, = test_fn(inputs)\n",
    "    test_pred = np.append(test_pred, y_pred, axis=0)\n",
    "    test_true = np.append(test_true, targets, axis=0)"
   ]
  },
  {
   "cell_type": "code",
   "execution_count": 2,
   "metadata": {},
   "outputs": [
    {
     "ename": "NameError",
     "evalue": "name 'lasagne' is not defined",
     "traceback": [
      "\u001b[1;31m\u001b[0m",
      "\u001b[1;31mNameError\u001b[0mTraceback (most recent call last)",
      "\u001b[1;32m<ipython-input-2-ee72facb07ab>\u001b[0m in \u001b[0;36m<module>\u001b[1;34m()\u001b[0m\n\u001b[0;32m      1\u001b[0m \u001b[0mnet\u001b[0m \u001b[1;33m=\u001b[0m \u001b[1;33m{\u001b[0m\u001b[1;33m}\u001b[0m\u001b[1;33m\u001b[0m\u001b[0m\n\u001b[1;32m----> 2\u001b[1;33m \u001b[0mnet\u001b[0m\u001b[1;33m[\u001b[0m\u001b[1;34m'input'\u001b[0m\u001b[1;33m]\u001b[0m \u001b[1;33m=\u001b[0m \u001b[0mlasagne\u001b[0m\u001b[1;33m.\u001b[0m\u001b[0mlayers\u001b[0m\u001b[1;33m.\u001b[0m\u001b[0mInputLayer\u001b[0m\u001b[1;33m(\u001b[0m\u001b[1;33m(\u001b[0m\u001b[0mBATCH_SIZE\u001b[0m\u001b[1;33m,\u001b[0m \u001b[1;36m1\u001b[0m\u001b[1;33m,\u001b[0m \u001b[0mSLIDING_WINDOW_LENGTH\u001b[0m\u001b[1;33m,\u001b[0m \u001b[0mNB_SENSOR_CHANNELS\u001b[0m\u001b[1;33m)\u001b[0m\u001b[1;33m)\u001b[0m\u001b[1;33m\u001b[0m\u001b[0m\n\u001b[0m\u001b[0;32m      3\u001b[0m \u001b[0mnet\u001b[0m\u001b[1;33m[\u001b[0m\u001b[1;34m'conv1/5x1'\u001b[0m\u001b[1;33m]\u001b[0m \u001b[1;33m=\u001b[0m \u001b[0mlasagne\u001b[0m\u001b[1;33m.\u001b[0m\u001b[0mlayers\u001b[0m\u001b[1;33m.\u001b[0m\u001b[0mConv2DLayer\u001b[0m\u001b[1;33m(\u001b[0m\u001b[0mnet\u001b[0m\u001b[1;33m[\u001b[0m\u001b[1;34m'input'\u001b[0m\u001b[1;33m]\u001b[0m\u001b[1;33m,\u001b[0m \u001b[0mNUM_FILTERS\u001b[0m\u001b[1;33m,\u001b[0m \u001b[1;33m(\u001b[0m\u001b[0mFILTER_SIZE\u001b[0m\u001b[1;33m,\u001b[0m \u001b[1;36m1\u001b[0m\u001b[1;33m)\u001b[0m\u001b[1;33m)\u001b[0m\u001b[1;33m\u001b[0m\u001b[0m\n\u001b[0;32m      4\u001b[0m \u001b[0mnet\u001b[0m\u001b[1;33m[\u001b[0m\u001b[1;34m'conv2/5x1'\u001b[0m\u001b[1;33m]\u001b[0m \u001b[1;33m=\u001b[0m \u001b[0mlasagne\u001b[0m\u001b[1;33m.\u001b[0m\u001b[0mlayers\u001b[0m\u001b[1;33m.\u001b[0m\u001b[0mConv2DLayer\u001b[0m\u001b[1;33m(\u001b[0m\u001b[0mnet\u001b[0m\u001b[1;33m[\u001b[0m\u001b[1;34m'conv1/5x1'\u001b[0m\u001b[1;33m]\u001b[0m\u001b[1;33m,\u001b[0m \u001b[0mNUM_FILTERS\u001b[0m\u001b[1;33m,\u001b[0m \u001b[1;33m(\u001b[0m\u001b[0mFILTER_SIZE\u001b[0m\u001b[1;33m,\u001b[0m \u001b[1;36m1\u001b[0m\u001b[1;33m)\u001b[0m\u001b[1;33m)\u001b[0m\u001b[1;33m\u001b[0m\u001b[0m\n\u001b[0;32m      5\u001b[0m \u001b[0mnet\u001b[0m\u001b[1;33m[\u001b[0m\u001b[1;34m'conv3/5x1'\u001b[0m\u001b[1;33m]\u001b[0m \u001b[1;33m=\u001b[0m \u001b[0mlasagne\u001b[0m\u001b[1;33m.\u001b[0m\u001b[0mlayers\u001b[0m\u001b[1;33m.\u001b[0m\u001b[0mConv2DLayer\u001b[0m\u001b[1;33m(\u001b[0m\u001b[0mnet\u001b[0m\u001b[1;33m[\u001b[0m\u001b[1;34m'conv2/5x1'\u001b[0m\u001b[1;33m]\u001b[0m\u001b[1;33m,\u001b[0m \u001b[0mNUM_FILTERS\u001b[0m\u001b[1;33m,\u001b[0m \u001b[1;33m(\u001b[0m\u001b[0mFILTER_SIZE\u001b[0m\u001b[1;33m,\u001b[0m \u001b[1;36m1\u001b[0m\u001b[1;33m)\u001b[0m\u001b[1;33m)\u001b[0m\u001b[1;33m\u001b[0m\u001b[0m\n",
      "\u001b[1;31mNameError\u001b[0m: name 'lasagne' is not defined"
     ],
     "output_type": "error"
    }
   ],
   "source": [
    "net = {}\n",
    "net['input'] = lasagne.layers.InputLayer((BATCH_SIZE, 1, SLIDING_WINDOW_LENGTH, NB_SENSOR_CHANNELS))\n",
    "net['conv1/5x1'] = lasagne.layers.Conv2DLayer(net['input'], NUM_FILTERS, (FILTER_SIZE, 1))\n",
    "net['conv2/5x1'] = lasagne.layers.Conv2DLayer(net['conv1/5x1'], NUM_FILTERS, (FILTER_SIZE, 1))\n",
    "net['conv3/5x1'] = lasagne.layers.Conv2DLayer(net['conv2/5x1'], NUM_FILTERS, (FILTER_SIZE, 1))\n",
    "net['conv4/5x1'] = lasagne.layers.Conv2DLayer(net['conv3/5x1'], NUM_FILTERS, (FILTER_SIZE, 1))\n",
    "net['shuff'] = lasagne.layers.DimshuffleLayer(net['conv4/5x1'], (0, 2, 1, 3))\n",
    "net['lstm1'] = lasagne.layers.LSTMLayer(net['shuff'], NUM_UNITS_LSTM)\n",
    "net['lstm2'] = lasagne.layers.LSTMLayer(net['lstm1'], NUM_UNITS_LSTM)\n",
    "# In order to connect a recurrent layer to a dense layer, it is necessary to flatten the first two dimensions\n",
    "# to cause each time step of each sequence to be processed independently (see Lasagne docs for further information)\n",
    "net['shp1'] = lasagne.layers.ReshapeLayer(net['lstm2'], (-1, NUM_UNITS_LSTM))\n",
    "net['prob'] = lasagne.layers.DenseLayer(net['shp1'],NUM_CLASSES, nonlinearity=lasagne.nonlinearities.softmax)\n",
    "# Tensors reshaped back to the original shape\n",
    "net['shp2'] = lasagne.layers.ReshapeLayer(net['prob'], (BATCH_SIZE, FINAL_SEQUENCE_LENGTH, NUM_CLASSES))\n",
    "# Last sample in the sequence is considered\n",
    "net['output'] = lasagne.layers.SliceLayer(net['shp2'], -1, 1)"
   ]
  },
  {
   "cell_type": "heading",
   "metadata": {},
   "level": 3,
   "source": [
    "Load the model parameters"
   ]
  },
  {
   "cell_type": "code",
   "execution_count": 19,
   "metadata": {},
   "outputs": [],
   "source": [
    "# The model is populated with the weights of the pretrained network\n",
    "all_params_values = cp.load(open('weights/DeepConvLSTM_oppChallenge_gestures.pkl'))\n",
    "lasagne.layers.set_all_param_values(net['output'], all_params_values)"
   ]
  },
  {
   "cell_type": "heading",
   "metadata": {},
   "level": 3,
   "source": [
    "Run the model"
   ]
  },
  {
   "cell_type": "raw",
   "metadata": {},
   "source": [
    "Compile the Theano function required to classify the data"
   ]
  },
  {
   "cell_type": "code",
   "execution_count": 20,
   "metadata": {},
   "outputs": [
    {
     "name": "stderr",
     "output_type": "stream",
     "text": [
      "/usr/local/lib/python2.7/dist-packages/theano/scan_module/scan.py:1019: Warning: In the strict mode, all neccessary shared variables must be passed as a part of non_sequences\n",
      "  'must be passed as a part of non_sequences', Warning)\n",
      "/usr/local/lib/python2.7/dist-packages/theano/scan_module/scan_perform_ext.py:135: RuntimeWarning: numpy.ndarray size changed, may indicate binary incompatibility\n",
      "  from scan_perform.scan_perform import *\n"
     ]
    }
   ],
   "source": [
    "# Compilation of theano functions\n",
    "# Obtaining the probability distribution over classes\n",
    "test_prediction = lasagne.layers.get_output(net['output'], deterministic=True)\n",
    "# Returning the predicted output for the given minibatch\n",
    "test_fn =  theano.function([ net['input'].input_var], [T.argmax(test_prediction, axis=1)])"
   ]
  },
  {
   "cell_type": "raw",
   "metadata": {},
   "source": [
    "Testing data are segmented in minibatches and classified."
   ]
  },
  {
   "cell_type": "markdown",
   "metadata": {
    "collapsed": true
   },
   "source": [
    "def iterate_minibatches(inputs, targets, batchsize, shuffle=False):\n",
    "    assert len(inputs) == len(targets)\n",
    "    if shuffle:\n",
    "        indices = np.arange(len(inputs))\n",
    "        np.random.shuffle(indices)\n",
    "    for start_idx in range(0, len(inputs) - batchsize + 1, batchsize):\n",
    "        if shuffle:\n",
    "            excerpt = indices[start_idx:start_idx + batchsize]\n",
    "        else:\n",
    "            excerpt = slice(start_idx, start_idx + batchsize)\n",
    "        yield inputs[excerpt], targets[excerpt]\n",
    "        \n",
    "# Classification of the testing data\n",
    "print(\"Processing {0} instances in mini-batches of {1}\".format(X_test.shape[0],BATCH_SIZE))\n",
    "test_pred = np.empty((0))\n",
    "test_true = np.empty((0))\n",
    "start_time = time.time()\n",
    "for batch in iterate_minibatches(X_test, y_test, BATCH_SIZE):\n",
    "    inputs, targets = batch\n",
    "    y_pred, = test_fn(inputs)\n",
    "    test_pred = np.append(test_pred, y_pred, axis=0)\n",
    "    test_true = np.append(test_true, targets, axis=0)"
   ]
  },
  {
   "cell_type": "raw",
   "metadata": {},
   "source": [
    "Models is evaluated using the F-Measure, a measure that considers the correct classification of each class equally important. Class imbalance is countered by weighting classes according to their sample proportion."
   ]
  },
  {
   "cell_type": "code",
   "execution_count": 22,
   "metadata": {},
   "outputs": [
    {
     "name": "stdout",
     "output_type": "stream",
     "text": [
      "||Results||\n",
      "\tTook 35.687s.\n",
      "\tTest fscore:\t0.9157 "
     ]
    },
    {
     "name": "stdout",
     "output_type": "stream",
     "text": [
      "\n"
     ]
    }
   ],
   "source": [
    "# Results presentation\n",
    "print(\"||Results||\")\n",
    "print(\"\\tTook {:.3f}s.\".format( time.time() - start_time))\n",
    "import sklearn.metrics as metrics\n",
    "print(\"\\tTest fscore:\\t{:.4f} \".format(metrics.f1_score(test_true, test_pred, average='weighted')))"
   ]
  }
 ],
 "metadata": {
  "name": ""
 },
 "nbformat": 4,
 "nbformat_minor": 0
}